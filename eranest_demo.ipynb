{
 "cells": [
  {
   "cell_type": "code",
   "execution_count": null,
   "metadata": {},
   "outputs": [],
   "source": [
    "import eranest\n",
    "import datetime as dt"
   ]
  },
  {
   "cell_type": "code",
   "execution_count": null,
   "metadata": {},
   "outputs": [],
   "source": [
    "# eranest.era5ify(request_id, variables, start_date, end_date, json_file, frequency, resolution)\n",
    "# request_id : str, unique identifier for the request\n",
    "# variables : list, list of variables to download\n",
    "# start_date : datetime, start date of the data\n",
    "# end_date : datetime, end date of the data\n",
    "# json_file : str, path to the geojson file containing the area of interest\n",
    "# frequency : str, frequency of the data (hourly, daily, weekly, monthly, yearly), optional (hourly by default)\n",
    "# resolution : float, resolution of the data in degrees (0.1, 0.25, etc.), optional (0.25 by default)"
   ]
  },
  {
   "cell_type": "code",
   "execution_count": null,
   "metadata": {},
   "outputs": [],
   "source": [
    "df = eranest.era5ify(request_id = \"test\",\n",
    "                     variables = [\"2m_temperature\", \"total_precipitation\", \"surface_pressure\", \"2m_dewpoint_temperature\"],\n",
    "                     start_date = dt.datetime(2023, 1, 1),\n",
    "                     end_date = dt.datetime(2023, 1, 31),\n",
    "                     json_file = \"india.json\",\n",
    "                     frequency = \"daily\",\n",
    "                     resolution = \"0.25\")"
   ]
  },
  {
   "cell_type": "code",
   "execution_count": null,
   "metadata": {},
   "outputs": [],
   "source": [
    "df = eranest.era5ify(request_id = \"test2\",\n",
    "                     variables = [\"2m_temperature\", \"total_precipitation\"],\n",
    "                     start_date = dt.datetime(2024, 1, 1),\n",
    "                     end_date = dt.datetime(2024, 12, 31),\n",
    "                     json_file = \"latvia.geojson\",\n",
    "                     frequency = \"monthly\",\n",
    "                     resolution = \"0.1\")"
   ]
  },
  {
   "cell_type": "code",
   "execution_count": null,
   "metadata": {},
   "outputs": [],
   "source": []
  }
 ],
 "metadata": {
  "kernelspec": {
   "display_name": "Python 3",
   "language": "python",
   "name": "python3"
  },
  "language_info": {
   "codemirror_mode": {
    "name": "ipython",
    "version": 3
   },
   "file_extension": ".py",
   "mimetype": "text/x-python",
   "name": "python",
   "nbconvert_exporter": "python",
   "pygments_lexer": "ipython3",
   "version": "3.12.2"
  }
 },
 "nbformat": 4,
 "nbformat_minor": 2
}
