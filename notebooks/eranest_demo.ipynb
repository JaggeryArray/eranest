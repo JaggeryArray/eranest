{
 "cells": [
  {
   "cell_type": "code",
   "execution_count": 1,
   "metadata": {},
   "outputs": [],
   "source": [
    "import datetime as dt\n",
    "\n",
    "import eranest"
   ]
  },
  {
   "cell_type": "code",
   "execution_count": 2,
   "metadata": {},
   "outputs": [],
   "source": [
    "# eranest.era5ify(request_id, variables, start_date, end_date, json_file, frequency, resolution)\n",
    "# request_id : str, unique identifier for the request\n",
    "# variables : list, list of variables to download\n",
    "# start_date : datetime, start date of the data\n",
    "# end_date : datetime, end date of the data\n",
    "# json_file : str, path to the geojson file containing the area of interest\n",
    "# frequency : str, frequency of the data (hourly, daily, weekly, monthly, yearly), optional (hourly by default)\n",
    "# resolution : float, resolution of the data in degrees (0.1, 0.25, etc.), optional (0.25 by default)"
   ]
  },
  {
   "cell_type": "code",
   "execution_count": 3,
   "metadata": {},
   "outputs": [
    {
     "name": "stdout",
     "output_type": "stream",
     "text": [
      "Successfully loaded JSON file with utf-8 encoding\n",
      "Valid GeoJSON detected: ../data/india.json\n",
      "✓ CDS API configuration is already set up and valid.\n",
      "\n",
      "============================================================\n",
      "STARTING ERA5 DATA PROCESSING\n",
      "============================================================\n",
      "Request ID: test\n",
      "Variables: ['2m_temperature', 'total_precipitation', 'surface_pressure', '2m_dewpoint_temperature']\n",
      "Date Range: 2023-01-01 to 2023-01-31\n",
      "Frequency: daily\n",
      "Resolution: 0.25°\n",
      "GeoJSON File: ../data/india.json\n",
      "\n",
      "--- Input Validation ---\n",
      "✓ All inputs validated successfully\n",
      "\n",
      "--- Loading GeoJSON File ---\n",
      "Attempting to load: ../data/india.json\n",
      "  Trying encoding 1/4: utf-8\n",
      "✓ Successfully loaded GeoJSON file with utf-8 encoding\n",
      "✓ GeoJSON contains 1 feature(s)\n",
      "\n",
      "--- Calculating Bounding Box ---\n",
      "✓ Bounding Box calculated:\n",
      "  North: 35.4940°\n",
      "  South: 7.9655°\n",
      "  East:  97.4026°\n",
      "  West:  68.1766°\n",
      "  Area:  29.2259° × 27.5285°\n",
      "\n",
      "--- Determining Processing Strategy ---\n",
      "Using monthly dataset: False\n",
      "Total days to process: 31\n",
      "Max days per chunk: 14\n",
      "Needs chunking: True\n",
      "Will process 3 chunks C2\n",
      "\n",
      "==================================================\n",
      "CHUNK 1/3\n",
      "==================================================\n",
      "Processing: 2023-01-01 to 2023-01-14\n",
      "  → Downloading ERA5 data...\n",
      "Downloading ERA5 data for request: test_chunk1\n",
      "Date range: 2023-01-01 to 2023-01-14\n",
      "Area: North: 35.494009507787766, West: 68.1766451353734, South: 7.965534776232332, East: 97.40256147663614\n",
      "Variables: 2m_temperature, total_precipitation, surface_pressure, 2m_dewpoint_temperature\n",
      "Variable group: mixed\n",
      "Output format: .zip\n",
      "Grid Resolution: 0.25°\n"
     ]
    },
    {
     "name": "stderr",
     "output_type": "stream",
     "text": [
      "Recovering from connection error [HTTPSConnectionPool(host='cds.climate.copernicus.eu', port=443): Max retries exceeded with url: /api/v2/catalogue/v1/messages (Caused by ConnectTimeoutError(<urllib3.connection.HTTPSConnection object at 0x10d412120>, 'Connection to cds.climate.copernicus.eu timed out. (connect timeout=60)'))], attempt 1 of 500\n",
      "Retrying in 120 seconds\n",
      "/Users/saket/miniconda3/envs/eranest/lib/python3.13/site-packages/ecmwf/datastores/client.py:85: UserWarning: 404 Client Error: Not Found for url: https://cds.climate.copernicus.eu/api/v2/catalogue/v1/messages\n",
      "\n",
      "  warnings.warn(str(exc), UserWarning)\n",
      "  ✗ Error processing chunk 1: 404 Client Error: Not Found for url: https://cds.climate.copernicus.eu/api/v2/retrieve/v1/processes/reanalysis-era5-single-levels\n",
      "\n"
     ]
    },
    {
     "name": "stdout",
     "output_type": "stream",
     "text": [
      "  → Waiting 5 seconds before next chunk...\n",
      "\n",
      "==================================================\n",
      "CHUNK 2/3\n",
      "==================================================\n",
      "Processing: 2023-01-15 to 2023-01-28\n",
      "  → Downloading ERA5 data...\n",
      "Downloading ERA5 data for request: test_chunk2\n",
      "Date range: 2023-01-15 to 2023-01-28\n",
      "Area: North: 35.494009507787766, West: 68.1766451353734, South: 7.965534776232332, East: 97.40256147663614\n",
      "Variables: 2m_temperature, total_precipitation, surface_pressure, 2m_dewpoint_temperature\n",
      "Variable group: mixed\n",
      "Output format: .zip\n",
      "Grid Resolution: 0.25°\n"
     ]
    },
    {
     "name": "stderr",
     "output_type": "stream",
     "text": [
      "  ✗ Error processing chunk 2: 404 Client Error: Not Found for url: https://cds.climate.copernicus.eu/api/v2/retrieve/v1/processes/reanalysis-era5-single-levels\n",
      "\n"
     ]
    },
    {
     "name": "stdout",
     "output_type": "stream",
     "text": [
      "  → Waiting 5 seconds before next chunk...\n",
      "\n",
      "==================================================\n",
      "CHUNK 3/3\n",
      "==================================================\n",
      "Processing: 2023-01-29 to 2023-01-31\n",
      "  → Downloading ERA5 data...\n",
      "Downloading ERA5 data for request: test_chunk3\n",
      "Date range: 2023-01-29 to 2023-01-31\n",
      "Area: North: 35.494009507787766, West: 68.1766451353734, South: 7.965534776232332, East: 97.40256147663614\n",
      "Variables: 2m_temperature, total_precipitation, surface_pressure, 2m_dewpoint_temperature\n",
      "Variable group: mixed\n",
      "Output format: .zip\n",
      "Grid Resolution: 0.25°\n"
     ]
    },
    {
     "name": "stderr",
     "output_type": "stream",
     "text": [
      "  ✗ Error processing chunk 3: 404 Client Error: Not Found for url: https://cds.climate.copernicus.eu/api/v2/retrieve/v1/processes/reanalysis-era5-single-levels\n",
      "\n",
      "✗ No data was successfully processed from any chunk\n"
     ]
    },
    {
     "ename": "SystemExit",
     "evalue": "1",
     "output_type": "error",
     "traceback": [
      "An exception has occurred, use %tb to see the full traceback.\n",
      "\u001b[31mSystemExit\u001b[39m\u001b[31m:\u001b[39m 1\n"
     ]
    },
    {
     "name": "stderr",
     "output_type": "stream",
     "text": [
      "/Users/saket/miniconda3/envs/eranest/lib/python3.13/site-packages/IPython/core/interactiveshell.py:3675: UserWarning: To exit: use 'exit', 'quit', or Ctrl-D.\n",
      "  warn(\"To exit: use 'exit', 'quit', or Ctrl-D.\", stacklevel=1)\n"
     ]
    }
   ],
   "source": [
    "df = eranest.era5ify(\n",
    "    request_id=\"test\",\n",
    "    variables=[\n",
    "        \"2m_temperature\",\n",
    "        \"total_precipitation\",\n",
    "        \"surface_pressure\",\n",
    "        \"2m_dewpoint_temperature\",\n",
    "    ],\n",
    "    start_date=dt.datetime(2023, 1, 1),\n",
    "    end_date=dt.datetime(2023, 1, 31),\n",
    "    json_file=\"../data/india.json\",\n",
    "    frequency=\"daily\",\n",
    "    resolution=\"0.25\",\n",
    ")"
   ]
  },
  {
   "cell_type": "code",
   "execution_count": null,
   "metadata": {},
   "outputs": [],
   "source": [
    "df = eranest.era5ify(\n",
    "    request_id=\"test2\",\n",
    "    variables=[\"2m_temperature\", \"total_precipitation\"],\n",
    "    start_date=dt.datetime(2024, 1, 1),\n",
    "    end_date=dt.datetime(2024, 12, 31),\n",
    "    json_file=\"../data/latvia.geojson\",\n",
    "    frequency=\"monthly\",\n",
    "    resolution=\"0.1\",\n",
    ")"
   ]
  },
  {
   "cell_type": "code",
   "execution_count": null,
   "metadata": {},
   "outputs": [],
   "source": []
  }
 ],
 "metadata": {
  "kernelspec": {
   "display_name": "Python [conda env:eranest]",
   "language": "python",
   "name": "conda-env-eranest-py"
  },
  "language_info": {
   "codemirror_mode": {
    "name": "ipython",
    "version": 3
   },
   "file_extension": ".py",
   "mimetype": "text/x-python",
   "name": "python",
   "nbconvert_exporter": "python",
   "pygments_lexer": "ipython3",
   "version": "3.13.2"
  }
 },
 "nbformat": 4,
 "nbformat_minor": 4
}
