{
 "cells": [
  {
   "cell_type": "code",
   "execution_count": 3,
   "metadata": {
    "execution": {
     "iopub.execute_input": "2025-06-19T13:53:03.469981Z",
     "iopub.status.busy": "2025-06-19T13:53:03.468738Z",
     "iopub.status.idle": "2025-06-19T13:53:03.474443Z",
     "shell.execute_reply": "2025-06-19T13:53:03.473796Z",
     "shell.execute_reply.started": "2025-06-19T13:53:03.469917Z"
    }
   },
   "outputs": [],
   "source": [
    "import datetime as dt\n",
    "import sys\n",
    "import os\n",
    "import eranest\n"
   ]
  },
  {
   "cell_type": "code",
   "execution_count": 5,
   "metadata": {
    "execution": {
     "iopub.execute_input": "2025-06-19T13:53:47.825497Z",
     "iopub.status.busy": "2025-06-19T13:53:47.824753Z",
     "iopub.status.idle": "2025-06-19T13:53:47.832007Z",
     "shell.execute_reply": "2025-06-19T13:53:47.830016Z",
     "shell.execute_reply.started": "2025-06-19T13:53:47.825442Z"
    }
   },
   "outputs": [],
   "source": [
    "\n",
    "# - eranest.download_surface_data() for surface variables\n",
    "# - eranest.download_atmospheric_data() for pressure level data\n",
    "# - eranest.process_netcdf_dataset() for spatial filtering\n",
    "# - eranest.filter_by_geometry() for geometric operations\n",
    "# - eranest.validate_coordinates() for coordinate validation\n",
    "#"
   ]
  },
  {
   "cell_type": "code",
   "execution_count": 6,
   "metadata": {
    "execution": {
     "iopub.execute_input": "2025-06-19T13:53:59.624840Z",
     "iopub.status.busy": "2025-06-19T13:53:59.624103Z",
     "iopub.status.idle": "2025-06-19T13:54:26.532298Z",
     "shell.execute_reply": "2025-06-19T13:54:26.531212Z",
     "shell.execute_reply.started": "2025-06-19T13:53:59.624784Z"
    }
   },
   "outputs": [
    {
     "name": "stderr",
     "output_type": "stream",
     "text": [
      "2025-06-19 19:23:59,636 - eranest.download.era5 - INFO - Starting download for request: demo_surface\n",
      "2025-06-19 19:23:59,637 - eranest.download.era5 - INFO - Download attempt 1/4\n"
     ]
    },
    {
     "name": "stdout",
     "output_type": "stream",
     "text": [
      "🌡️ Example 1: Surface data download with bounding box\n",
      "\n",
      "📥 Downloading surface data...\n",
      "✓ CDS API configuration is already set up and valid.\n"
     ]
    },
    {
     "name": "stderr",
     "output_type": "stream",
     "text": [
      "2025-06-19 19:24:00,581 INFO [2025-06-16T00:00:00] CC-BY licence to replace Licence to use Copernicus Products on 02 July 2025. More information available [here](https://forum.ecmwf.int/t/cc-by-licence-to-replace-licence-to-use-copernicus-products-on-02-july-2025/13464)\n",
      "2025-06-19 19:24:00,583 INFO [2025-06-10T00:00:00] To improve our C3S service, we need to hear from you! Please complete this very short [survey](https://confluence.ecmwf.int/x/E7uBEQ/). Thank you.\n",
      "2025-06-19 19:24:00,584 INFO [2024-09-26T00:00:00] Watch our [Forum](https://forum.ecmwf.int/) for Announcements, news and other discussed topics.\n",
      "2025-06-19 19:24:01,439 INFO Request ID is 5e41e594-78a5-478e-804a-c7229d4a0c3a\n",
      "2025-06-19 19:24:01,675 INFO status has been updated to accepted\n",
      "2025-06-19 19:24:10,746 INFO status has been updated to running\n",
      "2025-06-19 19:24:23,819 INFO status has been updated to successful\n"
     ]
    },
    {
     "data": {
      "application/vnd.jupyter.widget-view+json": {
       "model_id": "1ccc061d568d49d1a50246d839713a13",
       "version_major": 2,
       "version_minor": 0
      },
      "text/plain": [
       "39858fd458618226d17ea85bc26ea222.zip:   0%|          | 0.00/465k [00:00<?, ?B/s]"
      ]
     },
     "metadata": {},
     "output_type": "display_data"
    },
    {
     "name": "stderr",
     "output_type": "stream",
     "text": [
      "2025-06-19 19:24:26,484 - eranest.download.era5 - INFO - Download completed successfully: ./demo_surface_surface.nc\n",
      "2025-06-19 19:24:26,486 - eranest.processing.data - INFO - Processing 1 NetCDF files...\n",
      "2025-06-19 19:24:26,520 - eranest.processing.data - ERROR - Error processing ./demo_surface_surface.nc: Failed to load NetCDF dataset demo_surface_surface.nc: did not find a match in any of xarray's currently installed IO backends ['netcdf4', 'scipy']. Consider explicitly selecting one of the installed engines via the ``engine`` parameter, or installing additional IO dependencies, see:\n",
      "https://docs.xarray.dev/en/stable/getting-started-guide/installing.html\n",
      "https://docs.xarray.dev/en/stable/user-guide/io.html\n",
      "2025-06-19 19:24:26,526 - eranest.processing.data - INFO - Processing completed in 0.04s\n",
      "2025-06-19 19:24:26,527 - eranest.processing.data - INFO - Memory usage: 0.4 MB\n",
      "2025-06-19 19:24:26,527 - eranest.processing.data - INFO - Records: 0 → 0 (filtered)\n"
     ]
    },
    {
     "name": "stdout",
     "output_type": "stream",
     "text": [
      "✅ Surface data downloaded to: ./demo_surface_surface.nc\n",
      "\n",
      "🔄 Processing downloaded data...\n",
      "✅ Processing completed!\n",
      "📊 Data shape: (0, 0)\n",
      "⏱️  Processing time: 0.04 seconds\n",
      "💾 Memory usage: 0.4 MB\n",
      "📈 Records processed: 0\n",
      "📍 Columns: []\n"
     ]
    }
   ],
   "source": [
    "# Example 1: Download surface data with bounding box\n",
    "print(\"🌡️ Example 1: Surface data download with bounding box\")\n",
    "\n",
    "try:\n",
    "    # Step 1: Download surface data\n",
    "    print(\"\\n📥 Downloading surface data...\")\n",
    "    surface_file = eranest.download_surface_data(\n",
    "        request_id=\"demo_surface\",\n",
    "        variables=[\"2m_temperature\", \"total_precipitation\", \"surface_pressure\", \"2m_dewpoint_temperature\"],\n",
    "        start_date=dt.datetime(2024, 1, 1),\n",
    "        end_date=dt.datetime(2024, 1, 2),\n",
    "        north=30, south=20, east=80, west=70,  # India region\n",
    "        frequency=eranest.DataFrequency.DAILY,\n",
    "        resolution=0.25\n",
    "    )\n",
    "    print(f\"✅ Surface data downloaded to: {surface_file}\")\n",
    "    \n",
    "    # Step 2: Process the data\n",
    "    print(\"\\n🔄 Processing downloaded data...\")\n",
    "    result = eranest.process_netcdf_dataset(\n",
    "        surface_file,\n",
    "        variables=[\"2m_temperature\", \"total_precipitation\", \"surface_pressure\", \"2m_dewpoint_temperature\"]\n",
    "    )\n",
    "    \n",
    "    print(f\"✅ Processing completed!\")\n",
    "    print(f\"📊 Data shape: {result.processed_data.shape}\")\n",
    "    print(f\"⏱️  Processing time: {result.processing_time:.2f} seconds\")\n",
    "    print(f\"💾 Memory usage: {result.memory_usage_mb:.1f} MB\")\n",
    "    print(f\"📈 Records processed: {result.records_processed}\")\n",
    "    print(f\"📍 Columns: {list(result.processed_data.columns)}\")\n",
    "    \n",
    "    df = result.processed_data\n",
    "    \n",
    "except Exception as e:\n",
    "    print(f\"❌ Error: {e}\")\n",
    "    print(\"💡 Check CDS API credentials and internet connection\")\n",
    "    df = None"
   ]
  },
  {
   "cell_type": "code",
   "execution_count": 7,
   "metadata": {
    "execution": {
     "iopub.execute_input": "2025-06-19T13:54:26.655085Z",
     "iopub.status.busy": "2025-06-19T13:54:26.654488Z",
     "iopub.status.idle": "2025-06-19T13:54:45.181347Z",
     "shell.execute_reply": "2025-06-19T13:54:45.180292Z",
     "shell.execute_reply.started": "2025-06-19T13:54:26.655036Z"
    }
   },
   "outputs": [
    {
     "name": "stderr",
     "output_type": "stream",
     "text": [
      "2025-06-19 19:24:26,664 - eranest.download.era5 - INFO - Starting download for request: demo_geojson\n",
      "2025-06-19 19:24:26,665 - eranest.download.era5 - INFO - Download attempt 1/4\n"
     ]
    },
    {
     "name": "stdout",
     "output_type": "stream",
     "text": [
      "🗺️ Example 2: Surface data with GeoJSON spatial filtering\n",
      "📁 Created demo GeoJSON: demo_region.geojson\n",
      "✅ GeoJSON validation: Valid\n",
      "📐 Bounding box: (75.0, 22.0, 78.0, 25.0)\n",
      "\n",
      "📥 Downloading surface data...\n",
      "✓ CDS API configuration is already set up and valid.\n"
     ]
    },
    {
     "name": "stderr",
     "output_type": "stream",
     "text": [
      "2025-06-19 19:24:27,238 INFO [2025-06-16T00:00:00] CC-BY licence to replace Licence to use Copernicus Products on 02 July 2025. More information available [here](https://forum.ecmwf.int/t/cc-by-licence-to-replace-licence-to-use-copernicus-products-on-02-july-2025/13464)\n",
      "2025-06-19 19:24:27,239 INFO [2025-06-10T00:00:00] To improve our C3S service, we need to hear from you! Please complete this very short [survey](https://confluence.ecmwf.int/x/E7uBEQ/). Thank you.\n",
      "2025-06-19 19:24:27,239 INFO [2024-09-26T00:00:00] Watch our [Forum](https://forum.ecmwf.int/) for Announcements, news and other discussed topics.\n",
      "2025-06-19 19:24:28,157 INFO Request ID is debd81f1-64d9-4ccb-a6b1-77886841149d\n",
      "2025-06-19 19:24:28,536 INFO status has been updated to accepted\n",
      "2025-06-19 19:24:37,689 INFO status has been updated to running\n",
      "2025-06-19 19:24:43,044 INFO status has been updated to successful\n"
     ]
    },
    {
     "data": {
      "application/vnd.jupyter.widget-view+json": {
       "model_id": "f6f5892bdee341e39943da289823683e",
       "version_major": 2,
       "version_minor": 0
      },
      "text/plain": [
       "4ce0d05416d6943b4179f204b9b66bf4.zip:   0%|          | 0.00/70.2k [00:00<?, ?B/s]"
      ]
     },
     "metadata": {},
     "output_type": "display_data"
    },
    {
     "name": "stderr",
     "output_type": "stream",
     "text": [
      "2025-06-19 19:24:45,171 - eranest.download.era5 - INFO - Download completed successfully: ./demo_geojson_surface.nc\n",
      "2025-06-19 19:24:45,173 - eranest.processing.data - INFO - Processing 1 NetCDF files...\n",
      "2025-06-19 19:24:45,175 - eranest.processing.data - ERROR - Error processing ./demo_geojson_surface.nc: Failed to load NetCDF dataset demo_geojson_surface.nc: did not find a match in any of xarray's currently installed IO backends ['netcdf4', 'scipy']. Consider explicitly selecting one of the installed engines via the ``engine`` parameter, or installing additional IO dependencies, see:\n",
      "https://docs.xarray.dev/en/stable/getting-started-guide/installing.html\n",
      "https://docs.xarray.dev/en/stable/user-guide/io.html\n",
      "2025-06-19 19:24:45,176 - eranest.processing.data - INFO - Processing completed in 0.00s\n",
      "2025-06-19 19:24:45,177 - eranest.processing.data - INFO - Memory usage: 0.0 MB\n",
      "2025-06-19 19:24:45,177 - eranest.processing.data - INFO - Records: 0 → 0 (filtered)\n"
     ]
    },
    {
     "name": "stdout",
     "output_type": "stream",
     "text": [
      "✅ Surface data downloaded to: ./demo_geojson_surface.nc\n",
      "\n",
      "🔄 Processing with GeoJSON spatial filtering...\n",
      "✅ Spatial filtering completed!\n",
      "📊 Filtered data shape: (0, 0)\n",
      "⏱️  Processing time: 0.00 seconds\n",
      "💾 Memory usage: 0.0 MB\n",
      "📈 Records: 0 → 0\n",
      "❌ Error: division by zero\n"
     ]
    }
   ],
   "source": [
    "# Example 2: Download and filter with GeoJSON geometry\n",
    "print(\"🗺️ Example 2: Surface data with GeoJSON spatial filtering\")\n",
    "\n",
    "try:\n",
    "    # Create a simple GeoJSON geometry for demonstration\n",
    "    demo_geojson = {\n",
    "        \"type\": \"FeatureCollection\",\n",
    "        \"features\": [{\n",
    "            \"type\": \"Feature\",\n",
    "            \"properties\": {\"name\": \"Demo Region\"},\n",
    "            \"geometry\": {\n",
    "                \"type\": \"Polygon\",\n",
    "                \"coordinates\": [[[75, 22], [78, 22], [78, 25], [75, 25], [75, 22]]]\n",
    "            }\n",
    "        }]\n",
    "    }\n",
    "    \n",
    "    # Save demo GeoJSON\n",
    "    import json\n",
    "    demo_geojson_path = \"demo_region.geojson\"\n",
    "    with open(demo_geojson_path, 'w') as f:\n",
    "        json.dump(demo_geojson, f, indent=2)\n",
    "    print(f\"📁 Created demo GeoJSON: {demo_geojson_path}\")\n",
    "    \n",
    "    # Validate the geometry\n",
    "    is_valid = eranest.validate_geojson(demo_geojson)\n",
    "    print(f\"✅ GeoJSON validation: {'Valid' if is_valid else 'Invalid'}\")\n",
    "    \n",
    "    # Extract bounding box\n",
    "    bbox = eranest.extract_bounding_box(demo_geojson)\n",
    "    print(f\"📐 Bounding box: {bbox}\")\n",
    "    \n",
    "    # Download surface data\n",
    "    print(\"\\n📥 Downloading surface data...\")\n",
    "    surface_file = eranest.download_surface_data(\n",
    "        request_id=\"demo_geojson\",\n",
    "        variables=[\"2m_temperature\", \"total_precipitation\"],\n",
    "        start_date=dt.datetime(2024, 1, 1),\n",
    "        end_date=dt.datetime(2024, 1, 2),\n",
    "        north=bbox[3], south=bbox[1], east=bbox[2], west=bbox[0],  # Use bounding box\n",
    "        frequency=eranest.DataFrequency.HOURLY,\n",
    "        resolution=0.25\n",
    "    )\n",
    "    print(f\"✅ Surface data downloaded to: {surface_file}\")\n",
    "    \n",
    "    # Process with spatial filtering\n",
    "    print(\"\\n🔄 Processing with GeoJSON spatial filtering...\")\n",
    "    result = eranest.process_netcdf_dataset(\n",
    "        surface_file,\n",
    "        geometry=demo_geojson_path,\n",
    "        variables=[\"2m_temperature\", \"total_precipitation\"]\n",
    "    )\n",
    "    \n",
    "    print(f\"✅ Spatial filtering completed!\")\n",
    "    print(f\"📊 Filtered data shape: {result.processed_data.shape}\")\n",
    "    print(f\"⏱️  Processing time: {result.processing_time:.2f} seconds\")\n",
    "    print(f\"💾 Memory usage: {result.memory_usage_mb:.1f} MB\")\n",
    "    print(f\"📈 Records: {result.records_processed} → {result.records_filtered}\")\n",
    "    print(f\"🎯 Spatial filtering efficiency: {result.records_filtered/result.records_processed*100:.1f}%\")\n",
    "    \n",
    "    df_filtered = result.processed_data\n",
    "    \n",
    "except Exception as e:\n",
    "    print(f\"❌ Error: {e}\")\n",
    "    df_filtered = None"
   ]
  },
  {
   "cell_type": "code",
   "execution_count": 8,
   "metadata": {
    "execution": {
     "iopub.execute_input": "2025-06-19T13:54:45.183074Z",
     "iopub.status.busy": "2025-06-19T13:54:45.182849Z",
     "iopub.status.idle": "2025-06-19T13:55:42.250479Z",
     "shell.execute_reply": "2025-06-19T13:55:42.250133Z",
     "shell.execute_reply.started": "2025-06-19T13:54:45.183053Z"
    }
   },
   "outputs": [
    {
     "name": "stderr",
     "output_type": "stream",
     "text": [
      "2025-06-19 19:24:45,190 - eranest.download.era5 - INFO - Starting download for request: demo_atmospheric\n",
      "2025-06-19 19:24:45,191 - eranest.download.era5 - INFO - Download attempt 1/4\n"
     ]
    },
    {
     "name": "stdout",
     "output_type": "stream",
     "text": [
      "🌪️ Example 3: Atmospheric pressure-level data\n",
      "🗺️  Coordinates validation: ✅ Valid\n",
      "\n",
      "📥 Downloading atmospheric data...\n",
      "✓ CDS API configuration is already set up and valid.\n"
     ]
    },
    {
     "name": "stderr",
     "output_type": "stream",
     "text": [
      "2025-06-19 19:24:45,765 INFO [2025-06-16T00:00:00] CC-BY licence to replace Licence to use Copernicus Products on 02 July 2025. More information available [here](https://forum.ecmwf.int/t/cc-by-licence-to-replace-licence-to-use-copernicus-products-on-02-july-2025/13464)\n",
      "2025-06-19 19:24:45,766 INFO [2025-06-10T00:00:00] To improve our C3S service, we need to hear from you! Please complete this very short [survey](https://confluence.ecmwf.int/x/E7uBEQ/). Thank you.\n",
      "2025-06-19 19:24:45,767 INFO [2024-09-26T00:00:00] Watch our [Forum](https://forum.ecmwf.int/) for Announcements, news and other discussed topics.\n",
      "2025-06-19 19:24:46,479 INFO Request ID is 63d32226-150f-44c6-bee0-c582c44292de\n",
      "2025-06-19 19:24:46,687 INFO status has been updated to accepted\n",
      "2025-06-19 19:24:55,852 INFO status has been updated to running\n",
      "2025-06-19 19:25:37,854 INFO status has been updated to successful\n"
     ]
    },
    {
     "data": {
      "application/vnd.jupyter.widget-view+json": {
       "model_id": "1cf27b43934b4a35bfe565d0c4290592",
       "version_major": 2,
       "version_minor": 0
      },
      "text/plain": [
       "a6d98482c74ba3366179ec79939e12d4.nc:   0%|          | 0.00/438k [00:00<?, ?B/s]"
      ]
     },
     "metadata": {},
     "output_type": "display_data"
    },
    {
     "name": "stderr",
     "output_type": "stream",
     "text": [
      "2025-06-19 19:25:40,254 - eranest.download.era5 - INFO - Download completed successfully: ./demo_atmospheric_atmospheric.nc\n",
      "2025-06-19 19:25:40,256 - eranest.processing.data - INFO - Processing 1 NetCDF files...\n"
     ]
    },
    {
     "name": "stdout",
     "output_type": "stream",
     "text": [
      "✅ Atmospheric data downloaded to: ./demo_atmospheric_atmospheric.nc\n",
      "\n",
      "🔄 Processing atmospheric data...\n"
     ]
    },
    {
     "name": "stderr",
     "output_type": "stream",
     "text": [
      "2025-06-19 19:25:42,246 - eranest.processing.data - WARNING - No requested variables found in ./demo_atmospheric_atmospheric.nc\n",
      "2025-06-19 19:25:42,248 - eranest.processing.data - INFO - Processing completed in 1.99s\n",
      "2025-06-19 19:25:42,248 - eranest.processing.data - INFO - Memory usage: 8.1 MB\n",
      "2025-06-19 19:25:42,248 - eranest.processing.data - INFO - Records: 0 → 0 (filtered)\n"
     ]
    },
    {
     "name": "stdout",
     "output_type": "stream",
     "text": [
      "✅ Atmospheric processing completed!\n",
      "📊 Data shape: (0, 0)\n",
      "⏱️  Processing time: 1.99 seconds\n",
      "💾 Memory usage: 8.1 MB\n",
      "📈 Records processed: 0\n"
     ]
    }
   ],
   "source": [
    "# Example 3: Atmospheric data download\n",
    "print(\"🌪️ Example 3: Atmospheric pressure-level data\")\n",
    "\n",
    "try:\n",
    "    # Validate coordinates first\n",
    "    is_valid = eranest.validate_coordinates(25.0, 75.0)  # Center point\n",
    "    print(f\"🗺️  Coordinates validation: {'✅ Valid' if is_valid else '❌ Invalid'}\")\n",
    "    \n",
    "    # Download atmospheric data\n",
    "    print(\"\\n📥 Downloading atmospheric data...\")\n",
    "    atmospheric_file = eranest.download_atmospheric_data(\n",
    "        request_id=\"demo_atmospheric\",\n",
    "        variables=[\"temperature\", \"u_component_of_wind\", \"v_component_of_wind\"],\n",
    "        start_date=dt.datetime(2024, 1, 1),\n",
    "        end_date=dt.datetime(2024, 1, 2),\n",
    "        pressure_levels=[\"850\", \"500\", \"250\"],  # Key pressure levels\n",
    "        north=30, south=20, east=80, west=70,\n",
    "        frequency=eranest.DataFrequency.DAILY,\n",
    "        resolution=0.5\n",
    "    )\n",
    "    print(f\"✅ Atmospheric data downloaded to: {atmospheric_file}\")\n",
    "    \n",
    "    # Process the atmospheric data\n",
    "    print(\"\\n🔄 Processing atmospheric data...\")\n",
    "    result = eranest.process_netcdf_dataset(\n",
    "        atmospheric_file,\n",
    "        variables=[\"temperature\", \"u_component_of_wind\", \"v_component_of_wind\"]\n",
    "    )\n",
    "    \n",
    "    print(f\"✅ Atmospheric processing completed!\")\n",
    "    print(f\"📊 Data shape: {result.processed_data.shape}\")\n",
    "    print(f\"⏱️  Processing time: {result.processing_time:.2f} seconds\")\n",
    "    print(f\"💾 Memory usage: {result.memory_usage_mb:.1f} MB\")\n",
    "    print(f\"📈 Records processed: {result.records_processed}\")\n",
    "    \n",
    "    # Show pressure level distribution\n",
    "    if 'level' in result.processed_data.columns:\n",
    "        levels = sorted(result.processed_data['level'].unique())\n",
    "        print(f\"🌀 Pressure levels: {levels} hPa\")\n",
    "    \n",
    "    df_atmospheric = result.processed_data\n",
    "    \n",
    "except Exception as e:\n",
    "    print(f\"❌ Error: {e}\")\n",
    "    df_atmospheric = None"
   ]
  },
  {
   "cell_type": "code",
   "execution_count": 9,
   "metadata": {
    "execution": {
     "iopub.execute_input": "2025-06-19T13:55:42.251153Z",
     "iopub.status.busy": "2025-06-19T13:55:42.251032Z",
     "iopub.status.idle": "2025-06-19T13:58:08.744359Z",
     "shell.execute_reply": "2025-06-19T13:58:08.743716Z",
     "shell.execute_reply.started": "2025-06-19T13:55:42.251140Z"
    }
   },
   "outputs": [
    {
     "name": "stderr",
     "output_type": "stream",
     "text": [
      "2025-06-19 19:25:42,255 - eranest.download.era5 - INFO - Starting download for request: demo_performance\n",
      "2025-06-19 19:25:42,255 - eranest.download.era5 - INFO - Download attempt 1/4\n"
     ]
    },
    {
     "name": "stdout",
     "output_type": "stream",
     "text": [
      "📈 Example 4: Advanced processing with performance monitoring\n",
      "\n",
      "📥 Downloading data with parallel processing...\n",
      "✓ CDS API configuration is already set up and valid.\n"
     ]
    },
    {
     "name": "stderr",
     "output_type": "stream",
     "text": [
      "2025-06-19 19:25:42,819 INFO [2025-06-16T00:00:00] CC-BY licence to replace Licence to use Copernicus Products on 02 July 2025. More information available [here](https://forum.ecmwf.int/t/cc-by-licence-to-replace-licence-to-use-copernicus-products-on-02-july-2025/13464)\n",
      "2025-06-19 19:25:42,820 INFO [2025-06-10T00:00:00] To improve our C3S service, we need to hear from you! Please complete this very short [survey](https://confluence.ecmwf.int/x/E7uBEQ/). Thank you.\n",
      "2025-06-19 19:25:42,821 INFO [2024-09-26T00:00:00] Watch our [Forum](https://forum.ecmwf.int/) for Announcements, news and other discussed topics.\n",
      "Recovering from HTTP error [500 Internal Server Error], attempt 1 of 500\n",
      "Retrying in 120 seconds\n",
      "2025-06-19 19:27:44,205 INFO Request ID is 52a18c98-523d-4a1e-903d-b9bbfea55c8a\n",
      "2025-06-19 19:27:44,443 INFO status has been updated to accepted\n",
      "2025-06-19 19:27:58,825 INFO status has been updated to running\n",
      "2025-06-19 19:28:06,625 INFO status has been updated to successful\n"
     ]
    },
    {
     "data": {
      "application/vnd.jupyter.widget-view+json": {
       "model_id": "970e71798086467690d93376dccd3443",
       "version_major": 2,
       "version_minor": 0
      },
      "text/plain": [
       "dc230b2cf5d0e8c1e6356363baa39781.zip:   0%|          | 0.00/123k [00:00<?, ?B/s]"
      ]
     },
     "metadata": {},
     "output_type": "display_data"
    },
    {
     "name": "stderr",
     "output_type": "stream",
     "text": [
      "2025-06-19 19:28:08,733 - eranest.download.era5 - INFO - Download completed successfully: ./demo_performance_surface.nc\n",
      "2025-06-19 19:28:08,734 - eranest.processing.data - INFO - Processing 1 NetCDF files...\n",
      "2025-06-19 19:28:08,737 - eranest.processing.data - ERROR - Error processing ./demo_performance_surface.nc: Failed to load NetCDF dataset demo_performance_surface.nc: did not find a match in any of xarray's currently installed IO backends ['netcdf4', 'scipy']. Consider explicitly selecting one of the installed engines via the ``engine`` parameter, or installing additional IO dependencies, see:\n",
      "https://docs.xarray.dev/en/stable/getting-started-guide/installing.html\n",
      "https://docs.xarray.dev/en/stable/user-guide/io.html\n",
      "2025-06-19 19:28:08,739 - eranest.processing.data - INFO - Processing completed in 0.00s\n",
      "2025-06-19 19:28:08,739 - eranest.processing.data - INFO - Memory usage: 0.0 MB\n",
      "2025-06-19 19:28:08,740 - eranest.processing.data - INFO - Records: 0 → 0 (filtered)\n"
     ]
    },
    {
     "name": "stdout",
     "output_type": "stream",
     "text": [
      "✅ Data downloaded: ./demo_performance_surface.nc\n",
      "\n",
      "🔄 Processing with memory optimization...\n",
      "✅ Advanced processing completed!\n",
      "📊 Data shape: (0, 0)\n",
      "⏱️  Processing time: 0.00 seconds\n",
      "💾 Memory usage: 0.0 MB\n",
      "📈 Records: 0 → 0\n",
      "\n",
      "📅 Performing temporal aggregation...\n",
      "❌ Error: Time column 'time' not found in DataFrame\n"
     ]
    }
   ],
   "source": [
    "# Example 4: Performance monitoring and data aggregation\n",
    "print(\"📈 Example 4: Advanced processing with performance monitoring\")\n",
    "\n",
    "try:\n",
    "    # Download data with performance monitoring\n",
    "    print(\"\\n📥 Downloading data with parallel processing...\")\n",
    "    surface_file = eranest.download_surface_data(\n",
    "        request_id=\"demo_performance\",\n",
    "        variables=[\"2m_temperature\", \"total_precipitation\"],\n",
    "        start_date=dt.datetime(2024, 1, 1),\n",
    "        end_date=dt.datetime(2024, 1, 3),  # 3 days\n",
    "        north=25, south=20, east=80, west=75,\n",
    "        frequency=eranest.DataFrequency.HOURLY,\n",
    "        resolution=0.25,\n",
    "        parallel_downloads=True,\n",
    "        max_workers=4\n",
    "    )\n",
    "    print(f\"✅ Data downloaded: {surface_file}\")\n",
    "    \n",
    "    # Process with chunked processing for memory efficiency\n",
    "    print(\"\\n🔄 Processing with memory optimization...\")\n",
    "    from eranest.processing import DataProcessor\n",
    "    \n",
    "    processor = DataProcessor(\n",
    "        chunk_size=1000,\n",
    "        max_memory_mb=512,\n",
    "        parallel_processing=True,\n",
    "        use_dask=False  # Optional: set to True if Dask is available\n",
    "    )\n",
    "    \n",
    "    result = processor.process_netcdf_files(\n",
    "        [surface_file],\n",
    "        variables=[\"2m_temperature\", \"total_precipitation\"]\n",
    "    )\n",
    "    \n",
    "    print(f\"✅ Advanced processing completed!\")\n",
    "    print(f\"📊 Data shape: {result.processed_data.shape}\")\n",
    "    print(f\"⏱️  Processing time: {result.processing_time:.2f} seconds\")\n",
    "    print(f\"💾 Memory usage: {result.memory_usage_mb:.1f} MB\")\n",
    "    print(f\"📈 Records: {result.records_processed} → {result.records_filtered}\")\n",
    "    \n",
    "    # Temporal aggregation\n",
    "    print(\"\\n📅 Performing temporal aggregation...\")\n",
    "    daily_avg = eranest.aggregate_temporal_data(\n",
    "        result.processed_data,\n",
    "        frequency=eranest.DataFrequency.DAILY,\n",
    "        method=\"mean\"\n",
    "    )\n",
    "    \n",
    "    print(f\"✅ Temporal aggregation completed!\")\n",
    "    print(f\"📊 Daily averages shape: {daily_avg.shape}\")\n",
    "    print(f\"📅 Date range: {daily_avg['time'].min()} to {daily_avg['time'].max()}\")\n",
    "    \n",
    "    df_performance = result.processed_data\n",
    "    df_daily = daily_avg\n",
    "    \n",
    "except Exception as e:\n",
    "    print(f\"❌ Error: {e}\")\n",
    "    df_performance = None\n",
    "    df_daily = None"
   ]
  },
  {
   "cell_type": "code",
   "execution_count": 10,
   "metadata": {
    "execution": {
     "iopub.execute_input": "2025-06-19T13:58:08.746051Z",
     "iopub.status.busy": "2025-06-19T13:58:08.745849Z",
     "iopub.status.idle": "2025-06-19T13:58:08.756966Z",
     "shell.execute_reply": "2025-06-19T13:58:08.756425Z",
     "shell.execute_reply.started": "2025-06-19T13:58:08.746015Z"
    }
   },
   "outputs": [
    {
     "name": "stdout",
     "output_type": "stream",
     "text": [
      "🌟 Example 5: Available constants and advanced features\n",
      "\n",
      "📊 Available constants and configurations:\n",
      "🌀 Aurora pressure levels: ['50', '100', '150', '200', '250', '300', '400', '500', '600', '700', '850', '925', '1000']\n",
      "🌡️  Default surface variables: ['2m_temperature', '10m_u_component_of_wind', '10m_v_component_of_wind', 'mean_sea_level_pressure']\n",
      "🌪️  Default atmospheric variables: ['temperature', 'u_component_of_wind', 'v_component_of_wind', 'specific_humidity', 'geopotential']\n",
      "🗺️  Default static variables: ['geopotential', 'land_sea_mask', 'soil_type']\n",
      "📅 Available data frequencies: ['hourly', 'daily', 'weekly', 'monthly', 'yearly']\n",
      "\n",
      "🔧 Available utility functions:\n",
      "   • validate_coordinates() - Coordinate validation\n",
      "   • validate_geojson() - GeoJSON validation\n",
      "   • extract_bounding_box() - Bounding box extraction\n",
      "   • load_json_file() / save_json_file() - JSON file operations\n",
      "   • validate_date_range() - Date range validation\n",
      "\n",
      "🚀 Performance features:\n",
      "   • Parallel downloads with configurable workers\n",
      "   • Memory-optimized chunked processing\n",
      "   • Spatial indexing for geometric operations\n",
      "   • Real-time performance monitoring\n",
      "   • Automatic memory management\n",
      "   • Progress tracking for long operations\n",
      "\n",
      "🤖 Aurora integration:\n",
      "   • create_aurora_batch() - ERA5 to Aurora conversion\n",
      "   • AuroraConverter class for advanced conversions\n",
      "   • Automatic variable name mapping\n",
      "   • Tensor optimization for PyTorch\n",
      "\n",
      "📍 Coordinate validation examples:\n",
      "   (  25.0,    75.0): ✅ Valid\n",
      "   (   0.0,     0.0): ✅ Valid\n",
      "   (  90.0,   180.0): ✅ Valid\n",
      "   (  95.0,    75.0): ❌ Invalid\n",
      "   (  25.0,   190.0): ✅ Valid\n",
      "\n",
      "✅ eranest modern API showcase completed!\n",
      "\n",
      "📚 Next steps:\n",
      "   • Try eranest_aurora.ipynb for Microsoft Aurora integration\n",
      "   • Check the documentation for advanced usage patterns\n",
      "   • Use help(eranest.function_name) for detailed function docs\n",
      "   • Explore the modular API for custom workflows\n"
     ]
    }
   ],
   "source": [
    "# Example 5: Constants and configurations showcase\n",
    "print(\"🌟 Example 5: Available constants and advanced features\")\n",
    "\n",
    "try:\n",
    "    print(\"\\n📊 Available constants and configurations:\")\n",
    "    print(f\"🌀 Aurora pressure levels: {eranest.AURORA_PRESSURE_LEVELS}\")\n",
    "    print(f\"🌡️  Default surface variables: {eranest.DEFAULT_SURFACE_VARIABLES}\")\n",
    "    print(f\"🌪️  Default atmospheric variables: {eranest.DEFAULT_ATMOSPHERIC_VARIABLES}\")\n",
    "    print(f\"🗺️  Default static variables: {eranest.DEFAULT_STATIC_VARIABLES}\")\n",
    "    print(f\"📅 Available data frequencies: {[freq.value for freq in eranest.DataFrequency]}\")\n",
    "    \n",
    "    print(f\"\\n🔧 Available utility functions:\")\n",
    "    print(f\"   • validate_coordinates() - Coordinate validation\")\n",
    "    print(f\"   • validate_geojson() - GeoJSON validation\")\n",
    "    print(f\"   • extract_bounding_box() - Bounding box extraction\")\n",
    "    print(f\"   • load_json_file() / save_json_file() - JSON file operations\")\n",
    "    print(f\"   • validate_date_range() - Date range validation\")\n",
    "    \n",
    "    print(f\"\\n🚀 Performance features:\")\n",
    "    print(f\"   • Parallel downloads with configurable workers\")\n",
    "    print(f\"   • Memory-optimized chunked processing\")\n",
    "    print(f\"   • Spatial indexing for geometric operations\")\n",
    "    print(f\"   • Real-time performance monitoring\")\n",
    "    print(f\"   • Automatic memory management\")\n",
    "    print(f\"   • Progress tracking for long operations\")\n",
    "    \n",
    "    print(f\"\\n🤖 Aurora integration:\")\n",
    "    print(f\"   • create_aurora_batch() - ERA5 to Aurora conversion\")\n",
    "    print(f\"   • AuroraConverter class for advanced conversions\")\n",
    "    print(f\"   • Automatic variable name mapping\")\n",
    "    print(f\"   • Tensor optimization for PyTorch\")\n",
    "    \n",
    "    # Demonstrate coordinate validation\n",
    "    print(f\"\\n📍 Coordinate validation examples:\")\n",
    "    test_coords = [\n",
    "        (25.0, 75.0),   # Valid\n",
    "        (0.0, 0.0),     # Valid (equator/prime meridian)\n",
    "        (90.0, 180.0),  # Valid (pole)\n",
    "        (95.0, 75.0),   # Invalid latitude\n",
    "        (25.0, 190.0)   # Invalid longitude\n",
    "    ]\n",
    "    \n",
    "    for lat, lon in test_coords:\n",
    "        try:\n",
    "            is_valid = eranest.validate_coordinates(lat, lon, strict=False)\n",
    "            status = \"✅ Valid\" if is_valid else \"❌ Invalid\"\n",
    "            print(f\"   ({lat:6.1f}, {lon:7.1f}): {status}\")\n",
    "        except Exception as e:\n",
    "            print(f\"   ({lat:6.1f}, {lon:7.1f}): ❌ Error - {e}\")\n",
    "    \n",
    "    print(f\"\\n✅ eranest modern API showcase completed!\")\n",
    "    \n",
    "except Exception as e:\n",
    "    print(f\"❌ Error: {e}\")\n",
    "\n",
    "print(\"\\n📚 Next steps:\")\n",
    "print(\"   • Try eranest_aurora.ipynb for Microsoft Aurora integration\")\n",
    "print(\"   • Check the documentation for advanced usage patterns\")\n",
    "print(\"   • Use help(eranest.function_name) for detailed function docs\")\n",
    "print(\"   • Explore the modular API for custom workflows\")"
   ]
  },
  {
   "cell_type": "code",
   "execution_count": null,
   "metadata": {},
   "outputs": [],
   "source": []
  },
  {
   "cell_type": "code",
   "execution_count": null,
   "metadata": {},
   "outputs": [],
   "source": []
  }
 ],
 "metadata": {
  "kernelspec": {
   "display_name": "Python [conda env:base] *",
   "language": "python",
   "name": "conda-base-py"
  },
  "language_info": {
   "codemirror_mode": {
    "name": "ipython",
    "version": 3
   },
   "file_extension": ".py",
   "mimetype": "text/x-python",
   "name": "python",
   "nbconvert_exporter": "python",
   "pygments_lexer": "ipython3",
   "version": "3.11.12"
  }
 },
 "nbformat": 4,
 "nbformat_minor": 4
}
