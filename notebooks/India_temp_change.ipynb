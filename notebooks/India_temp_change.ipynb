{
 "cells": [
  {
   "cell_type": "markdown",
   "metadata": {
    "execution": {
     "iopub.execute_input": "2025-07-15T17:54:57.930578Z",
     "iopub.status.busy": "2025-07-15T17:54:57.926902Z",
     "iopub.status.idle": "2025-07-15T17:54:57.937203Z",
     "shell.execute_reply": "2025-07-15T17:54:57.936416Z",
     "shell.execute_reply.started": "2025-07-15T17:54:57.930422Z"
    }
   },
   "source": [
    "# Visualising climate change in India\n",
    "\n",
    "In this vignette, we demonstrate the use of varunayan for visualizsing the change in average temeperatre from 1941 to 2024.\n"
   ]
  },
  {
   "cell_type": "code",
   "execution_count": 1,
   "metadata": {
    "execution": {
     "iopub.execute_input": "2025-07-15T18:03:49.340292Z",
     "iopub.status.busy": "2025-07-15T18:03:49.339724Z",
     "iopub.status.idle": "2025-07-15T18:09:27.454747Z",
     "shell.execute_reply": "2025-07-15T18:09:27.454301Z",
     "shell.execute_reply.started": "2025-07-15T18:03:49.340264Z"
    }
   },
   "outputs": [
    {
     "name": "stdout",
     "output_type": "stream",
     "text": [
      "\u001b[0m✓ CDS API configuration is already set up and valid.\u001b[0m\n",
      "\u001b[0m\n",
      "============================================================\u001b[0m\n",
      "\u001b[0m\u001b[0;34mSTARTING ERA5 SINGLE LEVEL PROCESSING\u001b[0m\u001b[0m\n",
      "\u001b[0m============================================================\u001b[0m\n",
      "\u001b[0mRequest ID: temp_india_yearly\u001b[0m\n",
      "\u001b[0mVariables: ['2m_temperature']\u001b[0m\n",
      "\u001b[0mDate Range: 1941-01-01 to 2024-12-31\u001b[0m\n",
      "\u001b[0mFrequency: yearly\u001b[0m\n",
      "\u001b[0mResolution: 0.25°\u001b[0m\n",
      "\u001b[0mGeoJSON File: /var/folders/gl/sfjd74gn0wv11h31lr8v2cj40000gn/T/temp_india_yearly_temp_geojson.json\u001b[0m\n",
      "\u001b[0m\u001b[0;32m✓ All inputs validated successfully\u001b[0m\u001b[0m\n",
      "\u001b[0m\n",
      "--- Bounding Box ---\u001b[0m\n",
      "\u001b[0m\u001b[0;32m✓ Bounding Box calculated:\u001b[0m\u001b[0m\n",
      "\u001b[0m  North: 35.4940°\u001b[0m\n",
      "\u001b[0m  South: 7.9655°\u001b[0m\n",
      "\u001b[0m  East:  97.4026°\u001b[0m\n",
      "\u001b[0m  West:  68.1766°\u001b[0m\n",
      "\u001b[0m  Area:  29.2259° × 27.5285°\u001b[0m\n",
      "\n",
      "\n",
      "--- GeoJSON Mini Map ---\n",
      "\n",
      "\u001b[0;34mMINI MAP (68.18°W to 97.40°E, 7.97°S to 35.49°N):\u001b[0m\n",
      "┌─────────────────────────────────────────┐\n",
      "│\u001b[0;31m·\u001b[0m\u001b[0;31m·\u001b[0m\u001b[0;31m·\u001b[0m\u001b[0;31m·\u001b[0m\u001b[0;31m·\u001b[0m\u001b[0;31m·\u001b[0m\u001b[0;31m·\u001b[0m\u001b[0;31m·\u001b[0m\u001b[0;31m·\u001b[0m\u001b[0;31m·\u001b[0m\u001b[0;31m·\u001b[0m\u001b[0;31m·\u001b[0m\u001b[0;31m·\u001b[0m\u001b[0;31m·\u001b[0m\u001b[0;31m·\u001b[0m\u001b[0;31m·\u001b[0m\u001b[0;31m·\u001b[0m\u001b[0;31m·\u001b[0m\u001b[0;31m·\u001b[0m\u001b[0;31m·\u001b[0m\u001b[0;31m·\u001b[0m\u001b[0;31m·\u001b[0m\u001b[0;31m·\u001b[0m\u001b[0;31m·\u001b[0m\u001b[0;31m·\u001b[0m\u001b[0;31m·\u001b[0m\u001b[0;31m·\u001b[0m\u001b[0;31m·\u001b[0m\u001b[0;31m·\u001b[0m\u001b[0;31m·\u001b[0m\u001b[0;31m·\u001b[0m\u001b[0;31m·\u001b[0m\u001b[0;31m·\u001b[0m\u001b[0;31m·\u001b[0m\u001b[0;31m·\u001b[0m\u001b[0;31m·\u001b[0m\u001b[0;31m·\u001b[0m\u001b[0;31m·\u001b[0m\u001b[0;31m·\u001b[0m\u001b[0;31m·\u001b[0m\u001b[0;31m·\u001b[0m│\n",
      "│\u001b[0;31m·\u001b[0m\u001b[0;31m·\u001b[0m\u001b[0;31m·\u001b[0m\u001b[0;31m·\u001b[0m\u001b[0;31m·\u001b[0m\u001b[0;31m·\u001b[0m\u001b[0;31m·\u001b[0m\u001b[0;31m·\u001b[0m\u001b[0;32m■\u001b[0m\u001b[0;32m■\u001b[0m\u001b[0;32m■\u001b[0m\u001b[0;32m■\u001b[0m\u001b[0;32m■\u001b[0m\u001b[0;32m■\u001b[0m\u001b[0;32m■\u001b[0m\u001b[0;31m·\u001b[0m\u001b[0;31m·\u001b[0m\u001b[0;31m·\u001b[0m\u001b[0;31m·\u001b[0m\u001b[0;31m·\u001b[0m\u001b[0;31m·\u001b[0m\u001b[0;31m·\u001b[0m\u001b[0;31m·\u001b[0m\u001b[0;31m·\u001b[0m\u001b[0;31m·\u001b[0m\u001b[0;31m·\u001b[0m\u001b[0;31m·\u001b[0m\u001b[0;31m·\u001b[0m\u001b[0;31m·\u001b[0m\u001b[0;31m·\u001b[0m\u001b[0;31m·\u001b[0m\u001b[0;31m·\u001b[0m\u001b[0;31m·\u001b[0m\u001b[0;31m·\u001b[0m\u001b[0;31m·\u001b[0m\u001b[0;31m·\u001b[0m\u001b[0;31m·\u001b[0m\u001b[0;31m·\u001b[0m\u001b[0;31m·\u001b[0m\u001b[0;31m·\u001b[0m\u001b[0;31m·\u001b[0m│\n",
      "│\u001b[0;31m·\u001b[0m\u001b[0;31m·\u001b[0m\u001b[0;31m·\u001b[0m\u001b[0;31m·\u001b[0m\u001b[0;31m·\u001b[0m\u001b[0;31m·\u001b[0m\u001b[0;31m·\u001b[0m\u001b[0;31m·\u001b[0m\u001b[0;31m·\u001b[0m\u001b[0;31m·\u001b[0m\u001b[0;32m■\u001b[0m\u001b[0;32m■\u001b[0m\u001b[0;32m■\u001b[0m\u001b[0;32m■\u001b[0m\u001b[0;32m■\u001b[0m\u001b[0;31m·\u001b[0m\u001b[0;31m·\u001b[0m\u001b[0;31m·\u001b[0m\u001b[0;31m·\u001b[0m\u001b[0;31m·\u001b[0m\u001b[0;31m·\u001b[0m\u001b[0;31m·\u001b[0m\u001b[0;31m·\u001b[0m\u001b[0;31m·\u001b[0m\u001b[0;31m·\u001b[0m\u001b[0;31m·\u001b[0m\u001b[0;31m·\u001b[0m\u001b[0;31m·\u001b[0m\u001b[0;31m·\u001b[0m\u001b[0;31m·\u001b[0m\u001b[0;31m·\u001b[0m\u001b[0;31m·\u001b[0m\u001b[0;31m·\u001b[0m\u001b[0;31m·\u001b[0m\u001b[0;31m·\u001b[0m\u001b[0;31m·\u001b[0m\u001b[0;31m·\u001b[0m\u001b[0;31m·\u001b[0m\u001b[0;31m·\u001b[0m\u001b[0;31m·\u001b[0m\u001b[0;31m·\u001b[0m│\n",
      "│\u001b[0;31m·\u001b[0m\u001b[0;31m·\u001b[0m\u001b[0;31m·\u001b[0m\u001b[0;31m·\u001b[0m\u001b[0;31m·\u001b[0m\u001b[0;31m·\u001b[0m\u001b[0;31m·\u001b[0m\u001b[0;31m·\u001b[0m\u001b[0;31m·\u001b[0m\u001b[0;32m■\u001b[0m\u001b[0;32m■\u001b[0m\u001b[0;32m■\u001b[0m\u001b[0;32m■\u001b[0m\u001b[0;32m■\u001b[0m\u001b[0;32m■\u001b[0m\u001b[0;32m■\u001b[0m\u001b[0;31m·\u001b[0m\u001b[0;31m·\u001b[0m\u001b[0;31m·\u001b[0m\u001b[0;31m·\u001b[0m\u001b[0;31m·\u001b[0m\u001b[0;31m·\u001b[0m\u001b[0;31m·\u001b[0m\u001b[0;31m·\u001b[0m\u001b[0;31m·\u001b[0m\u001b[0;31m·\u001b[0m\u001b[0;31m·\u001b[0m\u001b[0;31m·\u001b[0m\u001b[0;31m·\u001b[0m\u001b[0;31m·\u001b[0m\u001b[0;31m·\u001b[0m\u001b[0;31m·\u001b[0m\u001b[0;31m·\u001b[0m\u001b[0;31m·\u001b[0m\u001b[0;31m·\u001b[0m\u001b[0;31m·\u001b[0m\u001b[0;31m·\u001b[0m\u001b[0;31m·\u001b[0m\u001b[0;31m·\u001b[0m\u001b[0;31m·\u001b[0m\u001b[0;31m·\u001b[0m│\n",
      "│\u001b[0;31m·\u001b[0m\u001b[0;31m·\u001b[0m\u001b[0;31m·\u001b[0m\u001b[0;31m·\u001b[0m\u001b[0;31m·\u001b[0m\u001b[0;31m·\u001b[0m\u001b[0;31m·\u001b[0m\u001b[0;32m■\u001b[0m\u001b[0;32m■\u001b[0m\u001b[0;32m■\u001b[0m\u001b[0;32m■\u001b[0m\u001b[0;32m■\u001b[0m\u001b[0;32m■\u001b[0m\u001b[0;32m■\u001b[0m\u001b[0;32m■\u001b[0m\u001b[0;32m■\u001b[0m\u001b[0;32m■\u001b[0m\u001b[0;31m·\u001b[0m\u001b[0;31m·\u001b[0m\u001b[0;31m·\u001b[0m\u001b[0;31m·\u001b[0m\u001b[0;31m·\u001b[0m\u001b[0;31m·\u001b[0m\u001b[0;31m·\u001b[0m\u001b[0;31m·\u001b[0m\u001b[0;31m·\u001b[0m\u001b[0;31m·\u001b[0m\u001b[0;31m·\u001b[0m\u001b[0;31m·\u001b[0m\u001b[0;31m·\u001b[0m\u001b[0;31m·\u001b[0m\u001b[0;31m·\u001b[0m\u001b[0;31m·\u001b[0m\u001b[0;31m·\u001b[0m\u001b[0;31m·\u001b[0m\u001b[0;31m·\u001b[0m\u001b[0;31m·\u001b[0m\u001b[0;31m·\u001b[0m\u001b[0;31m·\u001b[0m\u001b[0;31m·\u001b[0m\u001b[0;31m·\u001b[0m│\n",
      "│\u001b[0;31m·\u001b[0m\u001b[0;31m·\u001b[0m\u001b[0;31m·\u001b[0m\u001b[0;31m·\u001b[0m\u001b[0;32m■\u001b[0m\u001b[0;32m■\u001b[0m\u001b[0;32m■\u001b[0m\u001b[0;32m■\u001b[0m\u001b[0;32m■\u001b[0m\u001b[0;32m■\u001b[0m\u001b[0;32m■\u001b[0m\u001b[0;32m■\u001b[0m\u001b[0;32m■\u001b[0m\u001b[0;32m■\u001b[0m\u001b[0;32m■\u001b[0m\u001b[0;32m■\u001b[0m\u001b[0;32m■\u001b[0m\u001b[0;32m■\u001b[0m\u001b[0;32m■\u001b[0m\u001b[0;32m■\u001b[0m\u001b[0;31m·\u001b[0m\u001b[0;31m·\u001b[0m\u001b[0;31m·\u001b[0m\u001b[0;31m·\u001b[0m\u001b[0;31m·\u001b[0m\u001b[0;31m·\u001b[0m\u001b[0;31m·\u001b[0m\u001b[0;31m·\u001b[0m\u001b[0;32m■\u001b[0m\u001b[0;31m·\u001b[0m\u001b[0;31m·\u001b[0m\u001b[0;31m·\u001b[0m\u001b[0;31m·\u001b[0m\u001b[0;32m■\u001b[0m\u001b[0;32m■\u001b[0m\u001b[0;32m■\u001b[0m\u001b[0;32m■\u001b[0m\u001b[0;32m■\u001b[0m\u001b[0;32m■\u001b[0m\u001b[0;32m■\u001b[0m\u001b[0;31m·\u001b[0m│\n",
      "│\u001b[0;31m·\u001b[0m\u001b[0;31m·\u001b[0m\u001b[0;31m·\u001b[0m\u001b[0;32m■\u001b[0m\u001b[0;32m■\u001b[0m\u001b[0;32m■\u001b[0m\u001b[0;32m■\u001b[0m\u001b[0;32m■\u001b[0m\u001b[0;32m■\u001b[0m\u001b[0;32m■\u001b[0m\u001b[0;32m■\u001b[0m\u001b[0;32m■\u001b[0m\u001b[0;32m■\u001b[0m\u001b[0;32m■\u001b[0m\u001b[0;32m■\u001b[0m\u001b[0;32m■\u001b[0m\u001b[0;32m■\u001b[0m\u001b[0;32m■\u001b[0m\u001b[0;32m■\u001b[0m\u001b[0;32m■\u001b[0m\u001b[0;32m■\u001b[0m\u001b[0;32m■\u001b[0m\u001b[0;32m■\u001b[0m\u001b[0;32m■\u001b[0m\u001b[0;32m■\u001b[0m\u001b[0;32m■\u001b[0m\u001b[0;32m■\u001b[0m\u001b[0;32m■\u001b[0m\u001b[0;31m·\u001b[0m\u001b[0;32m■\u001b[0m\u001b[0;32m■\u001b[0m\u001b[0;32m■\u001b[0m\u001b[0;32m■\u001b[0m\u001b[0;32m■\u001b[0m\u001b[0;32m■\u001b[0m\u001b[0;32m■\u001b[0m\u001b[0;32m■\u001b[0m\u001b[0;31m·\u001b[0m\u001b[0;31m·\u001b[0m\u001b[0;31m·\u001b[0m\u001b[0;31m·\u001b[0m│\n",
      "│\u001b[0;31m·\u001b[0m\u001b[0;31m·\u001b[0m\u001b[0;31m·\u001b[0m\u001b[0;31m·\u001b[0m\u001b[0;32m■\u001b[0m\u001b[0;32m■\u001b[0m\u001b[0;32m■\u001b[0m\u001b[0;32m■\u001b[0m\u001b[0;32m■\u001b[0m\u001b[0;32m■\u001b[0m\u001b[0;32m■\u001b[0m\u001b[0;32m■\u001b[0m\u001b[0;32m■\u001b[0m\u001b[0;32m■\u001b[0m\u001b[0;32m■\u001b[0m\u001b[0;32m■\u001b[0m\u001b[0;32m■\u001b[0m\u001b[0;32m■\u001b[0m\u001b[0;32m■\u001b[0m\u001b[0;32m■\u001b[0m\u001b[0;32m■\u001b[0m\u001b[0;32m■\u001b[0m\u001b[0;32m■\u001b[0m\u001b[0;32m■\u001b[0m\u001b[0;32m■\u001b[0m\u001b[0;32m■\u001b[0m\u001b[0;32m■\u001b[0m\u001b[0;32m■\u001b[0m\u001b[0;31m·\u001b[0m\u001b[0;31m·\u001b[0m\u001b[0;31m·\u001b[0m\u001b[0;31m·\u001b[0m\u001b[0;31m·\u001b[0m\u001b[0;32m■\u001b[0m\u001b[0;32m■\u001b[0m\u001b[0;32m■\u001b[0m\u001b[0;32m■\u001b[0m\u001b[0;31m·\u001b[0m\u001b[0;31m·\u001b[0m\u001b[0;31m·\u001b[0m\u001b[0;31m·\u001b[0m│\n",
      "│\u001b[0;31m·\u001b[0m\u001b[0;32m■\u001b[0m\u001b[0;32m■\u001b[0m\u001b[0;32m■\u001b[0m\u001b[0;32m■\u001b[0m\u001b[0;32m■\u001b[0m\u001b[0;32m■\u001b[0m\u001b[0;32m■\u001b[0m\u001b[0;32m■\u001b[0m\u001b[0;32m■\u001b[0m\u001b[0;32m■\u001b[0m\u001b[0;32m■\u001b[0m\u001b[0;32m■\u001b[0m\u001b[0;32m■\u001b[0m\u001b[0;32m■\u001b[0m\u001b[0;32m■\u001b[0m\u001b[0;32m■\u001b[0m\u001b[0;32m■\u001b[0m\u001b[0;32m■\u001b[0m\u001b[0;32m■\u001b[0m\u001b[0;32m■\u001b[0m\u001b[0;32m■\u001b[0m\u001b[0;32m■\u001b[0m\u001b[0;32m■\u001b[0m\u001b[0;32m■\u001b[0m\u001b[0;32m■\u001b[0m\u001b[0;32m■\u001b[0m\u001b[0;32m■\u001b[0m\u001b[0;32m■\u001b[0m\u001b[0;31m·\u001b[0m\u001b[0;31m·\u001b[0m\u001b[0;31m·\u001b[0m\u001b[0;32m■\u001b[0m\u001b[0;32m■\u001b[0m\u001b[0;32m■\u001b[0m\u001b[0;31m·\u001b[0m\u001b[0;31m·\u001b[0m\u001b[0;31m·\u001b[0m\u001b[0;31m·\u001b[0m\u001b[0;31m·\u001b[0m\u001b[0;31m·\u001b[0m│\n",
      "│\u001b[0;31m·\u001b[0m\u001b[0;31m·\u001b[0m\u001b[0;32m■\u001b[0m\u001b[0;32m■\u001b[0m\u001b[0;32m■\u001b[0m\u001b[0;32m■\u001b[0m\u001b[0;32m■\u001b[0m\u001b[0;32m■\u001b[0m\u001b[0;32m■\u001b[0m\u001b[0;32m■\u001b[0m\u001b[0;32m■\u001b[0m\u001b[0;32m■\u001b[0m\u001b[0;32m■\u001b[0m\u001b[0;32m■\u001b[0m\u001b[0;32m■\u001b[0m\u001b[0;32m■\u001b[0m\u001b[0;32m■\u001b[0m\u001b[0;32m■\u001b[0m\u001b[0;32m■\u001b[0m\u001b[0;32m■\u001b[0m\u001b[0;32m■\u001b[0m\u001b[0;32m■\u001b[0m\u001b[0;32m■\u001b[0m\u001b[0;32m■\u001b[0m\u001b[0;32m■\u001b[0m\u001b[0;32m■\u001b[0m\u001b[0;32m■\u001b[0m\u001b[0;32m■\u001b[0m\u001b[0;32m■\u001b[0m\u001b[0;31m·\u001b[0m\u001b[0;31m·\u001b[0m\u001b[0;31m·\u001b[0m\u001b[0;31m·\u001b[0m\u001b[0;31m·\u001b[0m\u001b[0;31m·\u001b[0m\u001b[0;31m·\u001b[0m\u001b[0;31m·\u001b[0m\u001b[0;31m·\u001b[0m\u001b[0;31m·\u001b[0m\u001b[0;31m·\u001b[0m\u001b[0;31m·\u001b[0m│\n",
      "│\u001b[0;31m·\u001b[0m\u001b[0;31m·\u001b[0m\u001b[0;31m·\u001b[0m\u001b[0;31m·\u001b[0m\u001b[0;31m·\u001b[0m\u001b[0;31m·\u001b[0m\u001b[0;31m·\u001b[0m\u001b[0;32m■\u001b[0m\u001b[0;32m■\u001b[0m\u001b[0;32m■\u001b[0m\u001b[0;32m■\u001b[0m\u001b[0;32m■\u001b[0m\u001b[0;32m■\u001b[0m\u001b[0;32m■\u001b[0m\u001b[0;32m■\u001b[0m\u001b[0;32m■\u001b[0m\u001b[0;32m■\u001b[0m\u001b[0;32m■\u001b[0m\u001b[0;32m■\u001b[0m\u001b[0;32m■\u001b[0m\u001b[0;32m■\u001b[0m\u001b[0;32m■\u001b[0m\u001b[0;32m■\u001b[0m\u001b[0;32m■\u001b[0m\u001b[0;32m■\u001b[0m\u001b[0;32m■\u001b[0m\u001b[0;31m·\u001b[0m\u001b[0;31m·\u001b[0m\u001b[0;31m·\u001b[0m\u001b[0;31m·\u001b[0m\u001b[0;31m·\u001b[0m\u001b[0;31m·\u001b[0m\u001b[0;31m·\u001b[0m\u001b[0;31m·\u001b[0m\u001b[0;31m·\u001b[0m\u001b[0;31m·\u001b[0m\u001b[0;31m·\u001b[0m\u001b[0;31m·\u001b[0m\u001b[0;31m·\u001b[0m\u001b[0;31m·\u001b[0m\u001b[0;31m·\u001b[0m│\n",
      "│\u001b[0;31m·\u001b[0m\u001b[0;31m·\u001b[0m\u001b[0;31m·\u001b[0m\u001b[0;31m·\u001b[0m\u001b[0;31m·\u001b[0m\u001b[0;31m·\u001b[0m\u001b[0;31m·\u001b[0m\u001b[0;32m■\u001b[0m\u001b[0;32m■\u001b[0m\u001b[0;32m■\u001b[0m\u001b[0;32m■\u001b[0m\u001b[0;32m■\u001b[0m\u001b[0;32m■\u001b[0m\u001b[0;32m■\u001b[0m\u001b[0;32m■\u001b[0m\u001b[0;32m■\u001b[0m\u001b[0;32m■\u001b[0m\u001b[0;32m■\u001b[0m\u001b[0;32m■\u001b[0m\u001b[0;32m■\u001b[0m\u001b[0;32m■\u001b[0m\u001b[0;32m■\u001b[0m\u001b[0;32m■\u001b[0m\u001b[0;31m·\u001b[0m\u001b[0;31m·\u001b[0m\u001b[0;31m·\u001b[0m\u001b[0;31m·\u001b[0m\u001b[0;31m·\u001b[0m\u001b[0;31m·\u001b[0m\u001b[0;31m·\u001b[0m\u001b[0;31m·\u001b[0m\u001b[0;31m·\u001b[0m\u001b[0;31m·\u001b[0m\u001b[0;31m·\u001b[0m\u001b[0;31m·\u001b[0m\u001b[0;31m·\u001b[0m\u001b[0;31m·\u001b[0m\u001b[0;31m·\u001b[0m\u001b[0;31m·\u001b[0m\u001b[0;31m·\u001b[0m\u001b[0;31m·\u001b[0m│\n",
      "│\u001b[0;31m·\u001b[0m\u001b[0;31m·\u001b[0m\u001b[0;31m·\u001b[0m\u001b[0;31m·\u001b[0m\u001b[0;31m·\u001b[0m\u001b[0;31m·\u001b[0m\u001b[0;31m·\u001b[0m\u001b[0;32m■\u001b[0m\u001b[0;32m■\u001b[0m\u001b[0;32m■\u001b[0m\u001b[0;32m■\u001b[0m\u001b[0;32m■\u001b[0m\u001b[0;32m■\u001b[0m\u001b[0;32m■\u001b[0m\u001b[0;32m■\u001b[0m\u001b[0;32m■\u001b[0m\u001b[0;32m■\u001b[0m\u001b[0;32m■\u001b[0m\u001b[0;32m■\u001b[0m\u001b[0;32m■\u001b[0m\u001b[0;31m·\u001b[0m\u001b[0;31m·\u001b[0m\u001b[0;31m·\u001b[0m\u001b[0;31m·\u001b[0m\u001b[0;31m·\u001b[0m\u001b[0;31m·\u001b[0m\u001b[0;31m·\u001b[0m\u001b[0;31m·\u001b[0m\u001b[0;31m·\u001b[0m\u001b[0;31m·\u001b[0m\u001b[0;31m·\u001b[0m\u001b[0;31m·\u001b[0m\u001b[0;31m·\u001b[0m\u001b[0;31m·\u001b[0m\u001b[0;31m·\u001b[0m\u001b[0;31m·\u001b[0m\u001b[0;31m·\u001b[0m\u001b[0;31m·\u001b[0m\u001b[0;31m·\u001b[0m\u001b[0;31m·\u001b[0m\u001b[0;31m·\u001b[0m│\n",
      "│\u001b[0;31m·\u001b[0m\u001b[0;31m·\u001b[0m\u001b[0;31m·\u001b[0m\u001b[0;31m·\u001b[0m\u001b[0;31m·\u001b[0m\u001b[0;31m·\u001b[0m\u001b[0;31m·\u001b[0m\u001b[0;31m·\u001b[0m\u001b[0;32m■\u001b[0m\u001b[0;32m■\u001b[0m\u001b[0;32m■\u001b[0m\u001b[0;32m■\u001b[0m\u001b[0;32m■\u001b[0m\u001b[0;32m■\u001b[0m\u001b[0;32m■\u001b[0m\u001b[0;32m■\u001b[0m\u001b[0;32m■\u001b[0m\u001b[0;31m·\u001b[0m\u001b[0;31m·\u001b[0m\u001b[0;31m·\u001b[0m\u001b[0;31m·\u001b[0m\u001b[0;31m·\u001b[0m\u001b[0;31m·\u001b[0m\u001b[0;31m·\u001b[0m\u001b[0;31m·\u001b[0m\u001b[0;31m·\u001b[0m\u001b[0;31m·\u001b[0m\u001b[0;31m·\u001b[0m\u001b[0;31m·\u001b[0m\u001b[0;31m·\u001b[0m\u001b[0;31m·\u001b[0m\u001b[0;31m·\u001b[0m\u001b[0;31m·\u001b[0m\u001b[0;31m·\u001b[0m\u001b[0;31m·\u001b[0m\u001b[0;31m·\u001b[0m\u001b[0;31m·\u001b[0m\u001b[0;31m·\u001b[0m\u001b[0;31m·\u001b[0m\u001b[0;31m·\u001b[0m\u001b[0;31m·\u001b[0m│\n",
      "│\u001b[0;31m·\u001b[0m\u001b[0;31m·\u001b[0m\u001b[0;31m·\u001b[0m\u001b[0;31m·\u001b[0m\u001b[0;31m·\u001b[0m\u001b[0;31m·\u001b[0m\u001b[0;31m·\u001b[0m\u001b[0;31m·\u001b[0m\u001b[0;31m·\u001b[0m\u001b[0;32m■\u001b[0m\u001b[0;32m■\u001b[0m\u001b[0;32m■\u001b[0m\u001b[0;32m■\u001b[0m\u001b[0;32m■\u001b[0m\u001b[0;32m■\u001b[0m\u001b[0;32m■\u001b[0m\u001b[0;32m■\u001b[0m\u001b[0;31m·\u001b[0m\u001b[0;31m·\u001b[0m\u001b[0;31m·\u001b[0m\u001b[0;31m·\u001b[0m\u001b[0;31m·\u001b[0m\u001b[0;31m·\u001b[0m\u001b[0;31m·\u001b[0m\u001b[0;31m·\u001b[0m\u001b[0;31m·\u001b[0m\u001b[0;31m·\u001b[0m\u001b[0;31m·\u001b[0m\u001b[0;31m·\u001b[0m\u001b[0;31m·\u001b[0m\u001b[0;31m·\u001b[0m\u001b[0;31m·\u001b[0m\u001b[0;31m·\u001b[0m\u001b[0;31m·\u001b[0m\u001b[0;31m·\u001b[0m\u001b[0;31m·\u001b[0m\u001b[0;31m·\u001b[0m\u001b[0;31m·\u001b[0m\u001b[0;31m·\u001b[0m\u001b[0;31m·\u001b[0m\u001b[0;31m·\u001b[0m│\n",
      "│\u001b[0;31m·\u001b[0m\u001b[0;31m·\u001b[0m\u001b[0;31m·\u001b[0m\u001b[0;31m·\u001b[0m\u001b[0;31m·\u001b[0m\u001b[0;31m·\u001b[0m\u001b[0;31m·\u001b[0m\u001b[0;31m·\u001b[0m\u001b[0;31m·\u001b[0m\u001b[0;31m·\u001b[0m\u001b[0;32m■\u001b[0m\u001b[0;32m■\u001b[0m\u001b[0;32m■\u001b[0m\u001b[0;32m■\u001b[0m\u001b[0;32m■\u001b[0m\u001b[0;32m■\u001b[0m\u001b[0;32m■\u001b[0m\u001b[0;31m·\u001b[0m\u001b[0;31m·\u001b[0m\u001b[0;31m·\u001b[0m\u001b[0;31m·\u001b[0m\u001b[0;31m·\u001b[0m\u001b[0;31m·\u001b[0m\u001b[0;31m·\u001b[0m\u001b[0;31m·\u001b[0m\u001b[0;31m·\u001b[0m\u001b[0;31m·\u001b[0m\u001b[0;31m·\u001b[0m\u001b[0;31m·\u001b[0m\u001b[0;31m·\u001b[0m\u001b[0;31m·\u001b[0m\u001b[0;31m·\u001b[0m\u001b[0;31m·\u001b[0m\u001b[0;31m·\u001b[0m\u001b[0;31m·\u001b[0m\u001b[0;31m·\u001b[0m\u001b[0;31m·\u001b[0m\u001b[0;31m·\u001b[0m\u001b[0;31m·\u001b[0m\u001b[0;31m·\u001b[0m\u001b[0;31m·\u001b[0m│\n",
      "│\u001b[0;31m·\u001b[0m\u001b[0;31m·\u001b[0m\u001b[0;31m·\u001b[0m\u001b[0;31m·\u001b[0m\u001b[0;31m·\u001b[0m\u001b[0;31m·\u001b[0m\u001b[0;31m·\u001b[0m\u001b[0;31m·\u001b[0m\u001b[0;31m·\u001b[0m\u001b[0;31m·\u001b[0m\u001b[0;31m·\u001b[0m\u001b[0;32m■\u001b[0m\u001b[0;32m■\u001b[0m\u001b[0;32m■\u001b[0m\u001b[0;32m■\u001b[0m\u001b[0;32m■\u001b[0m\u001b[0;31m·\u001b[0m\u001b[0;31m·\u001b[0m\u001b[0;31m·\u001b[0m\u001b[0;31m·\u001b[0m\u001b[0;31m·\u001b[0m\u001b[0;31m·\u001b[0m\u001b[0;31m·\u001b[0m\u001b[0;31m·\u001b[0m\u001b[0;31m·\u001b[0m\u001b[0;31m·\u001b[0m\u001b[0;31m·\u001b[0m\u001b[0;31m·\u001b[0m\u001b[0;31m·\u001b[0m\u001b[0;31m·\u001b[0m\u001b[0;31m·\u001b[0m\u001b[0;31m·\u001b[0m\u001b[0;31m·\u001b[0m\u001b[0;31m·\u001b[0m\u001b[0;31m·\u001b[0m\u001b[0;31m·\u001b[0m\u001b[0;31m·\u001b[0m\u001b[0;31m·\u001b[0m\u001b[0;31m·\u001b[0m\u001b[0;31m·\u001b[0m\u001b[0;31m·\u001b[0m│\n",
      "│\u001b[0;31m·\u001b[0m\u001b[0;31m·\u001b[0m\u001b[0;31m·\u001b[0m\u001b[0;31m·\u001b[0m\u001b[0;31m·\u001b[0m\u001b[0;31m·\u001b[0m\u001b[0;31m·\u001b[0m\u001b[0;31m·\u001b[0m\u001b[0;31m·\u001b[0m\u001b[0;31m·\u001b[0m\u001b[0;31m·\u001b[0m\u001b[0;31m·\u001b[0m\u001b[0;32m■\u001b[0m\u001b[0;32m■\u001b[0m\u001b[0;32m■\u001b[0m\u001b[0;31m·\u001b[0m\u001b[0;31m·\u001b[0m\u001b[0;31m·\u001b[0m\u001b[0;31m·\u001b[0m\u001b[0;31m·\u001b[0m\u001b[0;31m·\u001b[0m\u001b[0;31m·\u001b[0m\u001b[0;31m·\u001b[0m\u001b[0;31m·\u001b[0m\u001b[0;31m·\u001b[0m\u001b[0;31m·\u001b[0m\u001b[0;31m·\u001b[0m\u001b[0;31m·\u001b[0m\u001b[0;31m·\u001b[0m\u001b[0;31m·\u001b[0m\u001b[0;31m·\u001b[0m\u001b[0;31m·\u001b[0m\u001b[0;31m·\u001b[0m\u001b[0;31m·\u001b[0m\u001b[0;31m·\u001b[0m\u001b[0;31m·\u001b[0m\u001b[0;31m·\u001b[0m\u001b[0;31m·\u001b[0m\u001b[0;31m·\u001b[0m\u001b[0;31m·\u001b[0m\u001b[0;31m·\u001b[0m│\n",
      "│\u001b[0;31m·\u001b[0m\u001b[0;31m·\u001b[0m\u001b[0;31m·\u001b[0m\u001b[0;31m·\u001b[0m\u001b[0;31m·\u001b[0m\u001b[0;31m·\u001b[0m\u001b[0;31m·\u001b[0m\u001b[0;31m·\u001b[0m\u001b[0;31m·\u001b[0m\u001b[0;31m·\u001b[0m\u001b[0;31m·\u001b[0m\u001b[0;31m·\u001b[0m\u001b[0;31m·\u001b[0m\u001b[0;31m·\u001b[0m\u001b[0;31m·\u001b[0m\u001b[0;31m·\u001b[0m\u001b[0;31m·\u001b[0m\u001b[0;31m·\u001b[0m\u001b[0;31m·\u001b[0m\u001b[0;31m·\u001b[0m\u001b[0;31m·\u001b[0m\u001b[0;31m·\u001b[0m\u001b[0;31m·\u001b[0m\u001b[0;31m·\u001b[0m\u001b[0;31m·\u001b[0m\u001b[0;31m·\u001b[0m\u001b[0;31m·\u001b[0m\u001b[0;31m·\u001b[0m\u001b[0;31m·\u001b[0m\u001b[0;31m·\u001b[0m\u001b[0;31m·\u001b[0m\u001b[0;31m·\u001b[0m\u001b[0;31m·\u001b[0m\u001b[0;31m·\u001b[0m\u001b[0;31m·\u001b[0m\u001b[0;31m·\u001b[0m\u001b[0;31m·\u001b[0m\u001b[0;31m·\u001b[0m\u001b[0;31m·\u001b[0m\u001b[0;31m·\u001b[0m\u001b[0;31m·\u001b[0m│\n",
      "└─────────────────────────────────────────┘\n",
      " \u001b[0;32m■\u001b[0m = Inside the shape\n",
      " \u001b[0;31m·\u001b[0m = Outside the shape\n",
      "\u001b[0m\n",
      "--- Processing Strategy ---\u001b[0m\n",
      "\u001b[0mUsing monthly dataset: True\u001b[0m\n",
      "\u001b[0mTotal months to process: 1008\u001b[0m\n",
      "\u001b[0mMax months per chunk: 100\u001b[0m\n",
      "\u001b[0mNeeds chunking: True\u001b[0m\n",
      "\u001b[0m\u001b[0;36mPROCESSING CHUNK 1/11\u001b[0m\n",
      "Date Range: 1941-01-01 to 1949-04-30\n",
      "Variables:  2m_temperature\u001b[0m\n",
      "\u001b[0m  → Downloading ERA5 data (attempt 1/6)...\u001b[0m\n"
     ]
    },
    {
     "name": "stderr",
     "output_type": "stream",
     "text": [
      "2025-07-15 23:33:50,711 INFO [2024-09-26T00:00:00] Watch our [Forum](https://forum.ecmwf.int/) for Announcements, news and other discussed topics.\n",
      "INFO:ecmwf.datastores.legacy_client:[2024-09-26T00:00:00] Watch our [Forum](https://forum.ecmwf.int/) for Announcements, news and other discussed topics.\n",
      "2025-07-15 23:33:52,157 INFO Request ID is 47cf0915-4597-42ef-ac93-f710394b0d89\n",
      "INFO:ecmwf.datastores.legacy_client:Request ID is 47cf0915-4597-42ef-ac93-f710394b0d89\n",
      "2025-07-15 23:33:52,367 INFO status has been updated to accepted\n",
      "INFO:ecmwf.datastores.legacy_client:status has been updated to accepted\n",
      "2025-07-15 23:34:01,511 INFO status has been updated to running\n",
      "INFO:ecmwf.datastores.legacy_client:status has been updated to running\n",
      "2025-07-15 23:34:06,756 INFO status has been updated to successful\n",
      "INFO:ecmwf.datastores.legacy_client:status has been updated to successful\n"
     ]
    },
    {
     "data": {
      "application/vnd.jupyter.widget-view+json": {
       "model_id": "012f76410ab94cc0aaf8f058cc8b61ee",
       "version_major": 2,
       "version_minor": 0
      },
      "text/plain": [
       "11816a5996f2ad50a927f9c906761429.zip:   0%|          | 0.00/2.29M [00:00<?, ?B/s]"
      ]
     },
     "metadata": {},
     "output_type": "display_data"
    },
    {
     "name": "stdout",
     "output_type": "stream",
     "text": [
      "\u001b[0m  \u001b[0;32m✓ Download completed: /var/folders/gl/sfjd74gn0wv11h31lr8v2cj40000gn/T/temp_india_yearly_chunk1.zip\u001b[0m\u001b[0m\n",
      "\u001b[0mExtracting zip file: /var/folders/gl/sfjd74gn0wv11h31lr8v2cj40000gn/T/temp_india_yearly_chunk1.zip\u001b[0m\n",
      "\u001b[0mExtracted NetCDF files:\u001b[0m\n",
      "\u001b[0m  - /var/folders/gl/sfjd74gn0wv11h31lr8v2cj40000gn/T/temp_india_yearly_chunk1/data_stream-moda_stepType-avgua.nc\u001b[0m\n",
      "\u001b[0m\n",
      "Processing downloaded data:\u001b[0m\n",
      "\u001b[0m- Found 1 file(s)\u001b[0m\n",
      "\u001b[0m  Processing file 1/1: data_stream-moda_stepType-avgua.nc\u001b[0m\n",
      "\u001b[0m  ✓ Loaded: Dimensions: Frozen({'valid_time': 108, 'latitude': 111, 'longitude': 117})\u001b[0m\n",
      "\u001b[0mStarting optimized filtering process...\u001b[0m\n",
      "\u001b[0m→ Extracting unique lat/lon coordinates from dataset...\u001b[0m\n",
      "\u001b[0m✓ Found 12987 unique lat/lon combinations\u001b[0m\n",
      "\u001b[0m→ Filtering unique coordinates against polygon...\u001b[0m\n",
      "\u001b[0m✓ Coordinate filtering completed in 0.06 seconds\u001b[0m\n",
      "\u001b[0m  - Points inside: 4446\u001b[0m\n",
      "\u001b[0m  - Points outside: 8541\u001b[0m\n",
      "\u001b[0m  - Percentage inside: 34.23%\u001b[0m\n",
      "\u001b[0m→ Filtering original dataset using inside coordinates...\u001b[0m\n",
      "\u001b[0m  Converting dataset to DataFrame...\u001b[0m\n",
      "\u001b[0m  ✓ Converted to DataFrame with 1402596 rows\u001b[0m\n",
      "\u001b[0m  ✓ Created lookup set with 4446 coordinate pairs\u001b[0m\n",
      "\u001b[0m  Filtering DataFrame rows...\u001b[0m\n",
      "\u001b[0m  ✓ Filtered from 1402596 to 480168 rows\u001b[0m\n",
      "\u001b[0m✓ Dataset filtering completed in 0.64 seconds\u001b[0m\n",
      "\u001b[0m\n",
      "--- Final Filtering Results ---\u001b[0m\n",
      "\u001b[0mTotal processing time: 0.71 seconds\u001b[0m\n",
      "\u001b[0mFinal DataFrame shape: (480168, 6)\u001b[0m\n",
      "\u001b[0mRows in final dataset: 480168\u001b[0m\n",
      "\u001b[0m\u001b[0;32m✓ Chunk completed in 23.4 seconds\u001b[0m\u001b[0m\n",
      "\u001b[0m\u001b[0;36mPROCESSING CHUNK 2/11\u001b[0m\n",
      "Date Range: 1949-05-01 to 1957-08-31\n",
      "Variables:  2m_temperature\u001b[0m\n",
      "\u001b[0m  → Downloading ERA5 data (attempt 1/6)...\u001b[0m\n"
     ]
    },
    {
     "name": "stderr",
     "output_type": "stream",
     "text": [
      "2025-07-15 23:34:24,183 INFO [2024-09-26T00:00:00] Watch our [Forum](https://forum.ecmwf.int/) for Announcements, news and other discussed topics.\n",
      "INFO:ecmwf.datastores.legacy_client:[2024-09-26T00:00:00] Watch our [Forum](https://forum.ecmwf.int/) for Announcements, news and other discussed topics.\n",
      "2025-07-15 23:34:24,875 INFO Request ID is 4d66e7f1-184f-4e6c-8a1f-42b356508e71\n",
      "INFO:ecmwf.datastores.legacy_client:Request ID is 4d66e7f1-184f-4e6c-8a1f-42b356508e71\n",
      "2025-07-15 23:34:25,128 INFO status has been updated to accepted\n",
      "INFO:ecmwf.datastores.legacy_client:status has been updated to accepted\n",
      "2025-07-15 23:34:31,090 INFO status has been updated to running\n",
      "INFO:ecmwf.datastores.legacy_client:status has been updated to running\n",
      "2025-07-15 23:34:34,652 INFO status has been updated to successful\n",
      "INFO:ecmwf.datastores.legacy_client:status has been updated to successful\n"
     ]
    },
    {
     "data": {
      "application/vnd.jupyter.widget-view+json": {
       "model_id": "2a1a7530570e4234a3c678e6b21eba04",
       "version_major": 2,
       "version_minor": 0
      },
      "text/plain": [
       "e0a0ebf7450e58d35c26985e9ffdf5d2.zip:   0%|          | 0.00/2.29M [00:00<?, ?B/s]"
      ]
     },
     "metadata": {},
     "output_type": "display_data"
    },
    {
     "name": "stdout",
     "output_type": "stream",
     "text": [
      "\u001b[0m  \u001b[0;32m✓ Download completed: /var/folders/gl/sfjd74gn0wv11h31lr8v2cj40000gn/T/temp_india_yearly_chunk2.zip\u001b[0m\u001b[0m\n",
      "\u001b[0mExtracting zip file: /var/folders/gl/sfjd74gn0wv11h31lr8v2cj40000gn/T/temp_india_yearly_chunk2.zip\u001b[0m\n",
      "\u001b[0mExtracted NetCDF files:\u001b[0m\n",
      "\u001b[0m  - /var/folders/gl/sfjd74gn0wv11h31lr8v2cj40000gn/T/temp_india_yearly_chunk2/data_stream-moda_stepType-avgua.nc\u001b[0m\n",
      "\u001b[0m\n",
      "Processing downloaded data:\u001b[0m\n",
      "\u001b[0m- Found 1 file(s)\u001b[0m\n",
      "\u001b[0m  Processing file 1/1: data_stream-moda_stepType-avgua.nc\u001b[0m\n",
      "\u001b[0m  ✓ Loaded: Dimensions: Frozen({'valid_time': 108, 'latitude': 111, 'longitude': 117})\u001b[0m\n",
      "\u001b[0mStarting optimized filtering process...\u001b[0m\n",
      "\u001b[0m→ Extracting unique lat/lon coordinates from dataset...\u001b[0m\n",
      "\u001b[0m✓ Found 12987 unique lat/lon combinations\u001b[0m\n",
      "\u001b[0m→ Filtering unique coordinates against polygon...\u001b[0m\n",
      "\u001b[0m✓ Coordinate filtering completed in 0.08 seconds\u001b[0m\n",
      "\u001b[0m  - Points inside: 4446\u001b[0m\n",
      "\u001b[0m  - Points outside: 8541\u001b[0m\n",
      "\u001b[0m  - Percentage inside: 34.23%\u001b[0m\n",
      "\u001b[0m→ Filtering original dataset using inside coordinates...\u001b[0m\n",
      "\u001b[0m  Converting dataset to DataFrame...\u001b[0m\n",
      "\u001b[0m  ✓ Converted to DataFrame with 1402596 rows\u001b[0m\n",
      "\u001b[0m  ✓ Created lookup set with 4446 coordinate pairs\u001b[0m\n",
      "\u001b[0m  Filtering DataFrame rows...\u001b[0m\n",
      "\u001b[0m  ✓ Filtered from 1402596 to 480168 rows\u001b[0m\n",
      "\u001b[0m✓ Dataset filtering completed in 0.57 seconds\u001b[0m\n",
      "\u001b[0m\n",
      "--- Final Filtering Results ---\u001b[0m\n",
      "\u001b[0mTotal processing time: 0.66 seconds\u001b[0m\n",
      "\u001b[0mFinal DataFrame shape: (480168, 6)\u001b[0m\n",
      "\u001b[0mRows in final dataset: 480168\u001b[0m\n",
      "\u001b[0m\u001b[0;32m✓ Chunk completed in 15.9 seconds\u001b[0m\u001b[0m\n",
      "\u001b[0m\u001b[0;36mPROCESSING CHUNK 3/11\u001b[0m\n",
      "Date Range: 1957-09-01 to 1965-12-31\n",
      "Variables:  2m_temperature\u001b[0m\n",
      "\u001b[0m  → Downloading ERA5 data (attempt 1/6)...\u001b[0m\n"
     ]
    },
    {
     "name": "stderr",
     "output_type": "stream",
     "text": [
      "2025-07-15 23:34:49,959 INFO [2024-09-26T00:00:00] Watch our [Forum](https://forum.ecmwf.int/) for Announcements, news and other discussed topics.\n",
      "INFO:ecmwf.datastores.legacy_client:[2024-09-26T00:00:00] Watch our [Forum](https://forum.ecmwf.int/) for Announcements, news and other discussed topics.\n",
      "2025-07-15 23:34:51,254 INFO Request ID is 30700db7-a0fc-42b2-800b-ad235716167f\n",
      "INFO:ecmwf.datastores.legacy_client:Request ID is 30700db7-a0fc-42b2-800b-ad235716167f\n",
      "2025-07-15 23:34:51,417 INFO status has been updated to accepted\n",
      "INFO:ecmwf.datastores.legacy_client:status has been updated to accepted\n",
      "2025-07-15 23:35:00,202 INFO status has been updated to successful\n",
      "INFO:ecmwf.datastores.legacy_client:status has been updated to successful\n"
     ]
    },
    {
     "data": {
      "application/vnd.jupyter.widget-view+json": {
       "model_id": "e3e287b002f24814850699be044fc7b0",
       "version_major": 2,
       "version_minor": 0
      },
      "text/plain": [
       "684289f83f9ec5a445f2777d12466f59.zip:   0%|          | 0.00/2.28M [00:00<?, ?B/s]"
      ]
     },
     "metadata": {},
     "output_type": "display_data"
    },
    {
     "name": "stdout",
     "output_type": "stream",
     "text": [
      "\u001b[0m  \u001b[0;32m✓ Download completed: /var/folders/gl/sfjd74gn0wv11h31lr8v2cj40000gn/T/temp_india_yearly_chunk3.zip\u001b[0m\u001b[0m\n",
      "\u001b[0mExtracting zip file: /var/folders/gl/sfjd74gn0wv11h31lr8v2cj40000gn/T/temp_india_yearly_chunk3.zip\u001b[0m\n",
      "\u001b[0mExtracted NetCDF files:\u001b[0m\n",
      "\u001b[0m  - /var/folders/gl/sfjd74gn0wv11h31lr8v2cj40000gn/T/temp_india_yearly_chunk3/data_stream-moda_stepType-avgua.nc\u001b[0m\n",
      "\u001b[0m\n",
      "Processing downloaded data:\u001b[0m\n",
      "\u001b[0m- Found 1 file(s)\u001b[0m\n",
      "\u001b[0m  Processing file 1/1: data_stream-moda_stepType-avgua.nc\u001b[0m\n",
      "\u001b[0m  ✓ Loaded: Dimensions: Frozen({'valid_time': 108, 'latitude': 111, 'longitude': 117})\u001b[0m\n",
      "\u001b[0mStarting optimized filtering process...\u001b[0m\n",
      "\u001b[0m→ Extracting unique lat/lon coordinates from dataset...\u001b[0m\n",
      "\u001b[0m✓ Found 12987 unique lat/lon combinations\u001b[0m\n",
      "\u001b[0m→ Filtering unique coordinates against polygon...\u001b[0m\n",
      "\u001b[0m✓ Coordinate filtering completed in 0.07 seconds\u001b[0m\n",
      "\u001b[0m  - Points inside: 4446\u001b[0m\n",
      "\u001b[0m  - Points outside: 8541\u001b[0m\n",
      "\u001b[0m  - Percentage inside: 34.23%\u001b[0m\n",
      "\u001b[0m→ Filtering original dataset using inside coordinates...\u001b[0m\n",
      "\u001b[0m  Converting dataset to DataFrame...\u001b[0m\n",
      "\u001b[0m  ✓ Converted to DataFrame with 1402596 rows\u001b[0m\n",
      "\u001b[0m  ✓ Created lookup set with 4446 coordinate pairs\u001b[0m\n",
      "\u001b[0m  Filtering DataFrame rows...\u001b[0m\n",
      "\u001b[0m  ✓ Filtered from 1402596 to 480168 rows\u001b[0m\n",
      "\u001b[0m✓ Dataset filtering completed in 0.65 seconds\u001b[0m\n",
      "\u001b[0m\n",
      "--- Final Filtering Results ---\u001b[0m\n",
      "\u001b[0mTotal processing time: 0.73 seconds\u001b[0m\n",
      "\u001b[0mFinal DataFrame shape: (480168, 6)\u001b[0m\n",
      "\u001b[0mRows in final dataset: 480168\u001b[0m\n",
      "\u001b[0m\u001b[0;32m✓ Chunk completed in 14.4 seconds\u001b[0m\u001b[0m\n",
      "\u001b[0m\u001b[0;36mPROCESSING CHUNK 4/11\u001b[0m\n",
      "Date Range: 1966-01-01 to 1974-04-30\n",
      "Variables:  2m_temperature\u001b[0m\n",
      "\u001b[0m  → Downloading ERA5 data (attempt 1/6)...\u001b[0m\n"
     ]
    },
    {
     "name": "stderr",
     "output_type": "stream",
     "text": [
      "2025-07-15 23:35:17,496 INFO [2024-09-26T00:00:00] Watch our [Forum](https://forum.ecmwf.int/) for Announcements, news and other discussed topics.\n",
      "INFO:ecmwf.datastores.legacy_client:[2024-09-26T00:00:00] Watch our [Forum](https://forum.ecmwf.int/) for Announcements, news and other discussed topics.\n",
      "2025-07-15 23:35:18,091 INFO Request ID is c76ad795-1761-40e2-9cd8-e6a36738f3a9\n",
      "INFO:ecmwf.datastores.legacy_client:Request ID is c76ad795-1761-40e2-9cd8-e6a36738f3a9\n",
      "2025-07-15 23:35:18,344 INFO status has been updated to accepted\n",
      "INFO:ecmwf.datastores.legacy_client:status has been updated to accepted\n",
      "2025-07-15 23:35:40,238 INFO status has been updated to successful\n",
      "INFO:ecmwf.datastores.legacy_client:status has been updated to successful\n"
     ]
    },
    {
     "data": {
      "application/vnd.jupyter.widget-view+json": {
       "model_id": "4f3c02388c1c48358067912ed0f625b8",
       "version_major": 2,
       "version_minor": 0
      },
      "text/plain": [
       "412b00c7f5eee84fe077883928bc2829.zip:   0%|          | 0.00/2.29M [00:00<?, ?B/s]"
      ]
     },
     "metadata": {},
     "output_type": "display_data"
    },
    {
     "name": "stdout",
     "output_type": "stream",
     "text": [
      "\u001b[0m  \u001b[0;32m✓ Download completed: /var/folders/gl/sfjd74gn0wv11h31lr8v2cj40000gn/T/temp_india_yearly_chunk4.zip\u001b[0m\u001b[0m\n",
      "\u001b[0mExtracting zip file: /var/folders/gl/sfjd74gn0wv11h31lr8v2cj40000gn/T/temp_india_yearly_chunk4.zip\u001b[0m\n",
      "\u001b[0mExtracted NetCDF files:\u001b[0m\n",
      "\u001b[0m  - /var/folders/gl/sfjd74gn0wv11h31lr8v2cj40000gn/T/temp_india_yearly_chunk4/data_stream-moda_stepType-avgua.nc\u001b[0m\n",
      "\u001b[0m\n",
      "Processing downloaded data:\u001b[0m\n",
      "\u001b[0m- Found 1 file(s)\u001b[0m\n",
      "\u001b[0m  Processing file 1/1: data_stream-moda_stepType-avgua.nc\u001b[0m\n",
      "\u001b[0m  ✓ Loaded: Dimensions: Frozen({'valid_time': 108, 'latitude': 111, 'longitude': 117})\u001b[0m\n",
      "\u001b[0mStarting optimized filtering process...\u001b[0m\n",
      "\u001b[0m→ Extracting unique lat/lon coordinates from dataset...\u001b[0m\n",
      "\u001b[0m✓ Found 12987 unique lat/lon combinations\u001b[0m\n",
      "\u001b[0m→ Filtering unique coordinates against polygon...\u001b[0m\n",
      "\u001b[0m✓ Coordinate filtering completed in 0.08 seconds\u001b[0m\n",
      "\u001b[0m  - Points inside: 4446\u001b[0m\n",
      "\u001b[0m  - Points outside: 8541\u001b[0m\n",
      "\u001b[0m  - Percentage inside: 34.23%\u001b[0m\n",
      "\u001b[0m→ Filtering original dataset using inside coordinates...\u001b[0m\n",
      "\u001b[0m  Converting dataset to DataFrame...\u001b[0m\n",
      "\u001b[0m  ✓ Converted to DataFrame with 1402596 rows\u001b[0m\n",
      "\u001b[0m  ✓ Created lookup set with 4446 coordinate pairs\u001b[0m\n",
      "\u001b[0m  Filtering DataFrame rows...\u001b[0m\n",
      "\u001b[0m  ✓ Filtered from 1402596 to 480168 rows\u001b[0m\n",
      "\u001b[0m✓ Dataset filtering completed in 0.59 seconds\u001b[0m\n",
      "\u001b[0m\n",
      "--- Final Filtering Results ---\u001b[0m\n",
      "\u001b[0mTotal processing time: 0.67 seconds\u001b[0m\n",
      "\u001b[0mFinal DataFrame shape: (480168, 6)\u001b[0m\n",
      "\u001b[0mRows in final dataset: 480168\u001b[0m\n",
      "\u001b[0m\u001b[0;32m✓ Chunk completed in 29.4 seconds\u001b[0m\u001b[0m\n",
      "\u001b[0m\u001b[0;36mPROCESSING CHUNK 5/11\u001b[0m\n",
      "Date Range: 1974-05-01 to 1982-08-31\n",
      "Variables:  2m_temperature\u001b[0m\n",
      "\u001b[0m  → Downloading ERA5 data (attempt 1/6)...\u001b[0m\n"
     ]
    },
    {
     "name": "stderr",
     "output_type": "stream",
     "text": [
      "2025-07-15 23:35:53,731 INFO [2024-09-26T00:00:00] Watch our [Forum](https://forum.ecmwf.int/) for Announcements, news and other discussed topics.\n",
      "INFO:ecmwf.datastores.legacy_client:[2024-09-26T00:00:00] Watch our [Forum](https://forum.ecmwf.int/) for Announcements, news and other discussed topics.\n",
      "2025-07-15 23:35:54,309 INFO Request ID is 91a77c4e-97b6-44b6-86e4-09c112f8fcff\n",
      "INFO:ecmwf.datastores.legacy_client:Request ID is 91a77c4e-97b6-44b6-86e4-09c112f8fcff\n",
      "2025-07-15 23:35:54,485 INFO status has been updated to accepted\n",
      "INFO:ecmwf.datastores.legacy_client:status has been updated to accepted\n",
      "2025-07-15 23:36:08,576 INFO status has been updated to running\n",
      "INFO:ecmwf.datastores.legacy_client:status has been updated to running\n",
      "2025-07-15 23:36:27,908 INFO status has been updated to successful\n",
      "INFO:ecmwf.datastores.legacy_client:status has been updated to successful\n"
     ]
    },
    {
     "data": {
      "application/vnd.jupyter.widget-view+json": {
       "model_id": "857e1773965f4ac0b7ca81fcc1c2e689",
       "version_major": 2,
       "version_minor": 0
      },
      "text/plain": [
       "435c337616af70ed2ba0251618388fdd.zip:   0%|          | 0.00/2.29M [00:00<?, ?B/s]"
      ]
     },
     "metadata": {},
     "output_type": "display_data"
    },
    {
     "name": "stdout",
     "output_type": "stream",
     "text": [
      "\u001b[0m  \u001b[0;32m✓ Download completed: /var/folders/gl/sfjd74gn0wv11h31lr8v2cj40000gn/T/temp_india_yearly_chunk5.zip\u001b[0m\u001b[0m\n",
      "\u001b[0mExtracting zip file: /var/folders/gl/sfjd74gn0wv11h31lr8v2cj40000gn/T/temp_india_yearly_chunk5.zip\u001b[0m\n",
      "\u001b[0mExtracted NetCDF files:\u001b[0m\n",
      "\u001b[0m  - /var/folders/gl/sfjd74gn0wv11h31lr8v2cj40000gn/T/temp_india_yearly_chunk5/data_stream-moda_stepType-avgua.nc\u001b[0m\n",
      "\u001b[0m\n",
      "Processing downloaded data:\u001b[0m\n",
      "\u001b[0m- Found 1 file(s)\u001b[0m\n",
      "\u001b[0m  Processing file 1/1: data_stream-moda_stepType-avgua.nc\u001b[0m\n",
      "\u001b[0m  ✓ Loaded: Dimensions: Frozen({'valid_time': 108, 'latitude': 111, 'longitude': 117})\u001b[0m\n",
      "\u001b[0mStarting optimized filtering process...\u001b[0m\n",
      "\u001b[0m→ Extracting unique lat/lon coordinates from dataset...\u001b[0m\n",
      "\u001b[0m✓ Found 12987 unique lat/lon combinations\u001b[0m\n",
      "\u001b[0m→ Filtering unique coordinates against polygon...\u001b[0m\n",
      "\u001b[0m✓ Coordinate filtering completed in 0.13 seconds\u001b[0m\n",
      "\u001b[0m  - Points inside: 4446\u001b[0m\n",
      "\u001b[0m  - Points outside: 8541\u001b[0m\n",
      "\u001b[0m  - Percentage inside: 34.23%\u001b[0m\n",
      "\u001b[0m→ Filtering original dataset using inside coordinates...\u001b[0m\n",
      "\u001b[0m  Converting dataset to DataFrame...\u001b[0m\n",
      "\u001b[0m  ✓ Converted to DataFrame with 1402596 rows\u001b[0m\n",
      "\u001b[0m  ✓ Created lookup set with 4446 coordinate pairs\u001b[0m\n",
      "\u001b[0m  Filtering DataFrame rows...\u001b[0m\n",
      "\u001b[0m  ✓ Filtered from 1402596 to 480168 rows\u001b[0m\n",
      "\u001b[0m✓ Dataset filtering completed in 0.62 seconds\u001b[0m\n",
      "\u001b[0m\n",
      "--- Final Filtering Results ---\u001b[0m\n",
      "\u001b[0mTotal processing time: 0.77 seconds\u001b[0m\n",
      "\u001b[0mFinal DataFrame shape: (480168, 6)\u001b[0m\n",
      "\u001b[0mRows in final dataset: 480168\u001b[0m\n",
      "\u001b[0m\u001b[0;32m✓ Chunk completed in 38.1 seconds\u001b[0m\u001b[0m\n",
      "\u001b[0m\u001b[0;36mPROCESSING CHUNK 6/11\u001b[0m\n",
      "Date Range: 1982-09-01 to 1990-12-31\n",
      "Variables:  2m_temperature\u001b[0m\n",
      "\u001b[0m  → Downloading ERA5 data (attempt 1/6)...\u001b[0m\n"
     ]
    },
    {
     "name": "stderr",
     "output_type": "stream",
     "text": [
      "2025-07-15 23:36:41,825 INFO [2024-09-26T00:00:00] Watch our [Forum](https://forum.ecmwf.int/) for Announcements, news and other discussed topics.\n",
      "INFO:ecmwf.datastores.legacy_client:[2024-09-26T00:00:00] Watch our [Forum](https://forum.ecmwf.int/) for Announcements, news and other discussed topics.\n",
      "2025-07-15 23:36:42,318 INFO Request ID is 83df80d9-5c9f-4eb6-bab3-89755ba78a55\n",
      "INFO:ecmwf.datastores.legacy_client:Request ID is 83df80d9-5c9f-4eb6-bab3-89755ba78a55\n",
      "2025-07-15 23:36:42,464 INFO status has been updated to accepted\n",
      "INFO:ecmwf.datastores.legacy_client:status has been updated to accepted\n",
      "2025-07-15 23:36:51,792 INFO status has been updated to running\n",
      "INFO:ecmwf.datastores.legacy_client:status has been updated to running\n",
      "2025-07-15 23:37:04,770 INFO status has been updated to successful\n",
      "INFO:ecmwf.datastores.legacy_client:status has been updated to successful\n"
     ]
    },
    {
     "data": {
      "application/vnd.jupyter.widget-view+json": {
       "model_id": "e72f005ca30345d69bbb09c51ae71b40",
       "version_major": 2,
       "version_minor": 0
      },
      "text/plain": [
       "c03c5d2fe3a0462c9c84d90e39f9a850.zip:   0%|          | 0.00/2.29M [00:00<?, ?B/s]"
      ]
     },
     "metadata": {},
     "output_type": "display_data"
    },
    {
     "name": "stdout",
     "output_type": "stream",
     "text": [
      "\u001b[0m  \u001b[0;32m✓ Download completed: /var/folders/gl/sfjd74gn0wv11h31lr8v2cj40000gn/T/temp_india_yearly_chunk6.zip\u001b[0m\u001b[0m\n",
      "\u001b[0mExtracting zip file: /var/folders/gl/sfjd74gn0wv11h31lr8v2cj40000gn/T/temp_india_yearly_chunk6.zip\u001b[0m\n",
      "\u001b[0mExtracted NetCDF files:\u001b[0m\n",
      "\u001b[0m  - /var/folders/gl/sfjd74gn0wv11h31lr8v2cj40000gn/T/temp_india_yearly_chunk6/data_stream-moda_stepType-avgua.nc\u001b[0m\n",
      "\u001b[0m\n",
      "Processing downloaded data:\u001b[0m\n",
      "\u001b[0m- Found 1 file(s)\u001b[0m\n",
      "\u001b[0m  Processing file 1/1: data_stream-moda_stepType-avgua.nc\u001b[0m\n",
      "\u001b[0m  ✓ Loaded: Dimensions: Frozen({'valid_time': 108, 'latitude': 111, 'longitude': 117})\u001b[0m\n",
      "\u001b[0mStarting optimized filtering process...\u001b[0m\n",
      "\u001b[0m→ Extracting unique lat/lon coordinates from dataset...\u001b[0m\n",
      "\u001b[0m✓ Found 12987 unique lat/lon combinations\u001b[0m\n",
      "\u001b[0m→ Filtering unique coordinates against polygon...\u001b[0m\n",
      "\u001b[0m✓ Coordinate filtering completed in 0.07 seconds\u001b[0m\n",
      "\u001b[0m  - Points inside: 4446\u001b[0m\n",
      "\u001b[0m  - Points outside: 8541\u001b[0m\n",
      "\u001b[0m  - Percentage inside: 34.23%\u001b[0m\n",
      "\u001b[0m→ Filtering original dataset using inside coordinates...\u001b[0m\n",
      "\u001b[0m  Converting dataset to DataFrame...\u001b[0m\n",
      "\u001b[0m  ✓ Converted to DataFrame with 1402596 rows\u001b[0m\n",
      "\u001b[0m  ✓ Created lookup set with 4446 coordinate pairs\u001b[0m\n",
      "\u001b[0m  Filtering DataFrame rows...\u001b[0m\n",
      "\u001b[0m  ✓ Filtered from 1402596 to 480168 rows\u001b[0m\n",
      "\u001b[0m✓ Dataset filtering completed in 0.69 seconds\u001b[0m\n",
      "\u001b[0m\n",
      "--- Final Filtering Results ---\u001b[0m\n",
      "\u001b[0mTotal processing time: 0.77 seconds\u001b[0m\n",
      "\u001b[0mFinal DataFrame shape: (480168, 6)\u001b[0m\n",
      "\u001b[0mRows in final dataset: 480168\u001b[0m\n",
      "\u001b[0m\u001b[0;32m✓ Chunk completed in 28.6 seconds\u001b[0m\u001b[0m\n",
      "\u001b[0m\u001b[0;36mPROCESSING CHUNK 7/11\u001b[0m\n",
      "Date Range: 1991-01-01 to 1999-04-30\n",
      "Variables:  2m_temperature\u001b[0m\n",
      "\u001b[0m  → Downloading ERA5 data (attempt 1/6)...\u001b[0m\n"
     ]
    },
    {
     "name": "stderr",
     "output_type": "stream",
     "text": [
      "2025-07-15 23:37:20,456 INFO [2024-09-26T00:00:00] Watch our [Forum](https://forum.ecmwf.int/) for Announcements, news and other discussed topics.\n",
      "INFO:ecmwf.datastores.legacy_client:[2024-09-26T00:00:00] Watch our [Forum](https://forum.ecmwf.int/) for Announcements, news and other discussed topics.\n",
      "2025-07-15 23:37:21,032 INFO Request ID is 658e8e96-7eb3-4611-8f5e-0c8830349a4c\n",
      "INFO:ecmwf.datastores.legacy_client:Request ID is 658e8e96-7eb3-4611-8f5e-0c8830349a4c\n",
      "2025-07-15 23:37:21,205 INFO status has been updated to accepted\n",
      "INFO:ecmwf.datastores.legacy_client:status has been updated to accepted\n",
      "2025-07-15 23:37:30,042 INFO status has been updated to successful\n",
      "INFO:ecmwf.datastores.legacy_client:status has been updated to successful\n"
     ]
    },
    {
     "data": {
      "application/vnd.jupyter.widget-view+json": {
       "model_id": "a3a4298e6ec24105b4e68545243b4d58",
       "version_major": 2,
       "version_minor": 0
      },
      "text/plain": [
       "cd6900b6c23a704f4e7066e4233b5242.zip:   0%|          | 0.00/2.29M [00:00<?, ?B/s]"
      ]
     },
     "metadata": {},
     "output_type": "display_data"
    },
    {
     "name": "stdout",
     "output_type": "stream",
     "text": [
      "\u001b[0m  \u001b[0;32m✓ Download completed: /var/folders/gl/sfjd74gn0wv11h31lr8v2cj40000gn/T/temp_india_yearly_chunk7.zip\u001b[0m\u001b[0m\n",
      "\u001b[0mExtracting zip file: /var/folders/gl/sfjd74gn0wv11h31lr8v2cj40000gn/T/temp_india_yearly_chunk7.zip\u001b[0m\n",
      "\u001b[0mExtracted NetCDF files:\u001b[0m\n",
      "\u001b[0m  - /var/folders/gl/sfjd74gn0wv11h31lr8v2cj40000gn/T/temp_india_yearly_chunk7/data_stream-moda_stepType-avgua.nc\u001b[0m\n",
      "\u001b[0m\n",
      "Processing downloaded data:\u001b[0m\n",
      "\u001b[0m- Found 1 file(s)\u001b[0m\n",
      "\u001b[0m  Processing file 1/1: data_stream-moda_stepType-avgua.nc\u001b[0m\n",
      "\u001b[0m  ✓ Loaded: Dimensions: Frozen({'valid_time': 108, 'latitude': 111, 'longitude': 117})\u001b[0m\n",
      "\u001b[0mStarting optimized filtering process...\u001b[0m\n",
      "\u001b[0m→ Extracting unique lat/lon coordinates from dataset...\u001b[0m\n",
      "\u001b[0m✓ Found 12987 unique lat/lon combinations\u001b[0m\n",
      "\u001b[0m→ Filtering unique coordinates against polygon...\u001b[0m\n",
      "\u001b[0m✓ Coordinate filtering completed in 0.07 seconds\u001b[0m\n",
      "\u001b[0m  - Points inside: 4446\u001b[0m\n",
      "\u001b[0m  - Points outside: 8541\u001b[0m\n",
      "\u001b[0m  - Percentage inside: 34.23%\u001b[0m\n",
      "\u001b[0m→ Filtering original dataset using inside coordinates...\u001b[0m\n",
      "\u001b[0m  Converting dataset to DataFrame...\u001b[0m\n",
      "\u001b[0m  ✓ Converted to DataFrame with 1402596 rows\u001b[0m\n",
      "\u001b[0m  ✓ Created lookup set with 4446 coordinate pairs\u001b[0m\n",
      "\u001b[0m  Filtering DataFrame rows...\u001b[0m\n",
      "\u001b[0m  ✓ Filtered from 1402596 to 480168 rows\u001b[0m\n",
      "\u001b[0m✓ Dataset filtering completed in 0.68 seconds\u001b[0m\n",
      "\u001b[0m\n",
      "--- Final Filtering Results ---\u001b[0m\n",
      "\u001b[0mTotal processing time: 0.76 seconds\u001b[0m\n",
      "\u001b[0mFinal DataFrame shape: (480168, 6)\u001b[0m\n",
      "\u001b[0mRows in final dataset: 480168\u001b[0m\n",
      "\u001b[0m\u001b[0;32m✓ Chunk completed in 13.3 seconds\u001b[0m\u001b[0m\n",
      "\u001b[0m\u001b[0;36mPROCESSING CHUNK 8/11\u001b[0m\n",
      "Date Range: 1999-05-01 to 2007-08-31\n",
      "Variables:  2m_temperature\u001b[0m\n",
      "\u001b[0m  → Downloading ERA5 data (attempt 1/6)...\u001b[0m\n"
     ]
    },
    {
     "name": "stderr",
     "output_type": "stream",
     "text": [
      "2025-07-15 23:37:43,683 INFO [2024-09-26T00:00:00] Watch our [Forum](https://forum.ecmwf.int/) for Announcements, news and other discussed topics.\n",
      "INFO:ecmwf.datastores.legacy_client:[2024-09-26T00:00:00] Watch our [Forum](https://forum.ecmwf.int/) for Announcements, news and other discussed topics.\n",
      "2025-07-15 23:37:44,773 INFO Request ID is 602dd05b-304b-4bb9-8831-538b32dbd1bd\n",
      "INFO:ecmwf.datastores.legacy_client:Request ID is 602dd05b-304b-4bb9-8831-538b32dbd1bd\n",
      "2025-07-15 23:37:44,917 INFO status has been updated to accepted\n",
      "INFO:ecmwf.datastores.legacy_client:status has been updated to accepted\n",
      "2025-07-15 23:37:53,697 INFO status has been updated to successful\n",
      "INFO:ecmwf.datastores.legacy_client:status has been updated to successful\n"
     ]
    },
    {
     "data": {
      "application/vnd.jupyter.widget-view+json": {
       "model_id": "5582d321faa64f959ce7f787686519e9",
       "version_major": 2,
       "version_minor": 0
      },
      "text/plain": [
       "9d5648bc4e64a705ffab07909854d4a6.zip:   0%|          | 0.00/2.29M [00:00<?, ?B/s]"
      ]
     },
     "metadata": {},
     "output_type": "display_data"
    },
    {
     "name": "stdout",
     "output_type": "stream",
     "text": [
      "\u001b[0m  \u001b[0;32m✓ Download completed: /var/folders/gl/sfjd74gn0wv11h31lr8v2cj40000gn/T/temp_india_yearly_chunk8.zip\u001b[0m\u001b[0m\n",
      "\u001b[0mExtracting zip file: /var/folders/gl/sfjd74gn0wv11h31lr8v2cj40000gn/T/temp_india_yearly_chunk8.zip\u001b[0m\n",
      "\u001b[0mExtracted NetCDF files:\u001b[0m\n",
      "\u001b[0m  - /var/folders/gl/sfjd74gn0wv11h31lr8v2cj40000gn/T/temp_india_yearly_chunk8/data_stream-moda_stepType-avgua.nc\u001b[0m\n",
      "\u001b[0m\n",
      "Processing downloaded data:\u001b[0m\n",
      "\u001b[0m- Found 1 file(s)\u001b[0m\n",
      "\u001b[0m  Processing file 1/1: data_stream-moda_stepType-avgua.nc\u001b[0m\n",
      "\u001b[0m  ✓ Loaded: Dimensions: Frozen({'valid_time': 108, 'latitude': 111, 'longitude': 117})\u001b[0m\n",
      "\u001b[0mStarting optimized filtering process...\u001b[0m\n",
      "\u001b[0m→ Extracting unique lat/lon coordinates from dataset...\u001b[0m\n",
      "\u001b[0m✓ Found 12987 unique lat/lon combinations\u001b[0m\n",
      "\u001b[0m→ Filtering unique coordinates against polygon...\u001b[0m\n",
      "\u001b[0m✓ Coordinate filtering completed in 0.07 seconds\u001b[0m\n",
      "\u001b[0m  - Points inside: 4446\u001b[0m\n",
      "\u001b[0m  - Points outside: 8541\u001b[0m\n",
      "\u001b[0m  - Percentage inside: 34.23%\u001b[0m\n",
      "\u001b[0m→ Filtering original dataset using inside coordinates...\u001b[0m\n",
      "\u001b[0m  Converting dataset to DataFrame...\u001b[0m\n",
      "\u001b[0m  ✓ Converted to DataFrame with 1402596 rows\u001b[0m\n",
      "\u001b[0m  ✓ Created lookup set with 4446 coordinate pairs\u001b[0m\n",
      "\u001b[0m  Filtering DataFrame rows...\u001b[0m\n",
      "\u001b[0m  ✓ Filtered from 1402596 to 480168 rows\u001b[0m\n",
      "\u001b[0m✓ Dataset filtering completed in 0.71 seconds\u001b[0m\n",
      "\u001b[0m\n",
      "--- Final Filtering Results ---\u001b[0m\n",
      "\u001b[0mTotal processing time: 0.79 seconds\u001b[0m\n",
      "\u001b[0mFinal DataFrame shape: (480168, 6)\u001b[0m\n",
      "\u001b[0mRows in final dataset: 480168\u001b[0m\n",
      "\u001b[0m\u001b[0;32m✓ Chunk completed in 13.5 seconds\u001b[0m\u001b[0m\n",
      "\u001b[0m\u001b[0;36mPROCESSING CHUNK 9/11\u001b[0m\n",
      "Date Range: 2007-09-01 to 2015-12-31\n",
      "Variables:  2m_temperature\u001b[0m\n",
      "\u001b[0m  → Downloading ERA5 data (attempt 1/6)...\u001b[0m\n"
     ]
    },
    {
     "name": "stderr",
     "output_type": "stream",
     "text": [
      "2025-07-15 23:38:07,216 INFO [2024-09-26T00:00:00] Watch our [Forum](https://forum.ecmwf.int/) for Announcements, news and other discussed topics.\n",
      "INFO:ecmwf.datastores.legacy_client:[2024-09-26T00:00:00] Watch our [Forum](https://forum.ecmwf.int/) for Announcements, news and other discussed topics.\n",
      "2025-07-15 23:38:07,934 INFO Request ID is 2cc1fb0b-d97a-40ab-8829-1b8479c208fd\n",
      "INFO:ecmwf.datastores.legacy_client:Request ID is 2cc1fb0b-d97a-40ab-8829-1b8479c208fd\n",
      "2025-07-15 23:38:08,113 INFO status has been updated to accepted\n",
      "INFO:ecmwf.datastores.legacy_client:status has been updated to accepted\n",
      "2025-07-15 23:38:22,278 INFO status has been updated to successful\n",
      "INFO:ecmwf.datastores.legacy_client:status has been updated to successful\n"
     ]
    },
    {
     "data": {
      "application/vnd.jupyter.widget-view+json": {
       "model_id": "de7e10723b6a4ff4b5eeb11e4eb85118",
       "version_major": 2,
       "version_minor": 0
      },
      "text/plain": [
       "d5e88404acc5259c4dec5904a8b420ef.zip:   0%|          | 0.00/2.28M [00:00<?, ?B/s]"
      ]
     },
     "metadata": {},
     "output_type": "display_data"
    },
    {
     "name": "stdout",
     "output_type": "stream",
     "text": [
      "\u001b[0m  \u001b[0;32m✓ Download completed: /var/folders/gl/sfjd74gn0wv11h31lr8v2cj40000gn/T/temp_india_yearly_chunk9.zip\u001b[0m\u001b[0m\n",
      "\u001b[0mExtracting zip file: /var/folders/gl/sfjd74gn0wv11h31lr8v2cj40000gn/T/temp_india_yearly_chunk9.zip\u001b[0m\n",
      "\u001b[0mExtracted NetCDF files:\u001b[0m\n",
      "\u001b[0m  - /var/folders/gl/sfjd74gn0wv11h31lr8v2cj40000gn/T/temp_india_yearly_chunk9/data_stream-moda_stepType-avgua.nc\u001b[0m\n",
      "\u001b[0m\n",
      "Processing downloaded data:\u001b[0m\n",
      "\u001b[0m- Found 1 file(s)\u001b[0m\n",
      "\u001b[0m  Processing file 1/1: data_stream-moda_stepType-avgua.nc\u001b[0m\n",
      "\u001b[0m  ✓ Loaded: Dimensions: Frozen({'valid_time': 108, 'latitude': 111, 'longitude': 117})\u001b[0m\n",
      "\u001b[0mStarting optimized filtering process...\u001b[0m\n",
      "\u001b[0m→ Extracting unique lat/lon coordinates from dataset...\u001b[0m\n",
      "\u001b[0m✓ Found 12987 unique lat/lon combinations\u001b[0m\n",
      "\u001b[0m→ Filtering unique coordinates against polygon...\u001b[0m\n",
      "\u001b[0m✓ Coordinate filtering completed in 0.07 seconds\u001b[0m\n",
      "\u001b[0m  - Points inside: 4446\u001b[0m\n",
      "\u001b[0m  - Points outside: 8541\u001b[0m\n",
      "\u001b[0m  - Percentage inside: 34.23%\u001b[0m\n",
      "\u001b[0m→ Filtering original dataset using inside coordinates...\u001b[0m\n",
      "\u001b[0m  Converting dataset to DataFrame...\u001b[0m\n",
      "\u001b[0m  ✓ Converted to DataFrame with 1402596 rows\u001b[0m\n",
      "\u001b[0m  ✓ Created lookup set with 4446 coordinate pairs\u001b[0m\n",
      "\u001b[0m  Filtering DataFrame rows...\u001b[0m\n",
      "\u001b[0m  ✓ Filtered from 1402596 to 480168 rows\u001b[0m\n",
      "\u001b[0m✓ Dataset filtering completed in 0.65 seconds\u001b[0m\n",
      "\u001b[0m\n",
      "--- Final Filtering Results ---\u001b[0m\n",
      "\u001b[0mTotal processing time: 0.73 seconds\u001b[0m\n",
      "\u001b[0mFinal DataFrame shape: (480168, 6)\u001b[0m\n",
      "\u001b[0mRows in final dataset: 480168\u001b[0m\n",
      "\u001b[0m\u001b[0;32m✓ Chunk completed in 19.3 seconds\u001b[0m\u001b[0m\n",
      "\u001b[0m\u001b[0;36mPROCESSING CHUNK 10/11\u001b[0m\n",
      "Date Range: 2016-01-01 to 2024-04-30\n",
      "Variables:  2m_temperature\u001b[0m\n",
      "\u001b[0m  → Downloading ERA5 data (attempt 1/6)...\u001b[0m\n"
     ]
    },
    {
     "name": "stderr",
     "output_type": "stream",
     "text": [
      "2025-07-15 23:38:36,540 INFO [2024-09-26T00:00:00] Watch our [Forum](https://forum.ecmwf.int/) for Announcements, news and other discussed topics.\n",
      "INFO:ecmwf.datastores.legacy_client:[2024-09-26T00:00:00] Watch our [Forum](https://forum.ecmwf.int/) for Announcements, news and other discussed topics.\n",
      "2025-07-15 23:38:37,300 INFO Request ID is 47ea4164-9a66-44c9-ac18-0df7b4522802\n",
      "INFO:ecmwf.datastores.legacy_client:Request ID is 47ea4164-9a66-44c9-ac18-0df7b4522802\n",
      "2025-07-15 23:38:37,481 INFO status has been updated to accepted\n",
      "INFO:ecmwf.datastores.legacy_client:status has been updated to accepted\n",
      "2025-07-15 23:38:46,402 INFO status has been updated to successful\n",
      "INFO:ecmwf.datastores.legacy_client:status has been updated to successful\n"
     ]
    },
    {
     "data": {
      "application/vnd.jupyter.widget-view+json": {
       "model_id": "9a3bf028ac1c4a798ba9f45cb7cb41ed",
       "version_major": 2,
       "version_minor": 0
      },
      "text/plain": [
       "316b09b4161591ccc0a3a1ac059b2348.zip:   0%|          | 0.00/2.28M [00:00<?, ?B/s]"
      ]
     },
     "metadata": {},
     "output_type": "display_data"
    },
    {
     "name": "stdout",
     "output_type": "stream",
     "text": [
      "\u001b[0m  \u001b[0;32m✓ Download completed: /var/folders/gl/sfjd74gn0wv11h31lr8v2cj40000gn/T/temp_india_yearly_chunk10.zip\u001b[0m\u001b[0m\n",
      "\u001b[0mExtracting zip file: /var/folders/gl/sfjd74gn0wv11h31lr8v2cj40000gn/T/temp_india_yearly_chunk10.zip\u001b[0m\n",
      "\u001b[0mExtracted NetCDF files:\u001b[0m\n",
      "\u001b[0m  - /var/folders/gl/sfjd74gn0wv11h31lr8v2cj40000gn/T/temp_india_yearly_chunk10/data_stream-moda_stepType-avgua.nc\u001b[0m\n",
      "\u001b[0m\n",
      "Processing downloaded data:\u001b[0m\n",
      "\u001b[0m- Found 1 file(s)\u001b[0m\n",
      "\u001b[0m  Processing file 1/1: data_stream-moda_stepType-avgua.nc\u001b[0m\n",
      "\u001b[0m  ✓ Loaded: Dimensions: Frozen({'valid_time': 108, 'latitude': 111, 'longitude': 117})\u001b[0m\n",
      "\u001b[0mStarting optimized filtering process...\u001b[0m\n",
      "\u001b[0m→ Extracting unique lat/lon coordinates from dataset...\u001b[0m\n",
      "\u001b[0m✓ Found 12987 unique lat/lon combinations\u001b[0m\n",
      "\u001b[0m→ Filtering unique coordinates against polygon...\u001b[0m\n",
      "\u001b[0m✓ Coordinate filtering completed in 0.08 seconds\u001b[0m\n",
      "\u001b[0m  - Points inside: 4446\u001b[0m\n",
      "\u001b[0m  - Points outside: 8541\u001b[0m\n",
      "\u001b[0m  - Percentage inside: 34.23%\u001b[0m\n",
      "\u001b[0m→ Filtering original dataset using inside coordinates...\u001b[0m\n",
      "\u001b[0m  Converting dataset to DataFrame...\u001b[0m\n",
      "\u001b[0m  ✓ Converted to DataFrame with 1402596 rows\u001b[0m\n",
      "\u001b[0m  ✓ Created lookup set with 4446 coordinate pairs\u001b[0m\n",
      "\u001b[0m  Filtering DataFrame rows...\u001b[0m\n",
      "\u001b[0m  ✓ Filtered from 1402596 to 480168 rows\u001b[0m\n",
      "\u001b[0m✓ Dataset filtering completed in 0.63 seconds\u001b[0m\n",
      "\u001b[0m\n",
      "--- Final Filtering Results ---\u001b[0m\n",
      "\u001b[0mTotal processing time: 0.72 seconds\u001b[0m\n",
      "\u001b[0mFinal DataFrame shape: (480168, 6)\u001b[0m\n",
      "\u001b[0mRows in final dataset: 480168\u001b[0m\n",
      "\u001b[0m\u001b[0;32m✓ Chunk completed in 13.5 seconds\u001b[0m\u001b[0m\n",
      "\u001b[0m\u001b[0;36mPROCESSING CHUNK 11/11\u001b[0m\n",
      "Date Range: 2024-05-01 to 2024-12-31\n",
      "Variables:  2m_temperature\u001b[0m\n",
      "\u001b[0m  → Downloading ERA5 data (attempt 1/6)...\u001b[0m\n"
     ]
    },
    {
     "name": "stderr",
     "output_type": "stream",
     "text": [
      "2025-07-15 23:39:00,230 INFO [2024-09-26T00:00:00] Watch our [Forum](https://forum.ecmwf.int/) for Announcements, news and other discussed topics.\n",
      "INFO:ecmwf.datastores.legacy_client:[2024-09-26T00:00:00] Watch our [Forum](https://forum.ecmwf.int/) for Announcements, news and other discussed topics.\n",
      "2025-07-15 23:39:01,190 INFO Request ID is 53b0a435-6236-443f-a188-6fa501fbe71c\n",
      "INFO:ecmwf.datastores.legacy_client:Request ID is 53b0a435-6236-443f-a188-6fa501fbe71c\n",
      "2025-07-15 23:39:01,497 INFO status has been updated to accepted\n",
      "INFO:ecmwf.datastores.legacy_client:status has been updated to accepted\n",
      "2025-07-15 23:39:07,433 INFO status has been updated to running\n",
      "INFO:ecmwf.datastores.legacy_client:status has been updated to running\n",
      "2025-07-15 23:39:11,042 INFO status has been updated to successful\n",
      "INFO:ecmwf.datastores.legacy_client:status has been updated to successful\n"
     ]
    },
    {
     "data": {
      "application/vnd.jupyter.widget-view+json": {
       "model_id": "f1965cf1f97b4dac9ec456f6aa264ded",
       "version_major": 2,
       "version_minor": 0
      },
      "text/plain": [
       "f81da4a5487d6f886abf9d3c3b5aedac.zip:   0%|          | 0.00/195k [00:00<?, ?B/s]"
      ]
     },
     "metadata": {},
     "output_type": "display_data"
    },
    {
     "name": "stdout",
     "output_type": "stream",
     "text": [
      "\u001b[0m  \u001b[0;32m✓ Download completed: /var/folders/gl/sfjd74gn0wv11h31lr8v2cj40000gn/T/temp_india_yearly_chunk11.zip\u001b[0m\u001b[0m\n",
      "\u001b[0mExtracting zip file: /var/folders/gl/sfjd74gn0wv11h31lr8v2cj40000gn/T/temp_india_yearly_chunk11.zip\u001b[0m\n",
      "\u001b[0mExtracted NetCDF files:\u001b[0m\n",
      "\u001b[0m  - /var/folders/gl/sfjd74gn0wv11h31lr8v2cj40000gn/T/temp_india_yearly_chunk11/data_stream-moda_stepType-avgua.nc\u001b[0m\n",
      "\u001b[0m\n",
      "Processing downloaded data:\u001b[0m\n",
      "\u001b[0m- Found 1 file(s)\u001b[0m\n",
      "\u001b[0m  Processing file 1/1: data_stream-moda_stepType-avgua.nc\u001b[0m\n",
      "\u001b[0m  ✓ Loaded: Dimensions: Frozen({'valid_time': 8, 'latitude': 111, 'longitude': 117})\u001b[0m\n",
      "\u001b[0mStarting optimized filtering process...\u001b[0m\n",
      "\u001b[0m→ Extracting unique lat/lon coordinates from dataset...\u001b[0m\n",
      "\u001b[0m✓ Found 12987 unique lat/lon combinations\u001b[0m\n",
      "\u001b[0m→ Filtering unique coordinates against polygon...\u001b[0m\n",
      "\u001b[0m✓ Coordinate filtering completed in 0.07 seconds\u001b[0m\n",
      "\u001b[0m  - Points inside: 4446\u001b[0m\n",
      "\u001b[0m  - Points outside: 8541\u001b[0m\n",
      "\u001b[0m  - Percentage inside: 34.23%\u001b[0m\n",
      "\u001b[0m→ Filtering original dataset using inside coordinates...\u001b[0m\n",
      "\u001b[0m  Converting dataset to DataFrame...\u001b[0m\n",
      "\u001b[0m  ✓ Converted to DataFrame with 103896 rows\u001b[0m\n",
      "\u001b[0m  ✓ Created lookup set with 4446 coordinate pairs\u001b[0m\n",
      "\u001b[0m  Filtering DataFrame rows...\u001b[0m\n",
      "\u001b[0m  ✓ Filtered from 103896 to 35568 rows\u001b[0m\n",
      "\u001b[0m✓ Dataset filtering completed in 0.06 seconds\u001b[0m\n",
      "\u001b[0m\n",
      "--- Final Filtering Results ---\u001b[0m\n",
      "\u001b[0mTotal processing time: 0.14 seconds\u001b[0m\n",
      "\u001b[0mFinal DataFrame shape: (35568, 6)\u001b[0m\n",
      "\u001b[0mRows in final dataset: 35568\u001b[0m\n",
      "\u001b[0m\u001b[0;32m✓ Chunk completed in 13.5 seconds\u001b[0m\u001b[0m\n",
      "\u001b[0m\u001b[0;34mAGGREGATING DATA (YEARLY)\u001b[0m\u001b[0m\n",
      "\u001b[0mAggregating data to yearly frequency...\u001b[0m\n",
      "\u001b[0mSum columns: []\u001b[0m\n",
      "\u001b[0mMax columns: []\u001b[0m\n",
      "\u001b[0mMin columns: []\u001b[0m\n",
      "\u001b[0mRate columns: []\u001b[0m\n",
      "\u001b[0mAverage columns: ['t2m']\u001b[0m\n",
      "\u001b[0mAggregation completed in:   0.77 seconds\u001b[0m\n",
      "\u001b[0m\n",
      "Saving files to output directory: temp_india_yearly_output\u001b[0m\n",
      "\u001b[0m  Saved final data to: temp_india_yearly_output/temp_india_yearly_yearly_data.csv\u001b[0m\n",
      "\u001b[0m  Saved unique coordinates to: temp_india_yearly_output/temp_india_yearly_unique_latlongs.csv\u001b[0m\n",
      "\u001b[0m  Saved raw data to: temp_india_yearly_output/temp_india_yearly_raw_data.csv\u001b[0m\n",
      "\u001b[0m\n",
      "============================================================\u001b[0m\n",
      "\u001b[0m\u001b[0;32mPROCESSING COMPLETE\u001b[0m\u001b[0m\n",
      "\u001b[0m============================================================\u001b[0m\n",
      "\u001b[0m\n",
      "\u001b[0;36mRESULTS SUMMARY:\u001b[0m\u001b[0m\n",
      "\u001b[0m----------------------------------------\u001b[0m\n",
      "\u001b[0mVariables processed: 1\u001b[0m\n",
      "\u001b[0mTime period:         1941-01-01 to 2024-12-31\u001b[0m\n",
      "\u001b[0mFinal output shape:  (84, 2)\u001b[0m\n",
      "\u001b[0mTotal complete processing time: 337.14 seconds\u001b[0m\n",
      "\u001b[0m\n",
      "First 5 rows of aggregated data:\u001b[0m\n",
      "\u001b[0m          t2m  year\n",
      "0  296.386200  1941\n",
      "1  296.234344  1942\n",
      "2  295.743408  1943\n",
      "3  296.361176  1944\n",
      "4  296.111603  1945\u001b[0m\n",
      "\u001b[0m\n",
      "============================================================\u001b[0m\n",
      "\u001b[0m\u001b[0;34mERA5 SINGLE LEVEL PROCESSING COMPLETED SUCCESSFULLY\u001b[0m\u001b[0m\n",
      "\u001b[0m============================================================\u001b[0m\n"
     ]
    }
   ],
   "source": [
    "import varunayan\n",
    "\n",
    "df = varunayan.era5ify_geojson(\n",
    "    request_id=\"temp_india_yearly\",\n",
    "    variables=[\"2m_temperature\"],\n",
    "    start_date=\"1941-1-1\",\n",
    "    end_date=\"2024-12-31\",\n",
    "    json_file=\"../data/india.json\",\n",
    "    frequency=\"yearly\",\n",
    ")"
   ]
  },
  {
   "cell_type": "code",
   "execution_count": 2,
   "metadata": {
    "execution": {
     "iopub.execute_input": "2025-07-15T18:09:27.455453Z",
     "iopub.status.busy": "2025-07-15T18:09:27.455333Z",
     "iopub.status.idle": "2025-07-15T18:09:27.461908Z",
     "shell.execute_reply": "2025-07-15T18:09:27.461676Z",
     "shell.execute_reply.started": "2025-07-15T18:09:27.455443Z"
    }
   },
   "outputs": [
    {
     "data": {
      "text/html": [
       "<div>\n",
       "<style scoped>\n",
       "    .dataframe tbody tr th:only-of-type {\n",
       "        vertical-align: middle;\n",
       "    }\n",
       "\n",
       "    .dataframe tbody tr th {\n",
       "        vertical-align: top;\n",
       "    }\n",
       "\n",
       "    .dataframe thead th {\n",
       "        text-align: right;\n",
       "    }\n",
       "</style>\n",
       "<table border=\"1\" class=\"dataframe\">\n",
       "  <thead>\n",
       "    <tr style=\"text-align: right;\">\n",
       "      <th></th>\n",
       "      <th>t2m</th>\n",
       "      <th>year</th>\n",
       "      <th>dev</th>\n",
       "    </tr>\n",
       "  </thead>\n",
       "  <tbody>\n",
       "    <tr>\n",
       "      <th>0</th>\n",
       "      <td>296.386200</td>\n",
       "      <td>1941</td>\n",
       "      <td>-0.202301</td>\n",
       "    </tr>\n",
       "    <tr>\n",
       "      <th>1</th>\n",
       "      <td>296.234344</td>\n",
       "      <td>1942</td>\n",
       "      <td>-0.354156</td>\n",
       "    </tr>\n",
       "    <tr>\n",
       "      <th>2</th>\n",
       "      <td>295.743408</td>\n",
       "      <td>1943</td>\n",
       "      <td>-0.845093</td>\n",
       "    </tr>\n",
       "    <tr>\n",
       "      <th>3</th>\n",
       "      <td>296.361176</td>\n",
       "      <td>1944</td>\n",
       "      <td>-0.227325</td>\n",
       "    </tr>\n",
       "    <tr>\n",
       "      <th>4</th>\n",
       "      <td>296.111603</td>\n",
       "      <td>1945</td>\n",
       "      <td>-0.476898</td>\n",
       "    </tr>\n",
       "  </tbody>\n",
       "</table>\n",
       "</div>"
      ],
      "text/plain": [
       "          t2m  year       dev\n",
       "0  296.386200  1941 -0.202301\n",
       "1  296.234344  1942 -0.354156\n",
       "2  295.743408  1943 -0.845093\n",
       "3  296.361176  1944 -0.227325\n",
       "4  296.111603  1945 -0.476898"
      ]
     },
     "execution_count": 2,
     "metadata": {},
     "output_type": "execute_result"
    }
   ],
   "source": [
    "mean_t2m = df[\"t2m\"].mean()\n",
    "\n",
    "df[\"dev\"] = df[\"t2m\"] - mean_t2m\n",
    "\n",
    "df.head()"
   ]
  },
  {
   "cell_type": "code",
   "execution_count": 8,
   "metadata": {
    "execution": {
     "iopub.execute_input": "2025-07-15T18:11:14.127775Z",
     "iopub.status.busy": "2025-07-15T18:11:14.124599Z",
     "iopub.status.idle": "2025-07-15T18:11:14.149311Z",
     "shell.execute_reply": "2025-07-15T18:11:14.148632Z",
     "shell.execute_reply.started": "2025-07-15T18:11:14.127700Z"
    }
   },
   "outputs": [],
   "source": [
    "import matplotlib.cm as cm\n",
    "import matplotlib.colors as mcolors\n",
    "import matplotlib.pyplot as plt\n",
    "\n",
    "\n",
    "def setup_matplotlib():\n",
    "    plt.rcParams[\"figure.dpi\"] = 300\n",
    "    plt.rcParams[\"savefig.dpi\"] = 300\n",
    "    plt.rcParams[\"font.family\"] = \"sans-serif\"\n",
    "    plt.rcParams[\"font.sans-serif\"] = [\"Arial\"]\n",
    "    plt.rcParams[\"axes.labelweight\"] = \"normal\"\n",
    "\n",
    "    plt.rcParams[\"mathtext.fontset\"] = \"custom\"\n",
    "    plt.rcParams[\"mathtext.rm\"] = \"Arial\"\n",
    "    plt.rcParams[\"mathtext.it\"] = \"Arial:italic\"\n",
    "    plt.rcParams[\"mathtext.bf\"] = \"Arial:bold\"\n",
    "\n",
    "\n",
    "setup_matplotlib()"
   ]
  },
  {
   "cell_type": "code",
   "execution_count": 4,
   "metadata": {
    "execution": {
     "iopub.execute_input": "2025-07-15T18:09:27.861841Z",
     "iopub.status.busy": "2025-07-15T18:09:27.861564Z",
     "iopub.status.idle": "2025-07-15T18:09:27.866330Z",
     "shell.execute_reply": "2025-07-15T18:09:27.865626Z",
     "shell.execute_reply.started": "2025-07-15T18:09:27.861820Z"
    }
   },
   "outputs": [],
   "source": [
    "norm = mcolors.Normalize(vmin=df[\"dev\"].min(), vmax=df[\"dev\"].max())"
   ]
  },
  {
   "cell_type": "code",
   "execution_count": 5,
   "metadata": {
    "execution": {
     "iopub.execute_input": "2025-07-15T18:09:27.867291Z",
     "iopub.status.busy": "2025-07-15T18:09:27.867075Z",
     "iopub.status.idle": "2025-07-15T18:09:27.871700Z",
     "shell.execute_reply": "2025-07-15T18:09:27.871002Z",
     "shell.execute_reply.started": "2025-07-15T18:09:27.867270Z"
    }
   },
   "outputs": [],
   "source": [
    "cmap = plt.colormaps[\"coolwarm\"]"
   ]
  },
  {
   "cell_type": "code",
   "execution_count": 6,
   "metadata": {
    "execution": {
     "iopub.execute_input": "2025-07-15T18:09:27.872643Z",
     "iopub.status.busy": "2025-07-15T18:09:27.872442Z",
     "iopub.status.idle": "2025-07-15T18:09:27.877130Z",
     "shell.execute_reply": "2025-07-15T18:09:27.876702Z",
     "shell.execute_reply.started": "2025-07-15T18:09:27.872621Z"
    }
   },
   "outputs": [],
   "source": [
    "colors = cmap(norm(df[\"dev\"]))"
   ]
  },
  {
   "cell_type": "code",
   "execution_count": 9,
   "metadata": {
    "execution": {
     "iopub.execute_input": "2025-07-15T18:11:17.332887Z",
     "iopub.status.busy": "2025-07-15T18:11:17.332419Z",
     "iopub.status.idle": "2025-07-15T18:11:17.586262Z",
     "shell.execute_reply": "2025-07-15T18:11:17.585228Z",
     "shell.execute_reply.started": "2025-07-15T18:11:17.332836Z"
    }
   },
   "outputs": [
    {
     "data": {
      "image/png": "[encoded data removed]",
      "text/plain": [
       "<Figure size 4200x1800 with 2 Axes>"
      ]
     },
     "metadata": {},
     "output_type": "display_data"
    }
   ],
   "source": [
    "fig, ax = plt.subplots(figsize=(14, 6))\n",
    "bars = ax.bar(df[\"year\"], df[\"dev\"], color=colors)\n",
    "\n",
    "sm = cm.ScalarMappable(cmap=cmap, norm=norm)\n",
    "sm.set_array(df[\"dev\"].values)\n",
    "\n",
    "cbar = fig.colorbar(sm, ax=ax)\n",
    "cbar.set_label(\"Deviation\")\n",
    "\n",
    "ax.set_xlabel(\"Year\")\n",
    "ax.set_ylabel(\"Deviation\")\n",
    "ax.set_title(\"Temperature change in India\")\n",
    "\n",
    "plt.tight_layout()\n",
    "plt.show()"
   ]
  }
 ],
 "metadata": {
  "kernelspec": {
   "display_name": "Python [conda env:base] *",
   "language": "python",
   "name": "conda-base-py"
  },
  "language_info": {
   "codemirror_mode": {
    "name": "ipython",
    "version": 3
   },
   "file_extension": ".py",
   "mimetype": "text/x-python",
   "name": "python",
   "nbconvert_exporter": "python",
   "pygments_lexer": "ipython3",
   "version": "3.11.12"
  },
  "widgets": {
   "application/vnd.jupyter.widget-state+json": {
    "state": {},
    "version_major": 2,
    "version_minor": 0
   }
  }
 },
 "nbformat": 4,
 "nbformat_minor": 4
}
