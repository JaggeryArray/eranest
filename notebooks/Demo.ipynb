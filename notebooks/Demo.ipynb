{
 "cells": [
  {
   "cell_type": "markdown",
   "metadata": {},
   "source": [
    "# Varunayan Demo\n",
    "\n",
    "Varunayan =  Varun + ayan\n",
    "\n",
    "Varun in the vedic mythology was the god of sky, order, truth, water and magic. \n",
    "\n",
    "Ayan in sanskrit means path.\n",
    "\n",
    "Varunayan is a structured package for fetching climatic variables for any part of the globe, though not magically. Varunayan heavily relies on the  [ERA5](https://www.ecmwf.int/en/forecasts/dataset/ecmwf-reanalysis-v5) resource which uses advanced modeling using historical data to generate global estimates of large number of atmospheric, land and oceanic climate variables."
   ]
  },
  {
   "cell_type": "code",
   "execution_count": 1,
   "metadata": {
    "execution": {
     "iopub.execute_input": "2025-07-15T17:53:53.259523Z",
     "iopub.status.busy": "2025-07-15T17:53:53.259329Z",
     "iopub.status.idle": "2025-07-15T17:53:54.047360Z",
     "shell.execute_reply": "2025-07-15T17:53:54.047034Z",
     "shell.execute_reply.started": "2025-07-15T17:53:53.259503Z"
    }
   },
   "outputs": [],
   "source": [
    "import varunayan"
   ]
  },
  {
   "cell_type": "raw",
   "metadata": {},
   "source": [
    "# varunayan.era5ify_geojson(request_id, variables, start_date, end_date, json_file, dataset_type, pressure_levels, frequency, resolution)\n",
    "# request_id : str, unique identifier for the request\n",
    "# variables : list, list of variables to download\n",
    "# start_date : string, start date of the data ('YYYY-M-D' or 'YYYY-MM-DD')\n",
    "# end_date : string, end date of the data ('YYYY-M-D' or 'YYYY-MM-DD')\n",
    "# json_file : str, path to the geojson file containing the area of interest\n",
    "# dataset_type : str, type of dataset (single or pressure, for single level or pressure level datasets), optional (single by default)\n",
    "# pressure_levels : list, list of strings of pressure levels to download (e.g., [\"1000\", \"925\", \"850\"]), optional (empty by default)\n",
    "# frequency : str, frequency of the data (hourly, daily, weekly, monthly, yearly), optional (hourly by default)\n",
    "# resolution : float, resolution of the data in degrees (0.1, 0.25, etc.), optional (0.25 by default)"
   ]
  },
  {
   "cell_type": "markdown",
   "metadata": {},
   "source": [
    "## Download daily weather data for a given geojson\n",
    "\n",
    "We will use varunayan to first download temperature, precipitation, surface pressure and dewpoint from [ERA5](https://www.ecmwf.int/en/forecasts/dataset/ecmwf-reanalysis-v5).\n",
    "\n",
    "The location is specified using path to a local geojson file, though this is not the only way to download data for a desired geography (See next section)."
   ]
  },
  {
   "cell_type": "code",
   "execution_count": 2,
   "metadata": {
    "execution": {
     "iopub.execute_input": "2025-07-15T17:53:54.047823Z",
     "iopub.status.busy": "2025-07-15T17:53:54.047687Z",
     "iopub.status.idle": "2025-07-15T17:55:39.787757Z",
     "shell.execute_reply": "2025-07-15T17:55:39.787229Z",
     "shell.execute_reply.started": "2025-07-15T17:53:54.047814Z"
    }
   },
   "outputs": [
    {
     "name": "stdout",
     "output_type": "stream",
     "text": [
      "\u001b[0m✓ CDS API configuration is already set up and valid.\u001b[0m\n",
      "\u001b[0m\n",
      "============================================================\u001b[0m\n",
      "\u001b[0m\u001b[0;34mSTARTING ERA5 SINGLE LEVEL PROCESSING\u001b[0m\u001b[0m\n",
      "\u001b[0m============================================================\u001b[0m\n",
      "\u001b[0mRequest ID: india_weather_daily_2023_Jan\u001b[0m\n",
      "\u001b[0mVariables: ['2m_temperature', 'total_precipitation', 'surface_pressure', '2m_dewpoint_temperature']\u001b[0m\n",
      "\u001b[0mDate Range: 2023-01-01 to 2023-01-31\u001b[0m\n",
      "\u001b[0mFrequency: daily\u001b[0m\n",
      "\u001b[0mResolution: 0.25°\u001b[0m\n",
      "\u001b[0mGeoJSON File: /var/folders/gl/sfjd74gn0wv11h31lr8v2cj40000gn/T/india_weather_daily_2023_Jan_temp_geojson.json\u001b[0m\n",
      "\u001b[0m\u001b[0;32m✓ All inputs validated successfully\u001b[0m\u001b[0m\n",
      "\u001b[0m\n",
      "--- Bounding Box ---\u001b[0m\n",
      "\u001b[0m\u001b[0;32m✓ Bounding Box calculated:\u001b[0m\u001b[0m\n",
      "\u001b[0m  North: 35.4940°\u001b[0m\n",
      "\u001b[0m  South: 7.9655°\u001b[0m\n",
      "\u001b[0m  East:  97.4026°\u001b[0m\n",
      "\u001b[0m  West:  68.1766°\u001b[0m\n",
      "\u001b[0m  Area:  29.2259° × 27.5285°\u001b[0m\n",
      "\n",
      "\n",
      "--- GeoJSON Mini Map ---\n",
      "\n",
      "\u001b[0;34mMINI MAP (68.18°W to 97.40°E, 7.97°S to 35.49°N):\u001b[0m\n",
      "┌─────────────────────────────────────────┐\n",
      "│\u001b[0;31m·\u001b[0m\u001b[0;31m·\u001b[0m\u001b[0;31m·\u001b[0m\u001b[0;31m·\u001b[0m\u001b[0;31m·\u001b[0m\u001b[0;31m·\u001b[0m\u001b[0;31m·\u001b[0m\u001b[0;31m·\u001b[0m\u001b[0;31m·\u001b[0m\u001b[0;31m·\u001b[0m\u001b[0;31m·\u001b[0m\u001b[0;31m·\u001b[0m\u001b[0;31m·\u001b[0m\u001b[0;31m·\u001b[0m\u001b[0;31m·\u001b[0m\u001b[0;31m·\u001b[0m\u001b[0;31m·\u001b[0m\u001b[0;31m·\u001b[0m\u001b[0;31m·\u001b[0m\u001b[0;31m·\u001b[0m\u001b[0;31m·\u001b[0m\u001b[0;31m·\u001b[0m\u001b[0;31m·\u001b[0m\u001b[0;31m·\u001b[0m\u001b[0;31m·\u001b[0m\u001b[0;31m·\u001b[0m\u001b[0;31m·\u001b[0m\u001b[0;31m·\u001b[0m\u001b[0;31m·\u001b[0m\u001b[0;31m·\u001b[0m\u001b[0;31m·\u001b[0m\u001b[0;31m·\u001b[0m\u001b[0;31m·\u001b[0m\u001b[0;31m·\u001b[0m\u001b[0;31m·\u001b[0m\u001b[0;31m·\u001b[0m\u001b[0;31m·\u001b[0m\u001b[0;31m·\u001b[0m\u001b[0;31m·\u001b[0m\u001b[0;31m·\u001b[0m\u001b[0;31m·\u001b[0m│\n",
      "│\u001b[0;31m·\u001b[0m\u001b[0;31m·\u001b[0m\u001b[0;31m·\u001b[0m\u001b[0;31m·\u001b[0m\u001b[0;31m·\u001b[0m\u001b[0;31m·\u001b[0m\u001b[0;31m·\u001b[0m\u001b[0;31m·\u001b[0m\u001b[0;32m■\u001b[0m\u001b[0;32m■\u001b[0m\u001b[0;32m■\u001b[0m\u001b[0;32m■\u001b[0m\u001b[0;32m■\u001b[0m\u001b[0;32m■\u001b[0m\u001b[0;32m■\u001b[0m\u001b[0;31m·\u001b[0m\u001b[0;31m·\u001b[0m\u001b[0;31m·\u001b[0m\u001b[0;31m·\u001b[0m\u001b[0;31m·\u001b[0m\u001b[0;31m·\u001b[0m\u001b[0;31m·\u001b[0m\u001b[0;31m·\u001b[0m\u001b[0;31m·\u001b[0m\u001b[0;31m·\u001b[0m\u001b[0;31m·\u001b[0m\u001b[0;31m·\u001b[0m\u001b[0;31m·\u001b[0m\u001b[0;31m·\u001b[0m\u001b[0;31m·\u001b[0m\u001b[0;31m·\u001b[0m\u001b[0;31m·\u001b[0m\u001b[0;31m·\u001b[0m\u001b[0;31m·\u001b[0m\u001b[0;31m·\u001b[0m\u001b[0;31m·\u001b[0m\u001b[0;31m·\u001b[0m\u001b[0;31m·\u001b[0m\u001b[0;31m·\u001b[0m\u001b[0;31m·\u001b[0m\u001b[0;31m·\u001b[0m│\n",
      "│\u001b[0;31m·\u001b[0m\u001b[0;31m·\u001b[0m\u001b[0;31m·\u001b[0m\u001b[0;31m·\u001b[0m\u001b[0;31m·\u001b[0m\u001b[0;31m·\u001b[0m\u001b[0;31m·\u001b[0m\u001b[0;31m·\u001b[0m\u001b[0;31m·\u001b[0m\u001b[0;31m·\u001b[0m\u001b[0;32m■\u001b[0m\u001b[0;32m■\u001b[0m\u001b[0;32m■\u001b[0m\u001b[0;32m■\u001b[0m\u001b[0;32m■\u001b[0m\u001b[0;31m·\u001b[0m\u001b[0;31m·\u001b[0m\u001b[0;31m·\u001b[0m\u001b[0;31m·\u001b[0m\u001b[0;31m·\u001b[0m\u001b[0;31m·\u001b[0m\u001b[0;31m·\u001b[0m\u001b[0;31m·\u001b[0m\u001b[0;31m·\u001b[0m\u001b[0;31m·\u001b[0m\u001b[0;31m·\u001b[0m\u001b[0;31m·\u001b[0m\u001b[0;31m·\u001b[0m\u001b[0;31m·\u001b[0m\u001b[0;31m·\u001b[0m\u001b[0;31m·\u001b[0m\u001b[0;31m·\u001b[0m\u001b[0;31m·\u001b[0m\u001b[0;31m·\u001b[0m\u001b[0;31m·\u001b[0m\u001b[0;31m·\u001b[0m\u001b[0;31m·\u001b[0m\u001b[0;31m·\u001b[0m\u001b[0;31m·\u001b[0m\u001b[0;31m·\u001b[0m\u001b[0;31m·\u001b[0m│\n",
      "│\u001b[0;31m·\u001b[0m\u001b[0;31m·\u001b[0m\u001b[0;31m·\u001b[0m\u001b[0;31m·\u001b[0m\u001b[0;31m·\u001b[0m\u001b[0;31m·\u001b[0m\u001b[0;31m·\u001b[0m\u001b[0;31m·\u001b[0m\u001b[0;31m·\u001b[0m\u001b[0;32m■\u001b[0m\u001b[0;32m■\u001b[0m\u001b[0;32m■\u001b[0m\u001b[0;32m■\u001b[0m\u001b[0;32m■\u001b[0m\u001b[0;32m■\u001b[0m\u001b[0;32m■\u001b[0m\u001b[0;31m·\u001b[0m\u001b[0;31m·\u001b[0m\u001b[0;31m·\u001b[0m\u001b[0;31m·\u001b[0m\u001b[0;31m·\u001b[0m\u001b[0;31m·\u001b[0m\u001b[0;31m·\u001b[0m\u001b[0;31m·\u001b[0m\u001b[0;31m·\u001b[0m\u001b[0;31m·\u001b[0m\u001b[0;31m·\u001b[0m\u001b[0;31m·\u001b[0m\u001b[0;31m·\u001b[0m\u001b[0;31m·\u001b[0m\u001b[0;31m·\u001b[0m\u001b[0;31m·\u001b[0m\u001b[0;31m·\u001b[0m\u001b[0;31m·\u001b[0m\u001b[0;31m·\u001b[0m\u001b[0;31m·\u001b[0m\u001b[0;31m·\u001b[0m\u001b[0;31m·\u001b[0m\u001b[0;31m·\u001b[0m\u001b[0;31m·\u001b[0m\u001b[0;31m·\u001b[0m│\n",
      "│\u001b[0;31m·\u001b[0m\u001b[0;31m·\u001b[0m\u001b[0;31m·\u001b[0m\u001b[0;31m·\u001b[0m\u001b[0;31m·\u001b[0m\u001b[0;31m·\u001b[0m\u001b[0;31m·\u001b[0m\u001b[0;32m■\u001b[0m\u001b[0;32m■\u001b[0m\u001b[0;32m■\u001b[0m\u001b[0;32m■\u001b[0m\u001b[0;32m■\u001b[0m\u001b[0;32m■\u001b[0m\u001b[0;32m■\u001b[0m\u001b[0;32m■\u001b[0m\u001b[0;32m■\u001b[0m\u001b[0;32m■\u001b[0m\u001b[0;31m·\u001b[0m\u001b[0;31m·\u001b[0m\u001b[0;31m·\u001b[0m\u001b[0;31m·\u001b[0m\u001b[0;31m·\u001b[0m\u001b[0;31m·\u001b[0m\u001b[0;31m·\u001b[0m\u001b[0;31m·\u001b[0m\u001b[0;31m·\u001b[0m\u001b[0;31m·\u001b[0m\u001b[0;31m·\u001b[0m\u001b[0;31m·\u001b[0m\u001b[0;31m·\u001b[0m\u001b[0;31m·\u001b[0m\u001b[0;31m·\u001b[0m\u001b[0;31m·\u001b[0m\u001b[0;31m·\u001b[0m\u001b[0;31m·\u001b[0m\u001b[0;31m·\u001b[0m\u001b[0;31m·\u001b[0m\u001b[0;31m·\u001b[0m\u001b[0;31m·\u001b[0m\u001b[0;31m·\u001b[0m\u001b[0;31m·\u001b[0m│\n",
      "│\u001b[0;31m·\u001b[0m\u001b[0;31m·\u001b[0m\u001b[0;31m·\u001b[0m\u001b[0;31m·\u001b[0m\u001b[0;32m■\u001b[0m\u001b[0;32m■\u001b[0m\u001b[0;32m■\u001b[0m\u001b[0;32m■\u001b[0m\u001b[0;32m■\u001b[0m\u001b[0;32m■\u001b[0m\u001b[0;32m■\u001b[0m\u001b[0;32m■\u001b[0m\u001b[0;32m■\u001b[0m\u001b[0;32m■\u001b[0m\u001b[0;32m■\u001b[0m\u001b[0;32m■\u001b[0m\u001b[0;32m■\u001b[0m\u001b[0;32m■\u001b[0m\u001b[0;32m■\u001b[0m\u001b[0;32m■\u001b[0m\u001b[0;31m·\u001b[0m\u001b[0;31m·\u001b[0m\u001b[0;31m·\u001b[0m\u001b[0;31m·\u001b[0m\u001b[0;31m·\u001b[0m\u001b[0;31m·\u001b[0m\u001b[0;31m·\u001b[0m\u001b[0;31m·\u001b[0m\u001b[0;32m■\u001b[0m\u001b[0;31m·\u001b[0m\u001b[0;31m·\u001b[0m\u001b[0;31m·\u001b[0m\u001b[0;31m·\u001b[0m\u001b[0;32m■\u001b[0m\u001b[0;32m■\u001b[0m\u001b[0;32m■\u001b[0m\u001b[0;32m■\u001b[0m\u001b[0;32m■\u001b[0m\u001b[0;32m■\u001b[0m\u001b[0;32m■\u001b[0m\u001b[0;31m·\u001b[0m│\n",
      "│\u001b[0;31m·\u001b[0m\u001b[0;31m·\u001b[0m\u001b[0;31m·\u001b[0m\u001b[0;32m■\u001b[0m\u001b[0;32m■\u001b[0m\u001b[0;32m■\u001b[0m\u001b[0;32m■\u001b[0m\u001b[0;32m■\u001b[0m\u001b[0;32m■\u001b[0m\u001b[0;32m■\u001b[0m\u001b[0;32m■\u001b[0m\u001b[0;32m■\u001b[0m\u001b[0;32m■\u001b[0m\u001b[0;32m■\u001b[0m\u001b[0;32m■\u001b[0m\u001b[0;32m■\u001b[0m\u001b[0;32m■\u001b[0m\u001b[0;32m■\u001b[0m\u001b[0;32m■\u001b[0m\u001b[0;32m■\u001b[0m\u001b[0;32m■\u001b[0m\u001b[0;32m■\u001b[0m\u001b[0;32m■\u001b[0m\u001b[0;32m■\u001b[0m\u001b[0;32m■\u001b[0m\u001b[0;32m■\u001b[0m\u001b[0;32m■\u001b[0m\u001b[0;32m■\u001b[0m\u001b[0;31m·\u001b[0m\u001b[0;32m■\u001b[0m\u001b[0;32m■\u001b[0m\u001b[0;32m■\u001b[0m\u001b[0;32m■\u001b[0m\u001b[0;32m■\u001b[0m\u001b[0;32m■\u001b[0m\u001b[0;32m■\u001b[0m\u001b[0;32m■\u001b[0m\u001b[0;31m·\u001b[0m\u001b[0;31m·\u001b[0m\u001b[0;31m·\u001b[0m\u001b[0;31m·\u001b[0m│\n",
      "│\u001b[0;31m·\u001b[0m\u001b[0;31m·\u001b[0m\u001b[0;31m·\u001b[0m\u001b[0;31m·\u001b[0m\u001b[0;32m■\u001b[0m\u001b[0;32m■\u001b[0m\u001b[0;32m■\u001b[0m\u001b[0;32m■\u001b[0m\u001b[0;32m■\u001b[0m\u001b[0;32m■\u001b[0m\u001b[0;32m■\u001b[0m\u001b[0;32m■\u001b[0m\u001b[0;32m■\u001b[0m\u001b[0;32m■\u001b[0m\u001b[0;32m■\u001b[0m\u001b[0;32m■\u001b[0m\u001b[0;32m■\u001b[0m\u001b[0;32m■\u001b[0m\u001b[0;32m■\u001b[0m\u001b[0;32m■\u001b[0m\u001b[0;32m■\u001b[0m\u001b[0;32m■\u001b[0m\u001b[0;32m■\u001b[0m\u001b[0;32m■\u001b[0m\u001b[0;32m■\u001b[0m\u001b[0;32m■\u001b[0m\u001b[0;32m■\u001b[0m\u001b[0;32m■\u001b[0m\u001b[0;31m·\u001b[0m\u001b[0;31m·\u001b[0m\u001b[0;31m·\u001b[0m\u001b[0;31m·\u001b[0m\u001b[0;31m·\u001b[0m\u001b[0;32m■\u001b[0m\u001b[0;32m■\u001b[0m\u001b[0;32m■\u001b[0m\u001b[0;32m■\u001b[0m\u001b[0;31m·\u001b[0m\u001b[0;31m·\u001b[0m\u001b[0;31m·\u001b[0m\u001b[0;31m·\u001b[0m│\n",
      "│\u001b[0;31m·\u001b[0m\u001b[0;32m■\u001b[0m\u001b[0;32m■\u001b[0m\u001b[0;32m■\u001b[0m\u001b[0;32m■\u001b[0m\u001b[0;32m■\u001b[0m\u001b[0;32m■\u001b[0m\u001b[0;32m■\u001b[0m\u001b[0;32m■\u001b[0m\u001b[0;32m■\u001b[0m\u001b[0;32m■\u001b[0m\u001b[0;32m■\u001b[0m\u001b[0;32m■\u001b[0m\u001b[0;32m■\u001b[0m\u001b[0;32m■\u001b[0m\u001b[0;32m■\u001b[0m\u001b[0;32m■\u001b[0m\u001b[0;32m■\u001b[0m\u001b[0;32m■\u001b[0m\u001b[0;32m■\u001b[0m\u001b[0;32m■\u001b[0m\u001b[0;32m■\u001b[0m\u001b[0;32m■\u001b[0m\u001b[0;32m■\u001b[0m\u001b[0;32m■\u001b[0m\u001b[0;32m■\u001b[0m\u001b[0;32m■\u001b[0m\u001b[0;32m■\u001b[0m\u001b[0;32m■\u001b[0m\u001b[0;31m·\u001b[0m\u001b[0;31m·\u001b[0m\u001b[0;31m·\u001b[0m\u001b[0;32m■\u001b[0m\u001b[0;32m■\u001b[0m\u001b[0;32m■\u001b[0m\u001b[0;31m·\u001b[0m\u001b[0;31m·\u001b[0m\u001b[0;31m·\u001b[0m\u001b[0;31m·\u001b[0m\u001b[0;31m·\u001b[0m\u001b[0;31m·\u001b[0m│\n",
      "│\u001b[0;31m·\u001b[0m\u001b[0;31m·\u001b[0m\u001b[0;32m■\u001b[0m\u001b[0;32m■\u001b[0m\u001b[0;32m■\u001b[0m\u001b[0;32m■\u001b[0m\u001b[0;32m■\u001b[0m\u001b[0;32m■\u001b[0m\u001b[0;32m■\u001b[0m\u001b[0;32m■\u001b[0m\u001b[0;32m■\u001b[0m\u001b[0;32m■\u001b[0m\u001b[0;32m■\u001b[0m\u001b[0;32m■\u001b[0m\u001b[0;32m■\u001b[0m\u001b[0;32m■\u001b[0m\u001b[0;32m■\u001b[0m\u001b[0;32m■\u001b[0m\u001b[0;32m■\u001b[0m\u001b[0;32m■\u001b[0m\u001b[0;32m■\u001b[0m\u001b[0;32m■\u001b[0m\u001b[0;32m■\u001b[0m\u001b[0;32m■\u001b[0m\u001b[0;32m■\u001b[0m\u001b[0;32m■\u001b[0m\u001b[0;32m■\u001b[0m\u001b[0;32m■\u001b[0m\u001b[0;32m■\u001b[0m\u001b[0;31m·\u001b[0m\u001b[0;31m·\u001b[0m\u001b[0;31m·\u001b[0m\u001b[0;31m·\u001b[0m\u001b[0;31m·\u001b[0m\u001b[0;31m·\u001b[0m\u001b[0;31m·\u001b[0m\u001b[0;31m·\u001b[0m\u001b[0;31m·\u001b[0m\u001b[0;31m·\u001b[0m\u001b[0;31m·\u001b[0m\u001b[0;31m·\u001b[0m│\n",
      "│\u001b[0;31m·\u001b[0m\u001b[0;31m·\u001b[0m\u001b[0;31m·\u001b[0m\u001b[0;31m·\u001b[0m\u001b[0;31m·\u001b[0m\u001b[0;31m·\u001b[0m\u001b[0;31m·\u001b[0m\u001b[0;32m■\u001b[0m\u001b[0;32m■\u001b[0m\u001b[0;32m■\u001b[0m\u001b[0;32m■\u001b[0m\u001b[0;32m■\u001b[0m\u001b[0;32m■\u001b[0m\u001b[0;32m■\u001b[0m\u001b[0;32m■\u001b[0m\u001b[0;32m■\u001b[0m\u001b[0;32m■\u001b[0m\u001b[0;32m■\u001b[0m\u001b[0;32m■\u001b[0m\u001b[0;32m■\u001b[0m\u001b[0;32m■\u001b[0m\u001b[0;32m■\u001b[0m\u001b[0;32m■\u001b[0m\u001b[0;32m■\u001b[0m\u001b[0;32m■\u001b[0m\u001b[0;32m■\u001b[0m\u001b[0;31m·\u001b[0m\u001b[0;31m·\u001b[0m\u001b[0;31m·\u001b[0m\u001b[0;31m·\u001b[0m\u001b[0;31m·\u001b[0m\u001b[0;31m·\u001b[0m\u001b[0;31m·\u001b[0m\u001b[0;31m·\u001b[0m\u001b[0;31m·\u001b[0m\u001b[0;31m·\u001b[0m\u001b[0;31m·\u001b[0m\u001b[0;31m·\u001b[0m\u001b[0;31m·\u001b[0m\u001b[0;31m·\u001b[0m\u001b[0;31m·\u001b[0m│\n",
      "│\u001b[0;31m·\u001b[0m\u001b[0;31m·\u001b[0m\u001b[0;31m·\u001b[0m\u001b[0;31m·\u001b[0m\u001b[0;31m·\u001b[0m\u001b[0;31m·\u001b[0m\u001b[0;31m·\u001b[0m\u001b[0;32m■\u001b[0m\u001b[0;32m■\u001b[0m\u001b[0;32m■\u001b[0m\u001b[0;32m■\u001b[0m\u001b[0;32m■\u001b[0m\u001b[0;32m■\u001b[0m\u001b[0;32m■\u001b[0m\u001b[0;32m■\u001b[0m\u001b[0;32m■\u001b[0m\u001b[0;32m■\u001b[0m\u001b[0;32m■\u001b[0m\u001b[0;32m■\u001b[0m\u001b[0;32m■\u001b[0m\u001b[0;32m■\u001b[0m\u001b[0;32m■\u001b[0m\u001b[0;32m■\u001b[0m\u001b[0;31m·\u001b[0m\u001b[0;31m·\u001b[0m\u001b[0;31m·\u001b[0m\u001b[0;31m·\u001b[0m\u001b[0;31m·\u001b[0m\u001b[0;31m·\u001b[0m\u001b[0;31m·\u001b[0m\u001b[0;31m·\u001b[0m\u001b[0;31m·\u001b[0m\u001b[0;31m·\u001b[0m\u001b[0;31m·\u001b[0m\u001b[0;31m·\u001b[0m\u001b[0;31m·\u001b[0m\u001b[0;31m·\u001b[0m\u001b[0;31m·\u001b[0m\u001b[0;31m·\u001b[0m\u001b[0;31m·\u001b[0m\u001b[0;31m·\u001b[0m│\n",
      "│\u001b[0;31m·\u001b[0m\u001b[0;31m·\u001b[0m\u001b[0;31m·\u001b[0m\u001b[0;31m·\u001b[0m\u001b[0;31m·\u001b[0m\u001b[0;31m·\u001b[0m\u001b[0;31m·\u001b[0m\u001b[0;32m■\u001b[0m\u001b[0;32m■\u001b[0m\u001b[0;32m■\u001b[0m\u001b[0;32m■\u001b[0m\u001b[0;32m■\u001b[0m\u001b[0;32m■\u001b[0m\u001b[0;32m■\u001b[0m\u001b[0;32m■\u001b[0m\u001b[0;32m■\u001b[0m\u001b[0;32m■\u001b[0m\u001b[0;32m■\u001b[0m\u001b[0;32m■\u001b[0m\u001b[0;32m■\u001b[0m\u001b[0;31m·\u001b[0m\u001b[0;31m·\u001b[0m\u001b[0;31m·\u001b[0m\u001b[0;31m·\u001b[0m\u001b[0;31m·\u001b[0m\u001b[0;31m·\u001b[0m\u001b[0;31m·\u001b[0m\u001b[0;31m·\u001b[0m\u001b[0;31m·\u001b[0m\u001b[0;31m·\u001b[0m\u001b[0;31m·\u001b[0m\u001b[0;31m·\u001b[0m\u001b[0;31m·\u001b[0m\u001b[0;31m·\u001b[0m\u001b[0;31m·\u001b[0m\u001b[0;31m·\u001b[0m\u001b[0;31m·\u001b[0m\u001b[0;31m·\u001b[0m\u001b[0;31m·\u001b[0m\u001b[0;31m·\u001b[0m\u001b[0;31m·\u001b[0m│\n",
      "│\u001b[0;31m·\u001b[0m\u001b[0;31m·\u001b[0m\u001b[0;31m·\u001b[0m\u001b[0;31m·\u001b[0m\u001b[0;31m·\u001b[0m\u001b[0;31m·\u001b[0m\u001b[0;31m·\u001b[0m\u001b[0;31m·\u001b[0m\u001b[0;32m■\u001b[0m\u001b[0;32m■\u001b[0m\u001b[0;32m■\u001b[0m\u001b[0;32m■\u001b[0m\u001b[0;32m■\u001b[0m\u001b[0;32m■\u001b[0m\u001b[0;32m■\u001b[0m\u001b[0;32m■\u001b[0m\u001b[0;32m■\u001b[0m\u001b[0;31m·\u001b[0m\u001b[0;31m·\u001b[0m\u001b[0;31m·\u001b[0m\u001b[0;31m·\u001b[0m\u001b[0;31m·\u001b[0m\u001b[0;31m·\u001b[0m\u001b[0;31m·\u001b[0m\u001b[0;31m·\u001b[0m\u001b[0;31m·\u001b[0m\u001b[0;31m·\u001b[0m\u001b[0;31m·\u001b[0m\u001b[0;31m·\u001b[0m\u001b[0;31m·\u001b[0m\u001b[0;31m·\u001b[0m\u001b[0;31m·\u001b[0m\u001b[0;31m·\u001b[0m\u001b[0;31m·\u001b[0m\u001b[0;31m·\u001b[0m\u001b[0;31m·\u001b[0m\u001b[0;31m·\u001b[0m\u001b[0;31m·\u001b[0m\u001b[0;31m·\u001b[0m\u001b[0;31m·\u001b[0m\u001b[0;31m·\u001b[0m│\n",
      "│\u001b[0;31m·\u001b[0m\u001b[0;31m·\u001b[0m\u001b[0;31m·\u001b[0m\u001b[0;31m·\u001b[0m\u001b[0;31m·\u001b[0m\u001b[0;31m·\u001b[0m\u001b[0;31m·\u001b[0m\u001b[0;31m·\u001b[0m\u001b[0;31m·\u001b[0m\u001b[0;32m■\u001b[0m\u001b[0;32m■\u001b[0m\u001b[0;32m■\u001b[0m\u001b[0;32m■\u001b[0m\u001b[0;32m■\u001b[0m\u001b[0;32m■\u001b[0m\u001b[0;32m■\u001b[0m\u001b[0;32m■\u001b[0m\u001b[0;31m·\u001b[0m\u001b[0;31m·\u001b[0m\u001b[0;31m·\u001b[0m\u001b[0;31m·\u001b[0m\u001b[0;31m·\u001b[0m\u001b[0;31m·\u001b[0m\u001b[0;31m·\u001b[0m\u001b[0;31m·\u001b[0m\u001b[0;31m·\u001b[0m\u001b[0;31m·\u001b[0m\u001b[0;31m·\u001b[0m\u001b[0;31m·\u001b[0m\u001b[0;31m·\u001b[0m\u001b[0;31m·\u001b[0m\u001b[0;31m·\u001b[0m\u001b[0;31m·\u001b[0m\u001b[0;31m·\u001b[0m\u001b[0;31m·\u001b[0m\u001b[0;31m·\u001b[0m\u001b[0;31m·\u001b[0m\u001b[0;31m·\u001b[0m\u001b[0;31m·\u001b[0m\u001b[0;31m·\u001b[0m\u001b[0;31m·\u001b[0m│\n",
      "│\u001b[0;31m·\u001b[0m\u001b[0;31m·\u001b[0m\u001b[0;31m·\u001b[0m\u001b[0;31m·\u001b[0m\u001b[0;31m·\u001b[0m\u001b[0;31m·\u001b[0m\u001b[0;31m·\u001b[0m\u001b[0;31m·\u001b[0m\u001b[0;31m·\u001b[0m\u001b[0;31m·\u001b[0m\u001b[0;32m■\u001b[0m\u001b[0;32m■\u001b[0m\u001b[0;32m■\u001b[0m\u001b[0;32m■\u001b[0m\u001b[0;32m■\u001b[0m\u001b[0;32m■\u001b[0m\u001b[0;32m■\u001b[0m\u001b[0;31m·\u001b[0m\u001b[0;31m·\u001b[0m\u001b[0;31m·\u001b[0m\u001b[0;31m·\u001b[0m\u001b[0;31m·\u001b[0m\u001b[0;31m·\u001b[0m\u001b[0;31m·\u001b[0m\u001b[0;31m·\u001b[0m\u001b[0;31m·\u001b[0m\u001b[0;31m·\u001b[0m\u001b[0;31m·\u001b[0m\u001b[0;31m·\u001b[0m\u001b[0;31m·\u001b[0m\u001b[0;31m·\u001b[0m\u001b[0;31m·\u001b[0m\u001b[0;31m·\u001b[0m\u001b[0;31m·\u001b[0m\u001b[0;31m·\u001b[0m\u001b[0;31m·\u001b[0m\u001b[0;31m·\u001b[0m\u001b[0;31m·\u001b[0m\u001b[0;31m·\u001b[0m\u001b[0;31m·\u001b[0m\u001b[0;31m·\u001b[0m│\n",
      "│\u001b[0;31m·\u001b[0m\u001b[0;31m·\u001b[0m\u001b[0;31m·\u001b[0m\u001b[0;31m·\u001b[0m\u001b[0;31m·\u001b[0m\u001b[0;31m·\u001b[0m\u001b[0;31m·\u001b[0m\u001b[0;31m·\u001b[0m\u001b[0;31m·\u001b[0m\u001b[0;31m·\u001b[0m\u001b[0;31m·\u001b[0m\u001b[0;32m■\u001b[0m\u001b[0;32m■\u001b[0m\u001b[0;32m■\u001b[0m\u001b[0;32m■\u001b[0m\u001b[0;32m■\u001b[0m\u001b[0;31m·\u001b[0m\u001b[0;31m·\u001b[0m\u001b[0;31m·\u001b[0m\u001b[0;31m·\u001b[0m\u001b[0;31m·\u001b[0m\u001b[0;31m·\u001b[0m\u001b[0;31m·\u001b[0m\u001b[0;31m·\u001b[0m\u001b[0;31m·\u001b[0m\u001b[0;31m·\u001b[0m\u001b[0;31m·\u001b[0m\u001b[0;31m·\u001b[0m\u001b[0;31m·\u001b[0m\u001b[0;31m·\u001b[0m\u001b[0;31m·\u001b[0m\u001b[0;31m·\u001b[0m\u001b[0;31m·\u001b[0m\u001b[0;31m·\u001b[0m\u001b[0;31m·\u001b[0m\u001b[0;31m·\u001b[0m\u001b[0;31m·\u001b[0m\u001b[0;31m·\u001b[0m\u001b[0;31m·\u001b[0m\u001b[0;31m·\u001b[0m\u001b[0;31m·\u001b[0m│\n",
      "│\u001b[0;31m·\u001b[0m\u001b[0;31m·\u001b[0m\u001b[0;31m·\u001b[0m\u001b[0;31m·\u001b[0m\u001b[0;31m·\u001b[0m\u001b[0;31m·\u001b[0m\u001b[0;31m·\u001b[0m\u001b[0;31m·\u001b[0m\u001b[0;31m·\u001b[0m\u001b[0;31m·\u001b[0m\u001b[0;31m·\u001b[0m\u001b[0;31m·\u001b[0m\u001b[0;32m■\u001b[0m\u001b[0;32m■\u001b[0m\u001b[0;32m■\u001b[0m\u001b[0;31m·\u001b[0m\u001b[0;31m·\u001b[0m\u001b[0;31m·\u001b[0m\u001b[0;31m·\u001b[0m\u001b[0;31m·\u001b[0m\u001b[0;31m·\u001b[0m\u001b[0;31m·\u001b[0m\u001b[0;31m·\u001b[0m\u001b[0;31m·\u001b[0m\u001b[0;31m·\u001b[0m\u001b[0;31m·\u001b[0m\u001b[0;31m·\u001b[0m\u001b[0;31m·\u001b[0m\u001b[0;31m·\u001b[0m\u001b[0;31m·\u001b[0m\u001b[0;31m·\u001b[0m\u001b[0;31m·\u001b[0m\u001b[0;31m·\u001b[0m\u001b[0;31m·\u001b[0m\u001b[0;31m·\u001b[0m\u001b[0;31m·\u001b[0m\u001b[0;31m·\u001b[0m\u001b[0;31m·\u001b[0m\u001b[0;31m·\u001b[0m\u001b[0;31m·\u001b[0m\u001b[0;31m·\u001b[0m│\n",
      "│\u001b[0;31m·\u001b[0m\u001b[0;31m·\u001b[0m\u001b[0;31m·\u001b[0m\u001b[0;31m·\u001b[0m\u001b[0;31m·\u001b[0m\u001b[0;31m·\u001b[0m\u001b[0;31m·\u001b[0m\u001b[0;31m·\u001b[0m\u001b[0;31m·\u001b[0m\u001b[0;31m·\u001b[0m\u001b[0;31m·\u001b[0m\u001b[0;31m·\u001b[0m\u001b[0;31m·\u001b[0m\u001b[0;31m·\u001b[0m\u001b[0;31m·\u001b[0m\u001b[0;31m·\u001b[0m\u001b[0;31m·\u001b[0m\u001b[0;31m·\u001b[0m\u001b[0;31m·\u001b[0m\u001b[0;31m·\u001b[0m\u001b[0;31m·\u001b[0m\u001b[0;31m·\u001b[0m\u001b[0;31m·\u001b[0m\u001b[0;31m·\u001b[0m\u001b[0;31m·\u001b[0m\u001b[0;31m·\u001b[0m\u001b[0;31m·\u001b[0m\u001b[0;31m·\u001b[0m\u001b[0;31m·\u001b[0m\u001b[0;31m·\u001b[0m\u001b[0;31m·\u001b[0m\u001b[0;31m·\u001b[0m\u001b[0;31m·\u001b[0m\u001b[0;31m·\u001b[0m\u001b[0;31m·\u001b[0m\u001b[0;31m·\u001b[0m\u001b[0;31m·\u001b[0m\u001b[0;31m·\u001b[0m\u001b[0;31m·\u001b[0m\u001b[0;31m·\u001b[0m\u001b[0;31m·\u001b[0m│\n",
      "└─────────────────────────────────────────┘\n",
      " \u001b[0;32m■\u001b[0m = Inside the shape\n",
      " \u001b[0;31m·\u001b[0m = Outside the shape\n",
      "\u001b[0m\n",
      "--- Processing Strategy ---\u001b[0m\n",
      "\u001b[0mUsing monthly dataset: False\u001b[0m\n",
      "\u001b[0mTotal days to process: 31\u001b[0m\n",
      "\u001b[0mMax days per chunk: 14\u001b[0m\n",
      "\u001b[0mNeeds chunking: True\u001b[0m\n",
      "\u001b[0m\u001b[0;36mPROCESSING CHUNK 1/3\u001b[0m\n",
      "Date Range: 2023-01-01 to 2023-01-14\n",
      "Variables:  2m_temperature, total_precipitation, surface_pressure, 2m_dewpoint_temperature\u001b[0m\n",
      "\u001b[0m  → Downloading ERA5 data (attempt 1/6)...\u001b[0m\n"
     ]
    },
    {
     "name": "stderr",
     "output_type": "stream",
     "text": [
      "2025-07-15 23:23:54,646 INFO [2024-09-26T00:00:00] Watch our [Forum](https://forum.ecmwf.int/) for Announcements, news and other discussed topics.\n",
      "INFO:ecmwf.datastores.legacy_client:[2024-09-26T00:00:00] Watch our [Forum](https://forum.ecmwf.int/) for Announcements, news and other discussed topics.\n",
      "2025-07-15 23:23:55,456 INFO Request ID is a19c6db8-82ca-4f5e-ac25-6972debd8047\n",
      "INFO:ecmwf.datastores.legacy_client:Request ID is a19c6db8-82ca-4f5e-ac25-6972debd8047\n",
      "2025-07-15 23:23:55,660 INFO status has been updated to accepted\n",
      "INFO:ecmwf.datastores.legacy_client:status has been updated to accepted\n",
      "2025-07-15 23:24:04,523 INFO status has been updated to successful\n",
      "INFO:ecmwf.datastores.legacy_client:status has been updated to successful\n"
     ]
    },
    {
     "data": {
      "application/vnd.jupyter.widget-view+json": {
       "model_id": "2f3598edb1054c53badded3fa8b8c893",
       "version_major": 2,
       "version_minor": 0
      },
      "text/plain": [
       "c0420f38a4442a37ac07fbfed289a137.zip:   0%|          | 0.00/23.4M [00:00<?, ?B/s]"
      ]
     },
     "metadata": {},
     "output_type": "display_data"
    },
    {
     "name": "stdout",
     "output_type": "stream",
     "text": [
      "\u001b[0m  \u001b[0;32m✓ Download completed: /var/folders/gl/sfjd74gn0wv11h31lr8v2cj40000gn/T/india_weather_daily_2023_Jan_chunk1.zip\u001b[0m\u001b[0m\n",
      "\u001b[0mExtracting zip file: /var/folders/gl/sfjd74gn0wv11h31lr8v2cj40000gn/T/india_weather_daily_2023_Jan_chunk1.zip\u001b[0m\n",
      "\u001b[0mExtracted NetCDF files:\u001b[0m\n",
      "\u001b[0m  - /var/folders/gl/sfjd74gn0wv11h31lr8v2cj40000gn/T/india_weather_daily_2023_Jan_chunk1/data_stream-oper_stepType-accum.nc\u001b[0m\n",
      "\u001b[0m  - /var/folders/gl/sfjd74gn0wv11h31lr8v2cj40000gn/T/india_weather_daily_2023_Jan_chunk1/data_stream-oper_stepType-instant.nc\u001b[0m\n",
      "\u001b[0m\n",
      "Processing downloaded data:\u001b[0m\n",
      "\u001b[0m- Found 2 file(s)\u001b[0m\n",
      "\u001b[0m  Processing file 1/2: data_stream-oper_stepType-accum.nc\u001b[0m\n",
      "\u001b[0m  ✓ Loaded: Dimensions: Frozen({'valid_time': 336, 'latitude': 111, 'longitude': 117})\u001b[0m\n",
      "\u001b[0m  Processing file 2/2: data_stream-oper_stepType-instant.nc\u001b[0m\n",
      "\u001b[0m  ✓ Loaded: Dimensions: Frozen({'valid_time': 336, 'latitude': 111, 'longitude': 117})\u001b[0m\n",
      "\u001b[0mStarting optimized filtering process...\u001b[0m\n",
      "\u001b[0m→ Extracting unique lat/lon coordinates from dataset...\u001b[0m\n",
      "\u001b[0m✓ Found 12987 unique lat/lon combinations\u001b[0m\n",
      "\u001b[0m→ Filtering unique coordinates against polygon...\u001b[0m\n",
      "\u001b[0m✓ Coordinate filtering completed in 0.06 seconds\u001b[0m\n",
      "\u001b[0m  - Points inside: 4446\u001b[0m\n",
      "\u001b[0m  - Points outside: 8541\u001b[0m\n",
      "\u001b[0m  - Percentage inside: 34.23%\u001b[0m\n",
      "\u001b[0m→ Filtering original dataset using inside coordinates...\u001b[0m\n",
      "\u001b[0m  Converting dataset to DataFrame...\u001b[0m\n",
      "\u001b[0m  ✓ Converted to DataFrame with 4363632 rows\u001b[0m\n",
      "\u001b[0m  ✓ Created lookup set with 4446 coordinate pairs\u001b[0m\n",
      "\u001b[0m  Filtering DataFrame rows...\u001b[0m\n",
      "\u001b[0m  ✓ Filtered from 4363632 to 1493856 rows\u001b[0m\n",
      "\u001b[0m✓ Dataset filtering completed in 2.04 seconds\u001b[0m\n",
      "\u001b[0m\n",
      "--- Final Filtering Results ---\u001b[0m\n",
      "\u001b[0mTotal processing time: 2.12 seconds\u001b[0m\n",
      "\u001b[0mFinal DataFrame shape: (1493856, 9)\u001b[0m\n",
      "\u001b[0mRows in final dataset: 1493856\u001b[0m\n",
      "\u001b[0m\u001b[0;32m✓ Chunk completed in 20.5 seconds\u001b[0m\u001b[0m\n",
      "\u001b[0m\u001b[0;36mPROCESSING CHUNK 2/3\u001b[0m\n",
      "Date Range: 2023-01-15 to 2023-01-28\n",
      "Variables:  2m_temperature, total_precipitation, surface_pressure, 2m_dewpoint_temperature\u001b[0m\n",
      "\u001b[0m  → Downloading ERA5 data (attempt 1/6)...\u001b[0m\n"
     ]
    },
    {
     "name": "stderr",
     "output_type": "stream",
     "text": [
      "2025-07-15 23:24:25,991 INFO [2024-09-26T00:00:00] Watch our [Forum](https://forum.ecmwf.int/) for Announcements, news and other discussed topics.\n",
      "INFO:ecmwf.datastores.legacy_client:[2024-09-26T00:00:00] Watch our [Forum](https://forum.ecmwf.int/) for Announcements, news and other discussed topics.\n",
      "2025-07-15 23:24:26,590 INFO Request ID is de211f61-bcb0-4228-bfcd-e3ee08cbd8fc\n",
      "INFO:ecmwf.datastores.legacy_client:Request ID is de211f61-bcb0-4228-bfcd-e3ee08cbd8fc\n",
      "2025-07-15 23:24:26,741 INFO status has been updated to accepted\n",
      "INFO:ecmwf.datastores.legacy_client:status has been updated to accepted\n",
      "2025-07-15 23:24:35,563 INFO status has been updated to running\n",
      "INFO:ecmwf.datastores.legacy_client:status has been updated to running\n",
      "2025-07-15 23:24:48,536 INFO status has been updated to successful\n",
      "INFO:ecmwf.datastores.legacy_client:status has been updated to successful\n"
     ]
    },
    {
     "data": {
      "application/vnd.jupyter.widget-view+json": {
       "model_id": "cb8ab1624a2f45268419ff9fb2a410d9",
       "version_major": 2,
       "version_minor": 0
      },
      "text/plain": [
       "aaeabb16743ab3aab9852ac0c019e719.zip:   0%|          | 0.00/23.2M [00:00<?, ?B/s]"
      ]
     },
     "metadata": {},
     "output_type": "display_data"
    },
    {
     "name": "stdout",
     "output_type": "stream",
     "text": [
      "\u001b[0m  \u001b[0;32m✓ Download completed: /var/folders/gl/sfjd74gn0wv11h31lr8v2cj40000gn/T/india_weather_daily_2023_Jan_chunk2.zip\u001b[0m\u001b[0m\n",
      "\u001b[0mExtracting zip file: /var/folders/gl/sfjd74gn0wv11h31lr8v2cj40000gn/T/india_weather_daily_2023_Jan_chunk2.zip\u001b[0m\n",
      "\u001b[0mExtracted NetCDF files:\u001b[0m\n",
      "\u001b[0m  - /var/folders/gl/sfjd74gn0wv11h31lr8v2cj40000gn/T/india_weather_daily_2023_Jan_chunk2/data_stream-oper_stepType-accum.nc\u001b[0m\n",
      "\u001b[0m  - /var/folders/gl/sfjd74gn0wv11h31lr8v2cj40000gn/T/india_weather_daily_2023_Jan_chunk2/data_stream-oper_stepType-instant.nc\u001b[0m\n",
      "\u001b[0m\n",
      "Processing downloaded data:\u001b[0m\n",
      "\u001b[0m- Found 2 file(s)\u001b[0m\n",
      "\u001b[0m  Processing file 1/2: data_stream-oper_stepType-accum.nc\u001b[0m\n",
      "\u001b[0m  ✓ Loaded: Dimensions: Frozen({'valid_time': 336, 'latitude': 111, 'longitude': 117})\u001b[0m\n",
      "\u001b[0m  Processing file 2/2: data_stream-oper_stepType-instant.nc\u001b[0m\n",
      "\u001b[0m  ✓ Loaded: Dimensions: Frozen({'valid_time': 336, 'latitude': 111, 'longitude': 117})\u001b[0m\n",
      "\u001b[0mStarting optimized filtering process...\u001b[0m\n",
      "\u001b[0m→ Extracting unique lat/lon coordinates from dataset...\u001b[0m\n",
      "\u001b[0m✓ Found 12987 unique lat/lon combinations\u001b[0m\n",
      "\u001b[0m→ Filtering unique coordinates against polygon...\u001b[0m\n",
      "\u001b[0m✓ Coordinate filtering completed in 0.07 seconds\u001b[0m\n",
      "\u001b[0m  - Points inside: 4446\u001b[0m\n",
      "\u001b[0m  - Points outside: 8541\u001b[0m\n",
      "\u001b[0m  - Percentage inside: 34.23%\u001b[0m\n",
      "\u001b[0m→ Filtering original dataset using inside coordinates...\u001b[0m\n",
      "\u001b[0m  Converting dataset to DataFrame...\u001b[0m\n",
      "\u001b[0m  ✓ Converted to DataFrame with 4363632 rows\u001b[0m\n",
      "\u001b[0m  ✓ Created lookup set with 4446 coordinate pairs\u001b[0m\n",
      "\u001b[0m  Filtering DataFrame rows...\u001b[0m\n",
      "\u001b[0m  ✓ Filtered from 4363632 to 1493856 rows\u001b[0m\n",
      "\u001b[0m✓ Dataset filtering completed in 2.11 seconds\u001b[0m\n",
      "\u001b[0m\n",
      "--- Final Filtering Results ---\u001b[0m\n",
      "\u001b[0mTotal processing time: 2.20 seconds\u001b[0m\n",
      "\u001b[0mFinal DataFrame shape: (1493856, 9)\u001b[0m\n",
      "\u001b[0mRows in final dataset: 1493856\u001b[0m\n",
      "\u001b[0m\u001b[0;32m✓ Chunk completed in 35.8 seconds\u001b[0m\u001b[0m\n",
      "\u001b[0m\u001b[0;36mPROCESSING CHUNK 3/3\u001b[0m\n",
      "Date Range: 2023-01-29 to 2023-01-31\n",
      "Variables:  2m_temperature, total_precipitation, surface_pressure, 2m_dewpoint_temperature\u001b[0m\n",
      "\u001b[0m  → Downloading ERA5 data (attempt 1/6)...\u001b[0m\n"
     ]
    },
    {
     "name": "stderr",
     "output_type": "stream",
     "text": [
      "2025-07-15 23:25:11,052 INFO [2024-09-26T00:00:00] Watch our [Forum](https://forum.ecmwf.int/) for Announcements, news and other discussed topics.\n",
      "INFO:ecmwf.datastores.legacy_client:[2024-09-26T00:00:00] Watch our [Forum](https://forum.ecmwf.int/) for Announcements, news and other discussed topics.\n",
      "2025-07-15 23:25:12,030 INFO Request ID is 67fa536c-0fc0-48a6-abfb-10ee304f918f\n",
      "INFO:ecmwf.datastores.legacy_client:Request ID is 67fa536c-0fc0-48a6-abfb-10ee304f918f\n",
      "2025-07-15 23:25:12,913 INFO status has been updated to accepted\n",
      "INFO:ecmwf.datastores.legacy_client:status has been updated to accepted\n",
      "2025-07-15 23:25:18,330 INFO status has been updated to running\n",
      "INFO:ecmwf.datastores.legacy_client:status has been updated to running\n",
      "2025-07-15 23:25:21,939 INFO status has been updated to successful\n",
      "INFO:ecmwf.datastores.legacy_client:status has been updated to successful\n"
     ]
    },
    {
     "data": {
      "application/vnd.jupyter.widget-view+json": {
       "model_id": "12998361d5cb48da861bf81a3811b74c",
       "version_major": 2,
       "version_minor": 0
      },
      "text/plain": [
       "858aa1485ddb20de4f449be065ac301a.zip:   0%|          | 0.00/5.15M [00:00<?, ?B/s]"
      ]
     },
     "metadata": {},
     "output_type": "display_data"
    },
    {
     "name": "stdout",
     "output_type": "stream",
     "text": [
      "\u001b[0m  \u001b[0;32m✓ Download completed: /var/folders/gl/sfjd74gn0wv11h31lr8v2cj40000gn/T/india_weather_daily_2023_Jan_chunk3.zip\u001b[0m\u001b[0m\n",
      "\u001b[0mExtracting zip file: /var/folders/gl/sfjd74gn0wv11h31lr8v2cj40000gn/T/india_weather_daily_2023_Jan_chunk3.zip\u001b[0m\n",
      "\u001b[0mExtracted NetCDF files:\u001b[0m\n",
      "\u001b[0m  - /var/folders/gl/sfjd74gn0wv11h31lr8v2cj40000gn/T/india_weather_daily_2023_Jan_chunk3/data_stream-oper_stepType-accum.nc\u001b[0m\n",
      "\u001b[0m  - /var/folders/gl/sfjd74gn0wv11h31lr8v2cj40000gn/T/india_weather_daily_2023_Jan_chunk3/data_stream-oper_stepType-instant.nc\u001b[0m\n",
      "\u001b[0m\n",
      "Processing downloaded data:\u001b[0m\n",
      "\u001b[0m- Found 2 file(s)\u001b[0m\n",
      "\u001b[0m  Processing file 1/2: data_stream-oper_stepType-accum.nc\u001b[0m\n",
      "\u001b[0m  ✓ Loaded: Dimensions: Frozen({'valid_time': 72, 'latitude': 111, 'longitude': 117})\u001b[0m\n",
      "\u001b[0m  Processing file 2/2: data_stream-oper_stepType-instant.nc\u001b[0m\n",
      "\u001b[0m  ✓ Loaded: Dimensions: Frozen({'valid_time': 72, 'latitude': 111, 'longitude': 117})\u001b[0m\n",
      "\u001b[0mStarting optimized filtering process...\u001b[0m\n",
      "\u001b[0m→ Extracting unique lat/lon coordinates from dataset...\u001b[0m\n",
      "\u001b[0m✓ Found 12987 unique lat/lon combinations\u001b[0m\n",
      "\u001b[0m→ Filtering unique coordinates against polygon...\u001b[0m\n",
      "\u001b[0m✓ Coordinate filtering completed in 0.07 seconds\u001b[0m\n",
      "\u001b[0m  - Points inside: 4446\u001b[0m\n",
      "\u001b[0m  - Points outside: 8541\u001b[0m\n",
      "\u001b[0m  - Percentage inside: 34.23%\u001b[0m\n",
      "\u001b[0m→ Filtering original dataset using inside coordinates...\u001b[0m\n",
      "\u001b[0m  Converting dataset to DataFrame...\u001b[0m\n",
      "\u001b[0m  ✓ Converted to DataFrame with 935064 rows\u001b[0m\n",
      "\u001b[0m  ✓ Created lookup set with 4446 coordinate pairs\u001b[0m\n",
      "\u001b[0m  Filtering DataFrame rows...\u001b[0m\n",
      "\u001b[0m  ✓ Filtered from 935064 to 320112 rows\u001b[0m\n",
      "\u001b[0m✓ Dataset filtering completed in 0.44 seconds\u001b[0m\n",
      "\u001b[0m\n",
      "--- Final Filtering Results ---\u001b[0m\n",
      "\u001b[0mTotal processing time: 0.52 seconds\u001b[0m\n",
      "\u001b[0mFinal DataFrame shape: (320112, 9)\u001b[0m\n",
      "\u001b[0mRows in final dataset: 320112\u001b[0m\n",
      "\u001b[0m\u001b[0;32m✓ Chunk completed in 15.0 seconds\u001b[0m\u001b[0m\n",
      "\u001b[0m\u001b[0;34mAGGREGATING DATA (DAILY)\u001b[0m\u001b[0m\n",
      "\u001b[0mAggregating data to daily frequency...\u001b[0m\n",
      "\u001b[0mSum columns: ['tp']\u001b[0m\n",
      "\u001b[0mMax columns: []\u001b[0m\n",
      "\u001b[0mMin columns: []\u001b[0m\n",
      "\u001b[0mRate columns: []\u001b[0m\n",
      "\u001b[0mAverage columns: ['t2m', 'sp', 'd2m']\u001b[0m\n",
      "\u001b[0mAggregation completed in:   0.55 seconds\u001b[0m\n",
      "\u001b[0m\n",
      "Saving files to output directory: india_weather_daily_2023_Jan_output\u001b[0m\n",
      "\u001b[0m  Saved final data to: india_weather_daily_2023_Jan_output/india_weather_daily_2023_Jan_daily_data.csv\u001b[0m\n",
      "\u001b[0m  Saved unique coordinates to: india_weather_daily_2023_Jan_output/india_weather_daily_2023_Jan_unique_latlongs.csv\u001b[0m\n",
      "\u001b[0m  Saved raw data to: india_weather_daily_2023_Jan_output/india_weather_daily_2023_Jan_raw_data.csv\u001b[0m\n",
      "\u001b[0m\n",
      "============================================================\u001b[0m\n",
      "\u001b[0m\u001b[0;32mPROCESSING COMPLETE\u001b[0m\u001b[0m\n",
      "\u001b[0m============================================================\u001b[0m\n",
      "\u001b[0m\n",
      "\u001b[0;36mRESULTS SUMMARY:\u001b[0m\u001b[0m\n",
      "\u001b[0m----------------------------------------\u001b[0m\n",
      "\u001b[0mVariables processed: 4\u001b[0m\n",
      "\u001b[0mTime period:         2023-01-01 to 2023-01-31\u001b[0m\n",
      "\u001b[0mFinal output shape:  (31, 8)\u001b[0m\n",
      "\u001b[0mTotal complete processing time: 105.64 seconds\u001b[0m\n",
      "\u001b[0m\n",
      "First 5 rows of aggregated data:\u001b[0m\n",
      "\u001b[0m         tp         t2m            sp         d2m  year  month  day  \\\n",
      "0  0.000155  289.156586  95582.187500  283.245087  2023      1    1   \n",
      "1  0.000184  288.782196  95621.062500  283.129059  2023      1    2   \n",
      "2  0.000141  288.308716  95639.898438  282.865387  2023      1    3   \n",
      "3  0.000200  287.533905  95647.882812  281.997925  2023      1    4   \n",
      "4  0.000143  287.359467  95756.250000  281.820160  2023      1    5   \n",
      "\n",
      "         date  \n",
      "0  2023-01-01  \n",
      "1  2023-01-02  \n",
      "2  2023-01-03  \n",
      "3  2023-01-04  \n",
      "4  2023-01-05  \u001b[0m\n",
      "\u001b[0m\n",
      "============================================================\u001b[0m\n",
      "\u001b[0m\u001b[0;34mERA5 SINGLE LEVEL PROCESSING COMPLETED SUCCESSFULLY\u001b[0m\u001b[0m\n",
      "\u001b[0m============================================================\u001b[0m\n"
     ]
    }
   ],
   "source": [
    "df_india = varunayan.era5ify_geojson(\n",
    "    request_id=\"india_weather_daily_2023_Jan\",\n",
    "    variables=[\n",
    "        \"2m_temperature\",\n",
    "        \"total_precipitation\",\n",
    "        \"surface_pressure\",\n",
    "        \"2m_dewpoint_temperature\",\n",
    "    ],\n",
    "    start_date=\"2023-1-1\",\n",
    "    end_date=\"2023-1-31\",\n",
    "    json_file=\"../data/india.json\",\n",
    "    dataset_type=\"single\",\n",
    "    frequency=\"daily\",\n",
    "    resolution=\"0.25\",\n",
    ")"
   ]
  },
  {
   "cell_type": "raw",
   "metadata": {},
   "source": [
    "# varunayan.era5ify_bbox(request_id, variables, start_date, end_date, north, south, east, west, dataset_type, pressure_levels, frequency, resolution)\n",
    "# request_id : str, unique identifier for the request\n",
    "# variables : list, list of variables to download\n",
    "# start_date : string, start date of the data ('YYYY-M-D' or 'YYYY-MM-DD')\n",
    "# end_date : string, end date of the data ('YYYY-M-D' or 'YYYY-MM-DD')\n",
    "# north : float, northern boundary of the bounding box\n",
    "# south : float, southern boundary of the bounding box\n",
    "# east : float, eastern boundary of the bounding box\n",
    "# west : float, western boundary of the bounding box\n",
    "# dataset_type : str, type of dataset (single or pressure, for single level or pressure level datasets), optional (single by default)\n",
    "# pressure_levels : list, list of strings of pressure levels to download (e.g., [\"1000\", \"925\", \"850\"]), optional (empty by default)\n",
    "# frequency : str, frequency of the data (hourly, daily, weekly, monthly, yearly), optional (hourly by default)\n",
    "# resolution : float, resolution of the data in degrees (0.1, 0.25, etc.), optional (0.25 by default)"
   ]
  },
  {
   "cell_type": "markdown",
   "metadata": {},
   "source": [
    "## Download daily weather data for a bounding box\n",
    "\n",
    "The location can alternatively also be specified using a bounding box:"
   ]
  },
  {
   "cell_type": "code",
   "execution_count": 3,
   "metadata": {
    "execution": {
     "iopub.execute_input": "2025-07-15T17:55:39.788396Z",
     "iopub.status.busy": "2025-07-15T17:55:39.788293Z",
     "iopub.status.idle": "2025-07-15T17:57:06.656547Z",
     "shell.execute_reply": "2025-07-15T17:57:06.656242Z",
     "shell.execute_reply.started": "2025-07-15T17:55:39.788384Z"
    }
   },
   "outputs": [
    {
     "name": "stdout",
     "output_type": "stream",
     "text": [
      "\u001b[0m✓ CDS API configuration is already set up and valid.\u001b[0m\n",
      "\u001b[0m\n",
      "============================================================\u001b[0m\n",
      "\u001b[0m\u001b[0;34mSTARTING ERA5 SINGLE LEVEL PROCESSING\u001b[0m\u001b[0m\n",
      "\u001b[0m============================================================\u001b[0m\n",
      "\u001b[0mRequest ID: temp_prec_bounding_box_2024\u001b[0m\n",
      "\u001b[0mVariables: ['2m_temperature', 'total_precipitation']\u001b[0m\n",
      "\u001b[0mDate Range: 2024-01-01 to 2024-01-15\u001b[0m\n",
      "\u001b[0mFrequency: daily\u001b[0m\n",
      "\u001b[0mResolution: 0.25°\u001b[0m\n",
      "\u001b[0m\u001b[0;32m✓ All inputs validated successfully\u001b[0m\u001b[0m\n",
      "\u001b[0m\n",
      "--- Bounding Box ---\u001b[0m\n",
      "\u001b[0m\u001b[0;32m✓ Bounding Box calculated:\u001b[0m\u001b[0m\n",
      "\u001b[0m  North: 30.0000°\u001b[0m\n",
      "\u001b[0m  South: 20.0000°\u001b[0m\n",
      "\u001b[0m  East:  80.0000°\u001b[0m\n",
      "\u001b[0m  West:  70.0000°\u001b[0m\n",
      "\u001b[0m  Area:  10.0000° × 10.0000°\u001b[0m\n",
      "\u001b[0m\n",
      "--- Processing Strategy ---\u001b[0m\n",
      "\u001b[0mUsing monthly dataset: False\u001b[0m\n",
      "\u001b[0mTotal days to process: 15\u001b[0m\n",
      "\u001b[0mMax days per chunk: 14\u001b[0m\n",
      "\u001b[0mNeeds chunking: True\u001b[0m\n",
      "\u001b[0m\u001b[0;36mPROCESSING CHUNK 1/2\u001b[0m\n",
      "Date Range: 2024-01-01 to 2024-01-14\n",
      "Variables:  2m_temperature, total_precipitation\u001b[0m\n",
      "\u001b[0m  → Downloading ERA5 data (attempt 1/6)...\u001b[0m\n"
     ]
    },
    {
     "name": "stderr",
     "output_type": "stream",
     "text": [
      "2025-07-15 23:25:40,242 INFO [2024-09-26T00:00:00] Watch our [Forum](https://forum.ecmwf.int/) for Announcements, news and other discussed topics.\n",
      "INFO:ecmwf.datastores.legacy_client:[2024-09-26T00:00:00] Watch our [Forum](https://forum.ecmwf.int/) for Announcements, news and other discussed topics.\n",
      "2025-07-15 23:25:41,028 INFO Request ID is b1e570e4-9cc4-4544-b04f-9b3ed78cb087\n",
      "INFO:ecmwf.datastores.legacy_client:Request ID is b1e570e4-9cc4-4544-b04f-9b3ed78cb087\n",
      "2025-07-15 23:25:41,196 INFO status has been updated to accepted\n",
      "INFO:ecmwf.datastores.legacy_client:status has been updated to accepted\n",
      "2025-07-15 23:25:55,241 INFO status has been updated to running\n",
      "INFO:ecmwf.datastores.legacy_client:status has been updated to running\n",
      "2025-07-15 23:26:14,953 INFO status has been updated to successful\n",
      "INFO:ecmwf.datastores.legacy_client:status has been updated to successful\n"
     ]
    },
    {
     "data": {
      "application/vnd.jupyter.widget-view+json": {
       "model_id": "c9eb2ff27e8348a78ef50611f946eedb",
       "version_major": 2,
       "version_minor": 0
      },
      "text/plain": [
       "92fedc44364dd0cc866ed52264f2b70a.zip:   0%|          | 0.00/1.11M [00:00<?, ?B/s]"
      ]
     },
     "metadata": {},
     "output_type": "display_data"
    },
    {
     "name": "stdout",
     "output_type": "stream",
     "text": [
      "\u001b[0m  \u001b[0;32m✓ Download completed: /var/folders/gl/sfjd74gn0wv11h31lr8v2cj40000gn/T/temp_prec_bounding_box_2024_chunk1.zip\u001b[0m\u001b[0m\n",
      "\u001b[0mExtracting zip file: /var/folders/gl/sfjd74gn0wv11h31lr8v2cj40000gn/T/temp_prec_bounding_box_2024_chunk1.zip\u001b[0m\n",
      "\u001b[0mExtracted NetCDF files:\u001b[0m\n",
      "\u001b[0m  - /var/folders/gl/sfjd74gn0wv11h31lr8v2cj40000gn/T/temp_prec_bounding_box_2024_chunk1/data_stream-oper_stepType-accum.nc\u001b[0m\n",
      "\u001b[0m  - /var/folders/gl/sfjd74gn0wv11h31lr8v2cj40000gn/T/temp_prec_bounding_box_2024_chunk1/data_stream-oper_stepType-instant.nc\u001b[0m\n",
      "\u001b[0m\n",
      "Processing downloaded data:\u001b[0m\n",
      "\u001b[0m- Found 2 file(s)\u001b[0m\n",
      "\u001b[0m  Processing file 1/2: data_stream-oper_stepType-accum.nc\u001b[0m\n",
      "\u001b[0m  ✓ Loaded: Dimensions: Frozen({'valid_time': 336, 'latitude': 41, 'longitude': 41})\u001b[0m\n",
      "\u001b[0m  Processing file 2/2: data_stream-oper_stepType-instant.nc\u001b[0m\n",
      "\u001b[0m  ✓ Loaded: Dimensions: Frozen({'valid_time': 336, 'latitude': 41, 'longitude': 41})\u001b[0m\n",
      "\u001b[0m\u001b[0;32m✓ Chunk completed in 37.5 seconds\u001b[0m\u001b[0m\n",
      "\u001b[0m\u001b[0;36mPROCESSING CHUNK 2/2\u001b[0m\n",
      "Date Range: 2024-01-15 to 2024-01-15\n",
      "Variables:  2m_temperature, total_precipitation\u001b[0m\n",
      "\u001b[0m  → Downloading ERA5 data (attempt 1/6)...\u001b[0m\n"
     ]
    },
    {
     "name": "stderr",
     "output_type": "stream",
     "text": [
      "2025-07-15 23:26:27,800 INFO [2024-09-26T00:00:00] Watch our [Forum](https://forum.ecmwf.int/) for Announcements, news and other discussed topics.\n",
      "INFO:ecmwf.datastores.legacy_client:[2024-09-26T00:00:00] Watch our [Forum](https://forum.ecmwf.int/) for Announcements, news and other discussed topics.\n",
      "2025-07-15 23:26:28,550 INFO Request ID is 208bed7b-944e-4062-8c0c-55fd3cd1979d\n",
      "INFO:ecmwf.datastores.legacy_client:Request ID is 208bed7b-944e-4062-8c0c-55fd3cd1979d\n",
      "2025-07-15 23:26:28,762 INFO status has been updated to accepted\n",
      "INFO:ecmwf.datastores.legacy_client:status has been updated to accepted\n",
      "2025-07-15 23:27:02,616 INFO status has been updated to successful\n",
      "INFO:ecmwf.datastores.legacy_client:status has been updated to successful\n"
     ]
    },
    {
     "data": {
      "application/vnd.jupyter.widget-view+json": {
       "model_id": "635b1f4d0e5c45cba4f8663a12eaf7c6",
       "version_major": 2,
       "version_minor": 0
      },
      "text/plain": [
       "4727f46fced746f374321037dfb8b83f.zip:   0%|          | 0.00/120k [00:00<?, ?B/s]"
      ]
     },
     "metadata": {},
     "output_type": "display_data"
    },
    {
     "name": "stdout",
     "output_type": "stream",
     "text": [
      "\u001b[0m  \u001b[0;32m✓ Download completed: /var/folders/gl/sfjd74gn0wv11h31lr8v2cj40000gn/T/temp_prec_bounding_box_2024_chunk2.zip\u001b[0m\u001b[0m\n",
      "\u001b[0mExtracting zip file: /var/folders/gl/sfjd74gn0wv11h31lr8v2cj40000gn/T/temp_prec_bounding_box_2024_chunk2.zip\u001b[0m\n",
      "\u001b[0mExtracted NetCDF files:\u001b[0m\n",
      "\u001b[0m  - /var/folders/gl/sfjd74gn0wv11h31lr8v2cj40000gn/T/temp_prec_bounding_box_2024_chunk2/data_stream-oper_stepType-accum.nc\u001b[0m\n",
      "\u001b[0m  - /var/folders/gl/sfjd74gn0wv11h31lr8v2cj40000gn/T/temp_prec_bounding_box_2024_chunk2/data_stream-oper_stepType-instant.nc\u001b[0m\n",
      "\u001b[0m\n",
      "Processing downloaded data:\u001b[0m\n",
      "\u001b[0m- Found 2 file(s)\u001b[0m\n",
      "\u001b[0m  Processing file 1/2: data_stream-oper_stepType-accum.nc\u001b[0m\n",
      "\u001b[0m  ✓ Loaded: Dimensions: Frozen({'valid_time': 24, 'latitude': 41, 'longitude': 41})\u001b[0m\n",
      "\u001b[0m  Processing file 2/2: data_stream-oper_stepType-instant.nc\u001b[0m\n",
      "\u001b[0m  ✓ Loaded: Dimensions: Frozen({'valid_time': 24, 'latitude': 41, 'longitude': 41})\u001b[0m\n",
      "\u001b[0m\u001b[0;32m✓ Chunk completed in 37.4 seconds\u001b[0m\u001b[0m\n",
      "\u001b[0m\u001b[0;34mAGGREGATING DATA (DAILY)\u001b[0m\u001b[0m\n",
      "\u001b[0mAggregating data to daily frequency...\u001b[0m\n",
      "\u001b[0mSum columns: ['tp']\u001b[0m\n",
      "\u001b[0mMax columns: []\u001b[0m\n",
      "\u001b[0mMin columns: []\u001b[0m\n",
      "\u001b[0mRate columns: []\u001b[0m\n",
      "\u001b[0mAverage columns: ['t2m']\u001b[0m\n",
      "\u001b[0mAggregation completed in:   0.11 seconds\u001b[0m\n",
      "\u001b[0m\n",
      "Saving files to output directory: temp_prec_bounding_box_2024_output\u001b[0m\n",
      "\u001b[0m  Saved final data to: temp_prec_bounding_box_2024_output/temp_prec_bounding_box_2024_daily_data.csv\u001b[0m\n",
      "\u001b[0m  Saved unique coordinates to: temp_prec_bounding_box_2024_output/temp_prec_bounding_box_2024_unique_latlongs.csv\u001b[0m\n",
      "\u001b[0m  Saved raw data to: temp_prec_bounding_box_2024_output/temp_prec_bounding_box_2024_raw_data.csv\u001b[0m\n",
      "\u001b[0m\n",
      "============================================================\u001b[0m\n",
      "\u001b[0m\u001b[0;32mPROCESSING COMPLETE\u001b[0m\u001b[0m\n",
      "\u001b[0m============================================================\u001b[0m\n",
      "\u001b[0m\n",
      "\u001b[0;36mRESULTS SUMMARY:\u001b[0m\u001b[0m\n",
      "\u001b[0m----------------------------------------\u001b[0m\n",
      "\u001b[0mVariables processed: 2\u001b[0m\n",
      "\u001b[0mTime period:         2024-01-01 to 2024-01-15\u001b[0m\n",
      "\u001b[0mFinal output shape:  (15, 6)\u001b[0m\n",
      "\u001b[0mTotal complete processing time: 86.85 seconds\u001b[0m\n",
      "\u001b[0m\n",
      "First 5 rows of aggregated data:\u001b[0m\n",
      "\u001b[0m         tp         t2m  year  month  day        date\n",
      "0  0.000059  289.480377  2024      1    1  2024-01-01\n",
      "1  0.000158  288.823975  2024      1    2  2024-01-02\n",
      "2  0.000437  288.676178  2024      1    3  2024-01-03\n",
      "3  0.000333  288.236481  2024      1    4  2024-01-04\n",
      "4  0.000649  288.469452  2024      1    5  2024-01-05\u001b[0m\n",
      "\u001b[0m\n",
      "============================================================\u001b[0m\n",
      "\u001b[0m\u001b[0;34mERA5 SINGLE LEVEL PROCESSING COMPLETED SUCCESSFULLY\u001b[0m\u001b[0m\n",
      "\u001b[0m============================================================\u001b[0m\n"
     ]
    }
   ],
   "source": [
    "df_bounding_box = varunayan.era5ify_bbox(\n",
    "    request_id=\"temp_prec_bounding_box_2024\",\n",
    "    variables=[\"2m_temperature\", \"total_precipitation\"],\n",
    "    start_date=\"2024-01-1\",\n",
    "    end_date=\"2024-01-15\",\n",
    "    north=30,\n",
    "    south=20,\n",
    "    east=80,\n",
    "    west=70,\n",
    "    frequency=\"daily\",\n",
    "    resolution=0.25,\n",
    ")"
   ]
  },
  {
   "cell_type": "markdown",
   "metadata": {},
   "source": [
    "You can also request relative humidity at a specific pressure level."
   ]
  },
  {
   "cell_type": "code",
   "execution_count": 4,
   "metadata": {
    "execution": {
     "iopub.execute_input": "2025-07-15T17:57:06.657322Z",
     "iopub.status.busy": "2025-07-15T17:57:06.657184Z",
     "iopub.status.idle": "2025-07-15T17:57:55.276306Z",
     "shell.execute_reply": "2025-07-15T17:57:55.276017Z",
     "shell.execute_reply.started": "2025-07-15T17:57:06.657312Z"
    }
   },
   "outputs": [
    {
     "name": "stdout",
     "output_type": "stream",
     "text": [
      "\u001b[0m✓ CDS API configuration is already set up and valid.\u001b[0m\n",
      "\u001b[0m\n",
      "============================================================\u001b[0m\n",
      "\u001b[0m\u001b[0;34mSTARTING ERA5 PRESSURE LEVEL PROCESSING\u001b[0m\u001b[0m\n",
      "\u001b[0m============================================================\u001b[0m\n",
      "\u001b[0mRequest ID: bounding_box_pressure_relative_humidity\u001b[0m\n",
      "\u001b[0mVariables: ['temperature', 'relative_humidity']\u001b[0m\n",
      "\u001b[0mPressure Levels: ['1000']\u001b[0m\n",
      "\u001b[0mDate Range: 2024-01-01 to 2024-01-15\u001b[0m\n",
      "\u001b[0mFrequency: daily\u001b[0m\n",
      "\u001b[0mResolution: 0.25°\u001b[0m\n",
      "\u001b[0m\u001b[0;32m✓ All inputs validated successfully\u001b[0m\u001b[0m\n",
      "\u001b[0m\n",
      "--- Bounding Box ---\u001b[0m\n",
      "\u001b[0m\u001b[0;32m✓ Bounding Box calculated:\u001b[0m\u001b[0m\n",
      "\u001b[0m  North: 30.0000°\u001b[0m\n",
      "\u001b[0m  South: 20.0000°\u001b[0m\n",
      "\u001b[0m  East:  80.0000°\u001b[0m\n",
      "\u001b[0m  West:  70.0000°\u001b[0m\n",
      "\u001b[0m  Area:  10.0000° × 10.0000°\u001b[0m\n",
      "\u001b[0m\n",
      "--- Processing Strategy ---\u001b[0m\n",
      "\u001b[0mUsing monthly dataset: False\u001b[0m\n",
      "\u001b[0mTotal days to process: 15\u001b[0m\n",
      "\u001b[0mMax days per chunk: 14\u001b[0m\n",
      "\u001b[0mNeeds chunking: True\u001b[0m\n",
      "\u001b[0m\u001b[0;36mPROCESSING CHUNK 1/2\u001b[0m\n",
      "Date Range: 2024-01-01 to 2024-01-14\n",
      "Variables:  temperature, relative_humidity\n",
      "Levels:     1000\u001b[0m\n",
      "\u001b[0m  → Downloading ERA5 data (attempt 1/6)...\u001b[0m\n"
     ]
    },
    {
     "name": "stderr",
     "output_type": "stream",
     "text": [
      "2025-07-15 23:27:07,187 INFO [2024-09-26T00:00:00] Watch our [Forum](https://forum.ecmwf.int/) for Announcements, news and other discussed topics.\n",
      "INFO:ecmwf.datastores.legacy_client:[2024-09-26T00:00:00] Watch our [Forum](https://forum.ecmwf.int/) for Announcements, news and other discussed topics.\n",
      "2025-07-15 23:27:07,613 INFO Request ID is 667e7488-1b45-4f20-a600-529d6f54b533\n",
      "INFO:ecmwf.datastores.legacy_client:Request ID is 667e7488-1b45-4f20-a600-529d6f54b533\n",
      "2025-07-15 23:27:07,958 INFO status has been updated to accepted\n",
      "INFO:ecmwf.datastores.legacy_client:status has been updated to accepted\n",
      "2025-07-15 23:27:17,267 INFO status has been updated to running\n",
      "INFO:ecmwf.datastores.legacy_client:status has been updated to running\n",
      "2025-07-15 23:27:22,556 INFO status has been updated to successful\n",
      "INFO:ecmwf.datastores.legacy_client:status has been updated to successful\n"
     ]
    },
    {
     "data": {
      "application/vnd.jupyter.widget-view+json": {
       "model_id": "bd739074f44a4dfb8172352ddab61574",
       "version_major": 2,
       "version_minor": 0
      },
      "text/plain": [
       "a31c95b4d651ba01a259e57c5425653a.nc:   0%|          | 0.00/1.98M [00:00<?, ?B/s]"
      ]
     },
     "metadata": {},
     "output_type": "display_data"
    },
    {
     "name": "stdout",
     "output_type": "stream",
     "text": [
      "\u001b[0m  \u001b[0;32m✓ Download completed: /var/folders/gl/sfjd74gn0wv11h31lr8v2cj40000gn/T/bounding_box_pressure_relative_humidity_chunk1.nc\u001b[0m\u001b[0m\n",
      "\u001b[0mCopying NetCDF file: /var/folders/gl/sfjd74gn0wv11h31lr8v2cj40000gn/T/bounding_box_pressure_relative_humidity_chunk1.nc\u001b[0m\n",
      "\u001b[0mExtracted NetCDF files:\u001b[0m\n",
      "\u001b[0m  - /var/folders/gl/sfjd74gn0wv11h31lr8v2cj40000gn/T/bounding_box_pressure_relative_humidity_chunk1/bounding_box_pressure_relative_humidity_chunk1.nc\u001b[0m\n",
      "\u001b[0m\n",
      "Processing downloaded data:\u001b[0m\n",
      "\u001b[0m- Found 1 file(s)\u001b[0m\n",
      "\u001b[0m  Processing file 1/1: bounding_box_pressure_relative_humidity_chunk1.nc\u001b[0m\n",
      "\u001b[0m  ✓ Loaded: Dimensions: Frozen({'valid_time': 336, 'pressure_level': 1, 'latitude': 41, 'longitude': 41})\u001b[0m\n",
      "\u001b[0m\u001b[0;32m✓ Chunk completed in 18.8 seconds\u001b[0m\u001b[0m\n",
      "\u001b[0m\u001b[0;36mPROCESSING CHUNK 2/2\u001b[0m\n",
      "Date Range: 2024-01-15 to 2024-01-15\n",
      "Variables:  temperature, relative_humidity\n",
      "Levels:     1000\u001b[0m\n",
      "\u001b[0m  → Downloading ERA5 data (attempt 1/6)...\u001b[0m\n"
     ]
    },
    {
     "name": "stderr",
     "output_type": "stream",
     "text": [
      "2025-07-15 23:27:36,063 INFO [2024-09-26T00:00:00] Watch our [Forum](https://forum.ecmwf.int/) for Announcements, news and other discussed topics.\n",
      "INFO:ecmwf.datastores.legacy_client:[2024-09-26T00:00:00] Watch our [Forum](https://forum.ecmwf.int/) for Announcements, news and other discussed topics.\n",
      "2025-07-15 23:27:36,736 INFO Request ID is 1ea5967f-d8e7-467f-a986-fbc6821c6a44\n",
      "INFO:ecmwf.datastores.legacy_client:Request ID is 1ea5967f-d8e7-467f-a986-fbc6821c6a44\n",
      "2025-07-15 23:27:36,998 INFO status has been updated to accepted\n",
      "INFO:ecmwf.datastores.legacy_client:status has been updated to accepted\n",
      "2025-07-15 23:27:46,166 INFO status has been updated to running\n",
      "INFO:ecmwf.datastores.legacy_client:status has been updated to running\n",
      "2025-07-15 23:27:51,497 INFO status has been updated to successful\n",
      "INFO:ecmwf.datastores.legacy_client:status has been updated to successful\n"
     ]
    },
    {
     "data": {
      "application/vnd.jupyter.widget-view+json": {
       "model_id": "15f1d25d1cb84465b7187282c4bd0242",
       "version_major": 2,
       "version_minor": 0
      },
      "text/plain": [
       "acb288b5bd9e45b35d8b62e7a8c97725.nc:   0%|          | 0.00/187k [00:00<?, ?B/s]"
      ]
     },
     "metadata": {},
     "output_type": "display_data"
    },
    {
     "name": "stdout",
     "output_type": "stream",
     "text": [
      "\u001b[0m  \u001b[0;32m✓ Download completed: /var/folders/gl/sfjd74gn0wv11h31lr8v2cj40000gn/T/bounding_box_pressure_relative_humidity_chunk2.nc\u001b[0m\u001b[0m\n",
      "\u001b[0mCopying NetCDF file: /var/folders/gl/sfjd74gn0wv11h31lr8v2cj40000gn/T/bounding_box_pressure_relative_humidity_chunk2.nc\u001b[0m\n",
      "\u001b[0mExtracted NetCDF files:\u001b[0m\n",
      "\u001b[0m  - /var/folders/gl/sfjd74gn0wv11h31lr8v2cj40000gn/T/bounding_box_pressure_relative_humidity_chunk2/bounding_box_pressure_relative_humidity_chunk2.nc\u001b[0m\n",
      "\u001b[0m\n",
      "Processing downloaded data:\u001b[0m\n",
      "\u001b[0m- Found 1 file(s)\u001b[0m\n",
      "\u001b[0m  Processing file 1/1: bounding_box_pressure_relative_humidity_chunk2.nc\u001b[0m\n",
      "\u001b[0m  ✓ Loaded: Dimensions: Frozen({'valid_time': 24, 'pressure_level': 1, 'latitude': 41, 'longitude': 41})\u001b[0m\n",
      "\u001b[0m\u001b[0;32m✓ Chunk completed in 17.9 seconds\u001b[0m\u001b[0m\n",
      "\u001b[0m\u001b[0;34mAGGREGATING DATA (DAILY)\u001b[0m\u001b[0m\n",
      "\u001b[0mAggregating pressure level data to daily frequency...\u001b[0m\n",
      "\u001b[0mVariables to average: ['t', 'r']\u001b[0m\n",
      "\u001b[0mIncluding pressure_level in aggregation groups\u001b[0m\n",
      "\u001b[0mAggregation completed in:   0.05 seconds\u001b[0m\n",
      "\u001b[0m\n",
      "Saving files to output directory: bounding_box_pressure_relative_humidity_output\u001b[0m\n",
      "\u001b[0m  Saved final data to: bounding_box_pressure_relative_humidity_output/bounding_box_pressure_relative_humidity_daily_data.csv\u001b[0m\n",
      "\u001b[0m  Saved unique coordinates to: bounding_box_pressure_relative_humidity_output/bounding_box_pressure_relative_humidity_unique_latlongs.csv\u001b[0m\n",
      "\u001b[0m  Saved raw data to: bounding_box_pressure_relative_humidity_output/bounding_box_pressure_relative_humidity_raw_data.csv\u001b[0m\n",
      "\u001b[0m\n",
      "============================================================\u001b[0m\n",
      "\u001b[0m\u001b[0;32mPROCESSING COMPLETE\u001b[0m\u001b[0m\n",
      "\u001b[0m============================================================\u001b[0m\n",
      "\u001b[0m\n",
      "\u001b[0;36mRESULTS SUMMARY:\u001b[0m\u001b[0m\n",
      "\u001b[0m----------------------------------------\u001b[0m\n",
      "\u001b[0mVariables processed: 2\u001b[0m\n",
      "\u001b[0mTime period:         2024-01-01 to 2024-01-15\u001b[0m\n",
      "\u001b[0mFinal output shape:  (15, 6)\u001b[0m\n",
      "\u001b[0mTotal complete processing time: 48.61 seconds\u001b[0m\n",
      "\u001b[0m\n",
      "First 5 rows of aggregated data:\u001b[0m\n",
      "\u001b[0m            t          r  pressure_level  year  month  day\n",
      "0  292.125336  72.452385          1000.0  2024      1    1\n",
      "1  291.697723  72.968575          1000.0  2024      1    2\n",
      "2  291.161835  74.767265          1000.0  2024      1    3\n",
      "3  291.061493  74.192192          1000.0  2024      1    4\n",
      "4  290.956696  73.344673          1000.0  2024      1    5\u001b[0m\n",
      "\u001b[0m\n",
      "============================================================\u001b[0m\n",
      "\u001b[0m\u001b[0;34mERA5 PRESSURE LEVEL PROCESSING COMPLETED SUCCESSFULLY\u001b[0m\u001b[0m\n",
      "\u001b[0m============================================================\u001b[0m\n"
     ]
    }
   ],
   "source": [
    "df_bounding_box_pressure = varunayan.era5ify_bbox(\n",
    "    request_id=\"bounding_box_pressure_relative_humidity\",\n",
    "    variables=[\"temperature\", \"relative_humidity\"],\n",
    "    start_date=\"2024-01-1\",\n",
    "    end_date=\"2024-01-15\",\n",
    "    north=30,\n",
    "    south=20,\n",
    "    east=80,\n",
    "    west=70,\n",
    "    dataset_type=\"pressure\",\n",
    "    pressure_levels=[\"1000\"],\n",
    "    frequency=\"daily\",\n",
    "    resolution=0.25,\n",
    ")"
   ]
  },
  {
   "cell_type": "code",
   "execution_count": 5,
   "metadata": {
    "execution": {
     "iopub.execute_input": "2025-07-15T17:57:55.276903Z",
     "iopub.status.busy": "2025-07-15T17:57:55.276827Z",
     "iopub.status.idle": "2025-07-15T17:57:55.278991Z",
     "shell.execute_reply": "2025-07-15T17:57:55.278562Z",
     "shell.execute_reply.started": "2025-07-15T17:57:55.276896Z"
    }
   },
   "outputs": [],
   "source": [
    "# varunayan.era5ify_point(request_id, variables, start_date, end_date, latitude, longitude, dataset_type, pressure_levels, frequency)\n",
    "# request_id : str, unique identifier for the request\n",
    "# variables : list, list of variables to download\n",
    "# start_date : string, start date of the data ('YYYY-M-D' or 'YYYY-MM-DD')\n",
    "# end_date : string, end date of the data ('YYYY-M-D' or 'YYYY-MM-DD')\n",
    "# latitude : float, latitude of the point of interest\n",
    "# longitude : float, longitude of the point of interest\n",
    "# dataset_type : str, type of dataset (single or pressure, for single level or pressure level datasets), optional (single by default)\n",
    "# pressure_levels : list, list of strings of pressure levels to download (e.g., [\"1000\", \"925\", \"850\"]), optional (empty by default)\n",
    "# frequency : str, frequency of the data (hourly, daily, weekly, monthly, yearly), optional (hourly by default)"
   ]
  },
  {
   "cell_type": "markdown",
   "metadata": {},
   "source": [
    "And finally, you can request weather at a particular latitute and longitude"
   ]
  },
  {
   "cell_type": "code",
   "execution_count": 6,
   "metadata": {
    "execution": {
     "iopub.execute_input": "2025-07-15T17:57:55.280681Z",
     "iopub.status.busy": "2025-07-15T17:57:55.280595Z",
     "iopub.status.idle": "2025-07-15T17:58:13.031573Z",
     "shell.execute_reply": "2025-07-15T17:58:13.031203Z",
     "shell.execute_reply.started": "2025-07-15T17:57:55.280673Z"
    }
   },
   "outputs": [
    {
     "name": "stdout",
     "output_type": "stream",
     "text": [
      "\u001b[0m✓ CDS API configuration is already set up and valid.\u001b[0m\n",
      "\u001b[0m\n",
      "============================================================\u001b[0m\n",
      "\u001b[0m\u001b[0;34mSTARTING ERA5 SINGLE LEVEL PROCESSING\u001b[0m\u001b[0m\n",
      "\u001b[0m============================================================\u001b[0m\n",
      "\u001b[0mRequest ID: test5\u001b[0m\n",
      "\u001b[0mVariables: ['2m_temperature', 'total_precipitation']\u001b[0m\n",
      "\u001b[0mDate Range: 2024-08-01 to 2024-08-14\u001b[0m\n",
      "\u001b[0mFrequency: daily\u001b[0m\n",
      "\u001b[0mResolution: 0.1°\u001b[0m\n",
      "\u001b[0mGeoJSON File: /var/folders/gl/sfjd74gn0wv11h31lr8v2cj40000gn/T/test5_temp_geojson.json\u001b[0m\n",
      "\u001b[0m\u001b[0;32m✓ All inputs validated successfully\u001b[0m\u001b[0m\n",
      "\u001b[0m\n",
      "--- Bounding Box ---\u001b[0m\n",
      "\u001b[0m\u001b[0;32m✓ Bounding Box calculated:\u001b[0m\u001b[0m\n",
      "\u001b[0m  North: 19.1931°\u001b[0m\n",
      "\u001b[0m  South: 19.0731°\u001b[0m\n",
      "\u001b[0m  East:  72.9786°\u001b[0m\n",
      "\u001b[0m  West:  72.8516°\u001b[0m\n",
      "\u001b[0m  Area:  0.1270° × 0.1200°\u001b[0m\n",
      "\n",
      "\n",
      "--- GeoJSON Mini Map ---\n",
      "\n",
      "\u001b[0;34mMINI MAP (72.85°W to 72.98°E, 19.07°S to 19.19°N):\u001b[0m\n",
      "┌─────────────────────────────────────────┐\n",
      "│\u001b[0;31m·\u001b[0m\u001b[0;31m·\u001b[0m\u001b[0;31m·\u001b[0m\u001b[0;31m·\u001b[0m\u001b[0;31m·\u001b[0m\u001b[0;31m·\u001b[0m\u001b[0;31m·\u001b[0m\u001b[0;31m·\u001b[0m\u001b[0;31m·\u001b[0m\u001b[0;31m·\u001b[0m\u001b[0;31m·\u001b[0m\u001b[0;31m·\u001b[0m\u001b[0;31m·\u001b[0m\u001b[0;31m·\u001b[0m\u001b[0;31m·\u001b[0m\u001b[0;31m·\u001b[0m\u001b[0;31m·\u001b[0m\u001b[0;31m·\u001b[0m\u001b[0;31m·\u001b[0m\u001b[0;31m·\u001b[0m\u001b[0;31m·\u001b[0m\u001b[0;31m·\u001b[0m\u001b[0;31m·\u001b[0m\u001b[0;31m·\u001b[0m\u001b[0;31m·\u001b[0m\u001b[0;31m·\u001b[0m\u001b[0;31m·\u001b[0m\u001b[0;31m·\u001b[0m\u001b[0;31m·\u001b[0m\u001b[0;31m·\u001b[0m\u001b[0;31m·\u001b[0m\u001b[0;31m·\u001b[0m\u001b[0;31m·\u001b[0m\u001b[0;31m·\u001b[0m\u001b[0;31m·\u001b[0m\u001b[0;31m·\u001b[0m\u001b[0;31m·\u001b[0m\u001b[0;31m·\u001b[0m\u001b[0;31m·\u001b[0m\u001b[0;31m·\u001b[0m\u001b[0;31m·\u001b[0m│\n",
      "│\u001b[0;31m·\u001b[0m\u001b[0;31m·\u001b[0m\u001b[0;31m·\u001b[0m\u001b[0;31m·\u001b[0m\u001b[0;31m·\u001b[0m\u001b[0;31m·\u001b[0m\u001b[0;31m·\u001b[0m\u001b[0;31m·\u001b[0m\u001b[0;31m·\u001b[0m\u001b[0;31m·\u001b[0m\u001b[0;31m·\u001b[0m\u001b[0;31m·\u001b[0m\u001b[0;32m■\u001b[0m\u001b[0;32m■\u001b[0m\u001b[0;32m■\u001b[0m\u001b[0;32m■\u001b[0m\u001b[0;32m■\u001b[0m\u001b[0;32m■\u001b[0m\u001b[0;32m■\u001b[0m\u001b[0;32m■\u001b[0m\u001b[0;32m■\u001b[0m\u001b[0;32m■\u001b[0m\u001b[0;32m■\u001b[0m\u001b[0;32m■\u001b[0m\u001b[0;32m■\u001b[0m\u001b[0;32m■\u001b[0m\u001b[0;32m■\u001b[0m\u001b[0;32m■\u001b[0m\u001b[0;32m■\u001b[0m\u001b[0;31m·\u001b[0m\u001b[0;31m·\u001b[0m\u001b[0;31m·\u001b[0m\u001b[0;31m·\u001b[0m\u001b[0;31m·\u001b[0m\u001b[0;31m·\u001b[0m\u001b[0;31m·\u001b[0m\u001b[0;31m·\u001b[0m\u001b[0;31m·\u001b[0m\u001b[0;31m·\u001b[0m\u001b[0;31m·\u001b[0m\u001b[0;31m·\u001b[0m│\n",
      "│\u001b[0;31m·\u001b[0m\u001b[0;31m·\u001b[0m\u001b[0;31m·\u001b[0m\u001b[0;31m·\u001b[0m\u001b[0;31m·\u001b[0m\u001b[0;31m·\u001b[0m\u001b[0;31m·\u001b[0m\u001b[0;31m·\u001b[0m\u001b[0;32m■\u001b[0m\u001b[0;32m■\u001b[0m\u001b[0;32m■\u001b[0m\u001b[0;32m■\u001b[0m\u001b[0;32m■\u001b[0m\u001b[0;32m■\u001b[0m\u001b[0;32m■\u001b[0m\u001b[0;32m■\u001b[0m\u001b[0;32m■\u001b[0m\u001b[0;32m■\u001b[0m\u001b[0;32m■\u001b[0m\u001b[0;32m■\u001b[0m\u001b[0;32m■\u001b[0m\u001b[0;32m■\u001b[0m\u001b[0;32m■\u001b[0m\u001b[0;32m■\u001b[0m\u001b[0;32m■\u001b[0m\u001b[0;32m■\u001b[0m\u001b[0;32m■\u001b[0m\u001b[0;32m■\u001b[0m\u001b[0;32m■\u001b[0m\u001b[0;32m■\u001b[0m\u001b[0;32m■\u001b[0m\u001b[0;32m■\u001b[0m\u001b[0;32m■\u001b[0m\u001b[0;31m·\u001b[0m\u001b[0;31m·\u001b[0m\u001b[0;31m·\u001b[0m\u001b[0;31m·\u001b[0m\u001b[0;31m·\u001b[0m\u001b[0;31m·\u001b[0m\u001b[0;31m·\u001b[0m\u001b[0;31m·\u001b[0m│\n",
      "│\u001b[0;31m·\u001b[0m\u001b[0;31m·\u001b[0m\u001b[0;31m·\u001b[0m\u001b[0;31m·\u001b[0m\u001b[0;31m·\u001b[0m\u001b[0;31m·\u001b[0m\u001b[0;32m■\u001b[0m\u001b[0;32m■\u001b[0m\u001b[0;32m■\u001b[0m\u001b[0;32m■\u001b[0m\u001b[0;32m■\u001b[0m\u001b[0;32m■\u001b[0m\u001b[0;32m■\u001b[0m\u001b[0;32m■\u001b[0m\u001b[0;32m■\u001b[0m\u001b[0;32m■\u001b[0m\u001b[0;32m■\u001b[0m\u001b[0;32m■\u001b[0m\u001b[0;32m■\u001b[0m\u001b[0;32m■\u001b[0m\u001b[0;32m■\u001b[0m\u001b[0;32m■\u001b[0m\u001b[0;32m■\u001b[0m\u001b[0;32m■\u001b[0m\u001b[0;32m■\u001b[0m\u001b[0;32m■\u001b[0m\u001b[0;32m■\u001b[0m\u001b[0;32m■\u001b[0m\u001b[0;32m■\u001b[0m\u001b[0;32m■\u001b[0m\u001b[0;32m■\u001b[0m\u001b[0;32m■\u001b[0m\u001b[0;32m■\u001b[0m\u001b[0;32m■\u001b[0m\u001b[0;32m■\u001b[0m\u001b[0;31m·\u001b[0m\u001b[0;31m·\u001b[0m\u001b[0;31m·\u001b[0m\u001b[0;31m·\u001b[0m\u001b[0;31m·\u001b[0m\u001b[0;31m·\u001b[0m│\n",
      "│\u001b[0;31m·\u001b[0m\u001b[0;31m·\u001b[0m\u001b[0;31m·\u001b[0m\u001b[0;31m·\u001b[0m\u001b[0;32m■\u001b[0m\u001b[0;32m■\u001b[0m\u001b[0;32m■\u001b[0m\u001b[0;32m■\u001b[0m\u001b[0;32m■\u001b[0m\u001b[0;32m■\u001b[0m\u001b[0;32m■\u001b[0m\u001b[0;32m■\u001b[0m\u001b[0;32m■\u001b[0m\u001b[0;32m■\u001b[0m\u001b[0;32m■\u001b[0m\u001b[0;32m■\u001b[0m\u001b[0;32m■\u001b[0m\u001b[0;32m■\u001b[0m\u001b[0;32m■\u001b[0m\u001b[0;32m■\u001b[0m\u001b[0;32m■\u001b[0m\u001b[0;32m■\u001b[0m\u001b[0;32m■\u001b[0m\u001b[0;32m■\u001b[0m\u001b[0;32m■\u001b[0m\u001b[0;32m■\u001b[0m\u001b[0;32m■\u001b[0m\u001b[0;32m■\u001b[0m\u001b[0;32m■\u001b[0m\u001b[0;32m■\u001b[0m\u001b[0;32m■\u001b[0m\u001b[0;32m■\u001b[0m\u001b[0;32m■\u001b[0m\u001b[0;32m■\u001b[0m\u001b[0;32m■\u001b[0m\u001b[0;32m■\u001b[0m\u001b[0;32m■\u001b[0m\u001b[0;31m·\u001b[0m\u001b[0;31m·\u001b[0m\u001b[0;31m·\u001b[0m\u001b[0;31m·\u001b[0m│\n",
      "│\u001b[0;31m·\u001b[0m\u001b[0;31m·\u001b[0m\u001b[0;31m·\u001b[0m\u001b[0;32m■\u001b[0m\u001b[0;32m■\u001b[0m\u001b[0;32m■\u001b[0m\u001b[0;32m■\u001b[0m\u001b[0;32m■\u001b[0m\u001b[0;32m■\u001b[0m\u001b[0;32m■\u001b[0m\u001b[0;32m■\u001b[0m\u001b[0;32m■\u001b[0m\u001b[0;32m■\u001b[0m\u001b[0;32m■\u001b[0m\u001b[0;32m■\u001b[0m\u001b[0;32m■\u001b[0m\u001b[0;32m■\u001b[0m\u001b[0;32m■\u001b[0m\u001b[0;32m■\u001b[0m\u001b[0;32m■\u001b[0m\u001b[0;32m■\u001b[0m\u001b[0;32m■\u001b[0m\u001b[0;32m■\u001b[0m\u001b[0;32m■\u001b[0m\u001b[0;32m■\u001b[0m\u001b[0;32m■\u001b[0m\u001b[0;32m■\u001b[0m\u001b[0;32m■\u001b[0m\u001b[0;32m■\u001b[0m\u001b[0;32m■\u001b[0m\u001b[0;32m■\u001b[0m\u001b[0;32m■\u001b[0m\u001b[0;32m■\u001b[0m\u001b[0;32m■\u001b[0m\u001b[0;32m■\u001b[0m\u001b[0;32m■\u001b[0m\u001b[0;32m■\u001b[0m\u001b[0;32m■\u001b[0m\u001b[0;31m·\u001b[0m\u001b[0;31m·\u001b[0m\u001b[0;31m·\u001b[0m│\n",
      "│\u001b[0;31m·\u001b[0m\u001b[0;31m·\u001b[0m\u001b[0;32m■\u001b[0m\u001b[0;32m■\u001b[0m\u001b[0;32m■\u001b[0m\u001b[0;32m■\u001b[0m\u001b[0;32m■\u001b[0m\u001b[0;32m■\u001b[0m\u001b[0;32m■\u001b[0m\u001b[0;32m■\u001b[0m\u001b[0;32m■\u001b[0m\u001b[0;32m■\u001b[0m\u001b[0;32m■\u001b[0m\u001b[0;32m■\u001b[0m\u001b[0;32m■\u001b[0m\u001b[0;32m■\u001b[0m\u001b[0;32m■\u001b[0m\u001b[0;32m■\u001b[0m\u001b[0;32m■\u001b[0m\u001b[0;32m■\u001b[0m\u001b[0;32m■\u001b[0m\u001b[0;32m■\u001b[0m\u001b[0;32m■\u001b[0m\u001b[0;32m■\u001b[0m\u001b[0;32m■\u001b[0m\u001b[0;32m■\u001b[0m\u001b[0;32m■\u001b[0m\u001b[0;32m■\u001b[0m\u001b[0;32m■\u001b[0m\u001b[0;32m■\u001b[0m\u001b[0;32m■\u001b[0m\u001b[0;32m■\u001b[0m\u001b[0;32m■\u001b[0m\u001b[0;32m■\u001b[0m\u001b[0;32m■\u001b[0m\u001b[0;32m■\u001b[0m\u001b[0;32m■\u001b[0m\u001b[0;32m■\u001b[0m\u001b[0;32m■\u001b[0m\u001b[0;31m·\u001b[0m\u001b[0;31m·\u001b[0m│\n",
      "│\u001b[0;31m·\u001b[0m\u001b[0;32m■\u001b[0m\u001b[0;32m■\u001b[0m\u001b[0;32m■\u001b[0m\u001b[0;32m■\u001b[0m\u001b[0;32m■\u001b[0m\u001b[0;32m■\u001b[0m\u001b[0;32m■\u001b[0m\u001b[0;32m■\u001b[0m\u001b[0;32m■\u001b[0m\u001b[0;32m■\u001b[0m\u001b[0;32m■\u001b[0m\u001b[0;32m■\u001b[0m\u001b[0;32m■\u001b[0m\u001b[0;32m■\u001b[0m\u001b[0;32m■\u001b[0m\u001b[0;32m■\u001b[0m\u001b[0;32m■\u001b[0m\u001b[0;32m■\u001b[0m\u001b[0;32m■\u001b[0m\u001b[0;32m■\u001b[0m\u001b[0;32m■\u001b[0m\u001b[0;32m■\u001b[0m\u001b[0;32m■\u001b[0m\u001b[0;32m■\u001b[0m\u001b[0;32m■\u001b[0m\u001b[0;32m■\u001b[0m\u001b[0;32m■\u001b[0m\u001b[0;32m■\u001b[0m\u001b[0;32m■\u001b[0m\u001b[0;32m■\u001b[0m\u001b[0;32m■\u001b[0m\u001b[0;32m■\u001b[0m\u001b[0;32m■\u001b[0m\u001b[0;32m■\u001b[0m\u001b[0;32m■\u001b[0m\u001b[0;32m■\u001b[0m\u001b[0;32m■\u001b[0m\u001b[0;32m■\u001b[0m\u001b[0;32m■\u001b[0m\u001b[0;31m·\u001b[0m│\n",
      "│\u001b[0;31m·\u001b[0m\u001b[0;32m■\u001b[0m\u001b[0;32m■\u001b[0m\u001b[0;32m■\u001b[0m\u001b[0;32m■\u001b[0m\u001b[0;32m■\u001b[0m\u001b[0;32m■\u001b[0m\u001b[0;32m■\u001b[0m\u001b[0;32m■\u001b[0m\u001b[0;32m■\u001b[0m\u001b[0;32m■\u001b[0m\u001b[0;32m■\u001b[0m\u001b[0;32m■\u001b[0m\u001b[0;32m■\u001b[0m\u001b[0;32m■\u001b[0m\u001b[0;32m■\u001b[0m\u001b[0;32m■\u001b[0m\u001b[0;32m■\u001b[0m\u001b[0;32m■\u001b[0m\u001b[0;32m■\u001b[0m\u001b[0;32m■\u001b[0m\u001b[0;32m■\u001b[0m\u001b[0;32m■\u001b[0m\u001b[0;32m■\u001b[0m\u001b[0;32m■\u001b[0m\u001b[0;32m■\u001b[0m\u001b[0;32m■\u001b[0m\u001b[0;32m■\u001b[0m\u001b[0;32m■\u001b[0m\u001b[0;32m■\u001b[0m\u001b[0;32m■\u001b[0m\u001b[0;32m■\u001b[0m\u001b[0;32m■\u001b[0m\u001b[0;32m■\u001b[0m\u001b[0;32m■\u001b[0m\u001b[0;32m■\u001b[0m\u001b[0;32m■\u001b[0m\u001b[0;32m■\u001b[0m\u001b[0;32m■\u001b[0m\u001b[0;32m■\u001b[0m\u001b[0;31m·\u001b[0m│\n",
      "│\u001b[0;31m·\u001b[0m\u001b[0;32m■\u001b[0m\u001b[0;32m■\u001b[0m\u001b[0;32m■\u001b[0m\u001b[0;32m■\u001b[0m\u001b[0;32m■\u001b[0m\u001b[0;32m■\u001b[0m\u001b[0;32m■\u001b[0m\u001b[0;32m■\u001b[0m\u001b[0;32m■\u001b[0m\u001b[0;32m■\u001b[0m\u001b[0;32m■\u001b[0m\u001b[0;32m■\u001b[0m\u001b[0;32m■\u001b[0m\u001b[0;32m■\u001b[0m\u001b[0;32m■\u001b[0m\u001b[0;32m■\u001b[0m\u001b[0;32m■\u001b[0m\u001b[0;32m■\u001b[0m\u001b[0;32m■\u001b[0m\u001b[0;32m■\u001b[0m\u001b[0;32m■\u001b[0m\u001b[0;32m■\u001b[0m\u001b[0;32m■\u001b[0m\u001b[0;32m■\u001b[0m\u001b[0;32m■\u001b[0m\u001b[0;32m■\u001b[0m\u001b[0;32m■\u001b[0m\u001b[0;32m■\u001b[0m\u001b[0;32m■\u001b[0m\u001b[0;32m■\u001b[0m\u001b[0;32m■\u001b[0m\u001b[0;32m■\u001b[0m\u001b[0;32m■\u001b[0m\u001b[0;32m■\u001b[0m\u001b[0;32m■\u001b[0m\u001b[0;32m■\u001b[0m\u001b[0;32m■\u001b[0m\u001b[0;32m■\u001b[0m\u001b[0;32m■\u001b[0m\u001b[0;31m·\u001b[0m│\n",
      "│\u001b[0;31m·\u001b[0m\u001b[0;32m■\u001b[0m\u001b[0;32m■\u001b[0m\u001b[0;32m■\u001b[0m\u001b[0;32m■\u001b[0m\u001b[0;32m■\u001b[0m\u001b[0;32m■\u001b[0m\u001b[0;32m■\u001b[0m\u001b[0;32m■\u001b[0m\u001b[0;32m■\u001b[0m\u001b[0;32m■\u001b[0m\u001b[0;32m■\u001b[0m\u001b[0;32m■\u001b[0m\u001b[0;32m■\u001b[0m\u001b[0;32m■\u001b[0m\u001b[0;32m■\u001b[0m\u001b[0;32m■\u001b[0m\u001b[0;32m■\u001b[0m\u001b[0;32m■\u001b[0m\u001b[0;32m■\u001b[0m\u001b[0;32m■\u001b[0m\u001b[0;32m■\u001b[0m\u001b[0;32m■\u001b[0m\u001b[0;32m■\u001b[0m\u001b[0;32m■\u001b[0m\u001b[0;32m■\u001b[0m\u001b[0;32m■\u001b[0m\u001b[0;32m■\u001b[0m\u001b[0;32m■\u001b[0m\u001b[0;32m■\u001b[0m\u001b[0;32m■\u001b[0m\u001b[0;32m■\u001b[0m\u001b[0;32m■\u001b[0m\u001b[0;32m■\u001b[0m\u001b[0;32m■\u001b[0m\u001b[0;32m■\u001b[0m\u001b[0;32m■\u001b[0m\u001b[0;32m■\u001b[0m\u001b[0;32m■\u001b[0m\u001b[0;32m■\u001b[0m\u001b[0;31m·\u001b[0m│\n",
      "│\u001b[0;31m·\u001b[0m\u001b[0;32m■\u001b[0m\u001b[0;32m■\u001b[0m\u001b[0;32m■\u001b[0m\u001b[0;32m■\u001b[0m\u001b[0;32m■\u001b[0m\u001b[0;32m■\u001b[0m\u001b[0;32m■\u001b[0m\u001b[0;32m■\u001b[0m\u001b[0;32m■\u001b[0m\u001b[0;32m■\u001b[0m\u001b[0;32m■\u001b[0m\u001b[0;32m■\u001b[0m\u001b[0;32m■\u001b[0m\u001b[0;32m■\u001b[0m\u001b[0;32m■\u001b[0m\u001b[0;32m■\u001b[0m\u001b[0;32m■\u001b[0m\u001b[0;32m■\u001b[0m\u001b[0;32m■\u001b[0m\u001b[0;32m■\u001b[0m\u001b[0;32m■\u001b[0m\u001b[0;32m■\u001b[0m\u001b[0;32m■\u001b[0m\u001b[0;32m■\u001b[0m\u001b[0;32m■\u001b[0m\u001b[0;32m■\u001b[0m\u001b[0;32m■\u001b[0m\u001b[0;32m■\u001b[0m\u001b[0;32m■\u001b[0m\u001b[0;32m■\u001b[0m\u001b[0;32m■\u001b[0m\u001b[0;32m■\u001b[0m\u001b[0;32m■\u001b[0m\u001b[0;32m■\u001b[0m\u001b[0;32m■\u001b[0m\u001b[0;32m■\u001b[0m\u001b[0;32m■\u001b[0m\u001b[0;32m■\u001b[0m\u001b[0;32m■\u001b[0m\u001b[0;31m·\u001b[0m│\n",
      "│\u001b[0;31m·\u001b[0m\u001b[0;31m·\u001b[0m\u001b[0;32m■\u001b[0m\u001b[0;32m■\u001b[0m\u001b[0;32m■\u001b[0m\u001b[0;32m■\u001b[0m\u001b[0;32m■\u001b[0m\u001b[0;32m■\u001b[0m\u001b[0;32m■\u001b[0m\u001b[0;32m■\u001b[0m\u001b[0;32m■\u001b[0m\u001b[0;32m■\u001b[0m\u001b[0;32m■\u001b[0m\u001b[0;32m■\u001b[0m\u001b[0;32m■\u001b[0m\u001b[0;32m■\u001b[0m\u001b[0;32m■\u001b[0m\u001b[0;32m■\u001b[0m\u001b[0;32m■\u001b[0m\u001b[0;32m■\u001b[0m\u001b[0;32m■\u001b[0m\u001b[0;32m■\u001b[0m\u001b[0;32m■\u001b[0m\u001b[0;32m■\u001b[0m\u001b[0;32m■\u001b[0m\u001b[0;32m■\u001b[0m\u001b[0;32m■\u001b[0m\u001b[0;32m■\u001b[0m\u001b[0;32m■\u001b[0m\u001b[0;32m■\u001b[0m\u001b[0;32m■\u001b[0m\u001b[0;32m■\u001b[0m\u001b[0;32m■\u001b[0m\u001b[0;32m■\u001b[0m\u001b[0;32m■\u001b[0m\u001b[0;32m■\u001b[0m\u001b[0;32m■\u001b[0m\u001b[0;32m■\u001b[0m\u001b[0;32m■\u001b[0m\u001b[0;31m·\u001b[0m\u001b[0;31m·\u001b[0m│\n",
      "│\u001b[0;31m·\u001b[0m\u001b[0;31m·\u001b[0m\u001b[0;31m·\u001b[0m\u001b[0;32m■\u001b[0m\u001b[0;32m■\u001b[0m\u001b[0;32m■\u001b[0m\u001b[0;32m■\u001b[0m\u001b[0;32m■\u001b[0m\u001b[0;32m■\u001b[0m\u001b[0;32m■\u001b[0m\u001b[0;32m■\u001b[0m\u001b[0;32m■\u001b[0m\u001b[0;32m■\u001b[0m\u001b[0;32m■\u001b[0m\u001b[0;32m■\u001b[0m\u001b[0;32m■\u001b[0m\u001b[0;32m■\u001b[0m\u001b[0;32m■\u001b[0m\u001b[0;32m■\u001b[0m\u001b[0;32m■\u001b[0m\u001b[0;32m■\u001b[0m\u001b[0;32m■\u001b[0m\u001b[0;32m■\u001b[0m\u001b[0;32m■\u001b[0m\u001b[0;32m■\u001b[0m\u001b[0;32m■\u001b[0m\u001b[0;32m■\u001b[0m\u001b[0;32m■\u001b[0m\u001b[0;32m■\u001b[0m\u001b[0;32m■\u001b[0m\u001b[0;32m■\u001b[0m\u001b[0;32m■\u001b[0m\u001b[0;32m■\u001b[0m\u001b[0;32m■\u001b[0m\u001b[0;32m■\u001b[0m\u001b[0;32m■\u001b[0m\u001b[0;32m■\u001b[0m\u001b[0;32m■\u001b[0m\u001b[0;31m·\u001b[0m\u001b[0;31m·\u001b[0m\u001b[0;31m·\u001b[0m│\n",
      "│\u001b[0;31m·\u001b[0m\u001b[0;31m·\u001b[0m\u001b[0;31m·\u001b[0m\u001b[0;31m·\u001b[0m\u001b[0;32m■\u001b[0m\u001b[0;32m■\u001b[0m\u001b[0;32m■\u001b[0m\u001b[0;32m■\u001b[0m\u001b[0;32m■\u001b[0m\u001b[0;32m■\u001b[0m\u001b[0;32m■\u001b[0m\u001b[0;32m■\u001b[0m\u001b[0;32m■\u001b[0m\u001b[0;32m■\u001b[0m\u001b[0;32m■\u001b[0m\u001b[0;32m■\u001b[0m\u001b[0;32m■\u001b[0m\u001b[0;32m■\u001b[0m\u001b[0;32m■\u001b[0m\u001b[0;32m■\u001b[0m\u001b[0;32m■\u001b[0m\u001b[0;32m■\u001b[0m\u001b[0;32m■\u001b[0m\u001b[0;32m■\u001b[0m\u001b[0;32m■\u001b[0m\u001b[0;32m■\u001b[0m\u001b[0;32m■\u001b[0m\u001b[0;32m■\u001b[0m\u001b[0;32m■\u001b[0m\u001b[0;32m■\u001b[0m\u001b[0;32m■\u001b[0m\u001b[0;32m■\u001b[0m\u001b[0;32m■\u001b[0m\u001b[0;32m■\u001b[0m\u001b[0;32m■\u001b[0m\u001b[0;32m■\u001b[0m\u001b[0;32m■\u001b[0m\u001b[0;31m·\u001b[0m\u001b[0;31m·\u001b[0m\u001b[0;31m·\u001b[0m\u001b[0;31m·\u001b[0m│\n",
      "│\u001b[0;31m·\u001b[0m\u001b[0;31m·\u001b[0m\u001b[0;31m·\u001b[0m\u001b[0;31m·\u001b[0m\u001b[0;31m·\u001b[0m\u001b[0;31m·\u001b[0m\u001b[0;32m■\u001b[0m\u001b[0;32m■\u001b[0m\u001b[0;32m■\u001b[0m\u001b[0;32m■\u001b[0m\u001b[0;32m■\u001b[0m\u001b[0;32m■\u001b[0m\u001b[0;32m■\u001b[0m\u001b[0;32m■\u001b[0m\u001b[0;32m■\u001b[0m\u001b[0;32m■\u001b[0m\u001b[0;32m■\u001b[0m\u001b[0;32m■\u001b[0m\u001b[0;32m■\u001b[0m\u001b[0;32m■\u001b[0m\u001b[0;32m■\u001b[0m\u001b[0;32m■\u001b[0m\u001b[0;32m■\u001b[0m\u001b[0;32m■\u001b[0m\u001b[0;32m■\u001b[0m\u001b[0;32m■\u001b[0m\u001b[0;32m■\u001b[0m\u001b[0;32m■\u001b[0m\u001b[0;32m■\u001b[0m\u001b[0;32m■\u001b[0m\u001b[0;32m■\u001b[0m\u001b[0;32m■\u001b[0m\u001b[0;32m■\u001b[0m\u001b[0;32m■\u001b[0m\u001b[0;32m■\u001b[0m\u001b[0;31m·\u001b[0m\u001b[0;31m·\u001b[0m\u001b[0;31m·\u001b[0m\u001b[0;31m·\u001b[0m\u001b[0;31m·\u001b[0m\u001b[0;31m·\u001b[0m│\n",
      "│\u001b[0;31m·\u001b[0m\u001b[0;31m·\u001b[0m\u001b[0;31m·\u001b[0m\u001b[0;31m·\u001b[0m\u001b[0;31m·\u001b[0m\u001b[0;31m·\u001b[0m\u001b[0;31m·\u001b[0m\u001b[0;31m·\u001b[0m\u001b[0;32m■\u001b[0m\u001b[0;32m■\u001b[0m\u001b[0;32m■\u001b[0m\u001b[0;32m■\u001b[0m\u001b[0;32m■\u001b[0m\u001b[0;32m■\u001b[0m\u001b[0;32m■\u001b[0m\u001b[0;32m■\u001b[0m\u001b[0;32m■\u001b[0m\u001b[0;32m■\u001b[0m\u001b[0;32m■\u001b[0m\u001b[0;32m■\u001b[0m\u001b[0;32m■\u001b[0m\u001b[0;32m■\u001b[0m\u001b[0;32m■\u001b[0m\u001b[0;32m■\u001b[0m\u001b[0;32m■\u001b[0m\u001b[0;32m■\u001b[0m\u001b[0;32m■\u001b[0m\u001b[0;32m■\u001b[0m\u001b[0;32m■\u001b[0m\u001b[0;32m■\u001b[0m\u001b[0;32m■\u001b[0m\u001b[0;32m■\u001b[0m\u001b[0;32m■\u001b[0m\u001b[0;31m·\u001b[0m\u001b[0;31m·\u001b[0m\u001b[0;31m·\u001b[0m\u001b[0;31m·\u001b[0m\u001b[0;31m·\u001b[0m\u001b[0;31m·\u001b[0m\u001b[0;31m·\u001b[0m\u001b[0;31m·\u001b[0m│\n",
      "│\u001b[0;31m·\u001b[0m\u001b[0;31m·\u001b[0m\u001b[0;31m·\u001b[0m\u001b[0;31m·\u001b[0m\u001b[0;31m·\u001b[0m\u001b[0;31m·\u001b[0m\u001b[0;31m·\u001b[0m\u001b[0;31m·\u001b[0m\u001b[0;31m·\u001b[0m\u001b[0;31m·\u001b[0m\u001b[0;31m·\u001b[0m\u001b[0;31m·\u001b[0m\u001b[0;32m■\u001b[0m\u001b[0;32m■\u001b[0m\u001b[0;32m■\u001b[0m\u001b[0;32m■\u001b[0m\u001b[0;32m■\u001b[0m\u001b[0;32m■\u001b[0m\u001b[0;32m■\u001b[0m\u001b[0;32m■\u001b[0m\u001b[0;32m■\u001b[0m\u001b[0;32m■\u001b[0m\u001b[0;32m■\u001b[0m\u001b[0;32m■\u001b[0m\u001b[0;32m■\u001b[0m\u001b[0;32m■\u001b[0m\u001b[0;32m■\u001b[0m\u001b[0;32m■\u001b[0m\u001b[0;32m■\u001b[0m\u001b[0;31m·\u001b[0m\u001b[0;31m·\u001b[0m\u001b[0;31m·\u001b[0m\u001b[0;31m·\u001b[0m\u001b[0;31m·\u001b[0m\u001b[0;31m·\u001b[0m\u001b[0;31m·\u001b[0m\u001b[0;31m·\u001b[0m\u001b[0;31m·\u001b[0m\u001b[0;31m·\u001b[0m\u001b[0;31m·\u001b[0m\u001b[0;31m·\u001b[0m│\n",
      "│\u001b[0;31m·\u001b[0m\u001b[0;31m·\u001b[0m\u001b[0;31m·\u001b[0m\u001b[0;31m·\u001b[0m\u001b[0;31m·\u001b[0m\u001b[0;31m·\u001b[0m\u001b[0;31m·\u001b[0m\u001b[0;31m·\u001b[0m\u001b[0;31m·\u001b[0m\u001b[0;31m·\u001b[0m\u001b[0;31m·\u001b[0m\u001b[0;31m·\u001b[0m\u001b[0;31m·\u001b[0m\u001b[0;31m·\u001b[0m\u001b[0;31m·\u001b[0m\u001b[0;31m·\u001b[0m\u001b[0;31m·\u001b[0m\u001b[0;31m·\u001b[0m\u001b[0;31m·\u001b[0m\u001b[0;31m·\u001b[0m\u001b[0;31m·\u001b[0m\u001b[0;31m·\u001b[0m\u001b[0;31m·\u001b[0m\u001b[0;31m·\u001b[0m\u001b[0;31m·\u001b[0m\u001b[0;31m·\u001b[0m\u001b[0;31m·\u001b[0m\u001b[0;31m·\u001b[0m\u001b[0;31m·\u001b[0m\u001b[0;31m·\u001b[0m\u001b[0;31m·\u001b[0m\u001b[0;31m·\u001b[0m\u001b[0;31m·\u001b[0m\u001b[0;31m·\u001b[0m\u001b[0;31m·\u001b[0m\u001b[0;31m·\u001b[0m\u001b[0;31m·\u001b[0m\u001b[0;31m·\u001b[0m\u001b[0;31m·\u001b[0m\u001b[0;31m·\u001b[0m\u001b[0;31m·\u001b[0m│\n",
      "└─────────────────────────────────────────┘\n",
      " \u001b[0;32m■\u001b[0m = Inside the shape\n",
      " \u001b[0;31m·\u001b[0m = Outside the shape\n",
      "\u001b[0m\n",
      "--- Processing Strategy ---\u001b[0m\n",
      "\u001b[0mUsing monthly dataset: False\u001b[0m\n",
      "\u001b[0mTotal days to process: 14\u001b[0m\n",
      "\u001b[0mMax days per chunk: 14\u001b[0m\n",
      "\u001b[0mNeeds chunking: False\u001b[0m\n",
      "\u001b[0m  → Downloading ERA5 data (attempt 1/6)...\u001b[0m\n"
     ]
    },
    {
     "name": "stderr",
     "output_type": "stream",
     "text": [
      "2025-07-15 23:27:55,846 INFO [2024-09-26T00:00:00] Watch our [Forum](https://forum.ecmwf.int/) for Announcements, news and other discussed topics.\n",
      "INFO:ecmwf.datastores.legacy_client:[2024-09-26T00:00:00] Watch our [Forum](https://forum.ecmwf.int/) for Announcements, news and other discussed topics.\n",
      "2025-07-15 23:27:56,816 INFO Request ID is c76b92d3-768e-414a-9f69-b1c87166ea22\n",
      "INFO:ecmwf.datastores.legacy_client:Request ID is c76b92d3-768e-414a-9f69-b1c87166ea22\n",
      "2025-07-15 23:27:57,029 INFO status has been updated to accepted\n",
      "INFO:ecmwf.datastores.legacy_client:status has been updated to accepted\n",
      "2025-07-15 23:28:05,939 INFO status has been updated to running\n",
      "INFO:ecmwf.datastores.legacy_client:status has been updated to running\n",
      "2025-07-15 23:28:11,200 INFO status has been updated to successful\n",
      "INFO:ecmwf.datastores.legacy_client:status has been updated to successful\n"
     ]
    },
    {
     "data": {
      "application/vnd.jupyter.widget-view+json": {
       "model_id": "44b8c385e1ef431c8efd38cdd965bc9f",
       "version_major": 2,
       "version_minor": 0
      },
      "text/plain": [
       "dffcb8e7ff13a873fc3cfbffba3cec65.zip:   0%|          | 0.00/105k [00:00<?, ?B/s]"
      ]
     },
     "metadata": {},
     "output_type": "display_data"
    },
    {
     "name": "stdout",
     "output_type": "stream",
     "text": [
      "\u001b[0m  \u001b[0;32m✓ Download completed: /var/folders/gl/sfjd74gn0wv11h31lr8v2cj40000gn/T/test5.zip\u001b[0m\u001b[0m\n",
      "\u001b[0mExtracting zip file: /var/folders/gl/sfjd74gn0wv11h31lr8v2cj40000gn/T/test5.zip\u001b[0m\n",
      "\u001b[0mExtracted NetCDF files:\u001b[0m\n",
      "\u001b[0m  - /var/folders/gl/sfjd74gn0wv11h31lr8v2cj40000gn/T/test5/data_stream-oper_stepType-accum.nc\u001b[0m\n",
      "\u001b[0m  - /var/folders/gl/sfjd74gn0wv11h31lr8v2cj40000gn/T/test5/data_stream-oper_stepType-instant.nc\u001b[0m\n",
      "\u001b[0m\n",
      "Processing downloaded data:\u001b[0m\n",
      "\u001b[0m- Found 2 file(s)\u001b[0m\n",
      "\u001b[0m  Processing file 1/2: data_stream-oper_stepType-accum.nc\u001b[0m\n",
      "\u001b[0m  ✓ Loaded: Dimensions: Frozen({'valid_time': 336, 'latitude': 2, 'longitude': 2})\u001b[0m\n",
      "\u001b[0m  Processing file 2/2: data_stream-oper_stepType-instant.nc\u001b[0m\n",
      "\u001b[0m  ✓ Loaded: Dimensions: Frozen({'valid_time': 336, 'latitude': 2, 'longitude': 2})\u001b[0m\n",
      "\u001b[0mStarting optimized filtering process...\u001b[0m\n",
      "\u001b[0m→ Extracting unique lat/lon coordinates from dataset...\u001b[0m\n",
      "\u001b[0m✓ Found 4 unique lat/lon combinations\u001b[0m\n",
      "\u001b[0m→ Filtering unique coordinates against polygon...\u001b[0m\n",
      "\u001b[0m✓ Coordinate filtering completed in 0.00 seconds\u001b[0m\n",
      "\u001b[0m  - Points inside: 1\u001b[0m\n",
      "\u001b[0m  - Points outside: 3\u001b[0m\n",
      "\u001b[0m  - Percentage inside: 25.00%\u001b[0m\n",
      "\u001b[0m→ Filtering original dataset using inside coordinates...\u001b[0m\n",
      "\u001b[0m  Converting dataset to DataFrame...\u001b[0m\n",
      "\u001b[0m  ✓ Converted to DataFrame with 1344 rows\u001b[0m\n",
      "\u001b[0m  ✓ Created lookup set with 1 coordinate pairs\u001b[0m\n",
      "\u001b[0m  Filtering DataFrame rows...\u001b[0m\n",
      "\u001b[0m  ✓ Filtered from 1344 to 336 rows\u001b[0m\n",
      "\u001b[0m✓ Dataset filtering completed in 0.00 seconds\u001b[0m\n",
      "\u001b[0m\n",
      "--- Final Filtering Results ---\u001b[0m\n",
      "\u001b[0mTotal processing time: 0.01 seconds\u001b[0m\n",
      "\u001b[0mFinal DataFrame shape: (336, 7)\u001b[0m\n",
      "\u001b[0mRows in final dataset: 336\u001b[0m\n",
      "\u001b[0m\u001b[0;34mAGGREGATING DATA (DAILY)\u001b[0m\u001b[0m\n",
      "\u001b[0mAggregating data to daily frequency...\u001b[0m\n",
      "\u001b[0mSum columns: ['tp']\u001b[0m\n",
      "\u001b[0mMax columns: []\u001b[0m\n",
      "\u001b[0mMin columns: []\u001b[0m\n",
      "\u001b[0mRate columns: []\u001b[0m\n",
      "\u001b[0mAverage columns: ['t2m']\u001b[0m\n",
      "\u001b[0mAggregation completed in:   0.01 seconds\u001b[0m\n",
      "\u001b[0m\n",
      "Saving files to output directory: test5_output\u001b[0m\n",
      "\u001b[0m  Saved final data to: test5_output/test5_daily_data.csv\u001b[0m\n",
      "\u001b[0m  Saved unique coordinates to: test5_output/test5_unique_latlongs.csv\u001b[0m\n",
      "\u001b[0m  Saved raw data to: test5_output/test5_raw_data.csv\u001b[0m\n",
      "\u001b[0m\n",
      "============================================================\u001b[0m\n",
      "\u001b[0m\u001b[0;32mPROCESSING COMPLETE\u001b[0m\u001b[0m\n",
      "\u001b[0m============================================================\u001b[0m\n",
      "\u001b[0m\n",
      "\u001b[0;36mRESULTS SUMMARY:\u001b[0m\u001b[0m\n",
      "\u001b[0m----------------------------------------\u001b[0m\n",
      "\u001b[0mVariables processed: 2\u001b[0m\n",
      "\u001b[0mTime period:         2024-08-01 to 2024-08-14\u001b[0m\n",
      "\u001b[0mFinal output shape:  (14, 6)\u001b[0m\n",
      "\u001b[0mTotal complete processing time: 17.74 seconds\u001b[0m\n",
      "\u001b[0m\n",
      "First 5 rows of aggregated data:\u001b[0m\n",
      "\u001b[0m         tp         t2m  year  month  day        date\n",
      "0  0.008118  300.662445  2024      8    1  2024-08-01\n",
      "1  0.013038  300.330231  2024      8    2  2024-08-02\n",
      "2  0.033061  300.136017  2024      8    3  2024-08-03\n",
      "3  0.041023  300.196167  2024      8    4  2024-08-04\n",
      "4  0.007252  300.486237  2024      8    5  2024-08-05\u001b[0m\n",
      "\u001b[0m\n",
      "============================================================\u001b[0m\n",
      "\u001b[0m\u001b[0;34mERA5 SINGLE LEVEL PROCESSING COMPLETED SUCCESSFULLY\u001b[0m\u001b[0m\n",
      "\u001b[0m============================================================\u001b[0m\n"
     ]
    },
    {
     "name": "stderr",
     "output_type": "stream",
     "text": [
      "\r"
     ]
    }
   ],
   "source": [
    "df = varunayan.era5ify_point(\n",
    "    request_id=\"test5\",\n",
    "    variables=[\"2m_temperature\", \"total_precipitation\"],\n",
    "    start_date=\"2024-08-1\",\n",
    "    end_date=\"2024-08-14\",\n",
    "    latitude=19.1331,\n",
    "    longitude=72.9151,\n",
    "    frequency=\"daily\",\n",
    ")"
   ]
  },
  {
   "cell_type": "markdown",
   "metadata": {},
   "source": [
    "# Searching for variables"
   ]
  },
  {
   "cell_type": "markdown",
   "metadata": {},
   "source": [
    "Climate science has many variables. Varunayan allows you to search which variables are part of which dataset:\n"
   ]
  },
  {
   "cell_type": "code",
   "execution_count": 7,
   "metadata": {
    "execution": {
     "iopub.execute_input": "2025-07-15T17:58:13.031991Z",
     "iopub.status.busy": "2025-07-15T17:58:13.031918Z",
     "iopub.status.idle": "2025-07-15T17:58:13.033478Z",
     "shell.execute_reply": "2025-07-15T17:58:13.033224Z",
     "shell.execute_reply.started": "2025-07-15T17:58:13.031983Z"
    }
   },
   "outputs": [],
   "source": [
    "# varunayan.search_variable(pattern, dataset_type)\n",
    "# pattern : str, pattern to search for in variable names from dataset in dataset_type\n",
    "# dataset_type :str,  Dataset type to search (\"single\", \"pressure\", \"all\", or any other registered dataset, all by dedault)"
   ]
  },
  {
   "cell_type": "code",
   "execution_count": 8,
   "metadata": {
    "execution": {
     "iopub.execute_input": "2025-07-15T17:58:13.034005Z",
     "iopub.status.busy": "2025-07-15T17:58:13.033933Z",
     "iopub.status.idle": "2025-07-15T17:58:13.041612Z",
     "shell.execute_reply": "2025-07-15T17:58:13.041384Z",
     "shell.execute_reply.started": "2025-07-15T17:58:13.033996Z"
    }
   },
   "outputs": [
    {
     "name": "stdout",
     "output_type": "stream",
     "text": [
      "\n",
      "=== SEARCH RESULTS (ALL LEVELS) ===\n",
      "Pattern: 'temp'\n",
      "Variables found: 21\n",
      "\n",
      "--- Temperature And Pressure ---\n",
      "1. 2m_dewpoint_temperature (from single levels)\n",
      "   Description: Dew point temperature at 2 meters above the surface, representing the temperature at which air becomes saturated with moisture. Unit: Kelvin (K).\n",
      "\n",
      "2. 2m_temperature (from single levels)\n",
      "   Description: Air temperature at 2 meters above the surface, typically used to represent surface-level weather conditions. Unit: Kelvin (K).\n",
      "\n",
      "3. ice_temperature_layer_1 (from single levels)\n",
      "   Description: Temperature of the top layer of sea ice. This layer is most affected by atmospheric conditions. Unit: Kelvin (K).\n",
      "\n",
      "4. ice_temperature_layer_2 (from single levels)\n",
      "   Description: Temperature of the second layer of sea ice, representing deeper internal ice temperatures. Unit: Kelvin (K).\n",
      "\n",
      "5. ice_temperature_layer_3 (from single levels)\n",
      "   Description: Temperature of the third layer of sea ice, indicating mid-level internal ice temperature. Unit: Kelvin (K).\n",
      "\n",
      "6. ice_temperature_layer_4 (from single levels)\n",
      "   Description: Temperature of the deepest (fourth) layer of sea ice, typically least affected by surface variations. Unit: Kelvin (K).\n",
      "\n",
      "7. maximum_2m_temperature_since_previous_post_processing (from single levels)\n",
      "   Description: Maximum 2-meter air temperature recorded since the last post-processing cycle. Often used to estimate daily high temperature. Unit: Kelvin (K).\n",
      "\n",
      "8. minimum_2m_temperature_since_previous_post_processing (from single levels)\n",
      "   Description: Minimum 2-meter air temperature recorded since the last post-processing cycle. Often used to estimate daily low temperature. Unit: Kelvin (K).\n",
      "\n",
      "9. sea_surface_temperature (from single levels)\n",
      "   Description: Temperature of the ocean surface, typically the upper few millimeters. Important for weather forecasting and climate models. Unit: Kelvin (K).\n",
      "\n",
      "10. skin_temperature (from single levels)\n",
      "   Description: Temperature of the Earth’s surface (land or sea) as perceived by a satellite sensor, also known as surface skin temperature. Unit: Kelvin (K).\n",
      "\n",
      "\n",
      "--- Lake Variables ---\n",
      "1. lake_bottom_temperature (from single levels)\n",
      "   Description: Temperature at the bottom layer of the lake. Reflects long-term thermal state. Unit: Kelvin (K).\n",
      "\n",
      "2. lake_ice_temperature (from single levels)\n",
      "   Description: Temperature of the lake's ice layer. Unit: Kelvin (K).\n",
      "\n",
      "3. lake_mix_layer_temperature (from single levels)\n",
      "   Description: Temperature of the mixed layer in the lake. Unit: Kelvin (K).\n",
      "\n",
      "4. lake_total_layer_temperature (from single levels)\n",
      "   Description: Average temperature of the entire lake water column. Unit: Kelvin (K).\n",
      "\n",
      "\n",
      "--- Snow Variables ---\n",
      "1. temperature_of_snow_layer (from single levels)\n",
      "   Description: Temperature of the snow layer at the surface. Unit: Kelvin (K).\n",
      "\n",
      "\n",
      "--- Soil Variables ---\n",
      "1. soil_temperature_level_1 (from single levels)\n",
      "   Description: Soil temperature in the topmost layer (0–7 cm). Unit: Kelvin (K).\n",
      "\n",
      "2. soil_temperature_level_2 (from single levels)\n",
      "   Description: Soil temperature in the second layer (7–28 cm). Unit: Kelvin (K).\n",
      "\n",
      "3. soil_temperature_level_3 (from single levels)\n",
      "   Description: Soil temperature in the third layer (28–100 cm). Unit: Kelvin (K).\n",
      "\n",
      "4. soil_temperature_level_4 (from single levels)\n",
      "   Description: Soil temperature in the deepest layer (100–289 cm). Unit: Kelvin (K).\n",
      "\n",
      "\n",
      "--- Vertical Integral Variables ---\n",
      "1. vertical_integral_of_temperature (from single levels)\n",
      "   Description: Vertical integral of temperature over atmospheric column. Unit: K·m\n",
      "\n",
      "\n",
      "--- Pressure Levels ---\n",
      "1. temperature (from pressure levels)\n",
      "   Description: Air temperature at pressure level. Unit: K\n",
      "\n"
     ]
    }
   ],
   "source": [
    "varunayan.search_variable(\"teMp \", dataset_type=\"all\")"
   ]
  },
  {
   "cell_type": "markdown",
   "metadata": {},
   "source": [
    "# Description of variables\n",
    "\n",
    "A detailed description for each variable is also available using `describe_variables`:"
   ]
  },
  {
   "cell_type": "code",
   "execution_count": 9,
   "metadata": {
    "execution": {
     "iopub.execute_input": "2025-07-15T17:58:13.042052Z",
     "iopub.status.busy": "2025-07-15T17:58:13.041960Z",
     "iopub.status.idle": "2025-07-15T17:58:13.043563Z",
     "shell.execute_reply": "2025-07-15T17:58:13.043290Z",
     "shell.execute_reply.started": "2025-07-15T17:58:13.042043Z"
    }
   },
   "outputs": [],
   "source": [
    "# varunayan.describe_variables(variable_names, dataset_type)\n",
    "# variable_names : list, list of variable names to describe\n",
    "# dataset_type : str, type of dataset (single or pressure, for single level or pressure level datasets)"
   ]
  },
  {
   "cell_type": "code",
   "execution_count": 10,
   "metadata": {
    "execution": {
     "iopub.execute_input": "2025-07-15T17:58:13.043956Z",
     "iopub.status.busy": "2025-07-15T17:58:13.043895Z",
     "iopub.status.idle": "2025-07-15T17:58:13.045837Z",
     "shell.execute_reply": "2025-07-15T17:58:13.045654Z",
     "shell.execute_reply.started": "2025-07-15T17:58:13.043949Z"
    }
   },
   "outputs": [
    {
     "name": "stdout",
     "output_type": "stream",
     "text": [
      "\n",
      "=== Variable Descriptions (SINGLE LEVELS) ===\n",
      "\n",
      "2m_temperature:\n",
      "  Category: temperature_and_pressure\n",
      "  Description: Air temperature at 2 meters above the surface, typically used to represent surface-level weather conditions. Unit: Kelvin (K).\n",
      "\n",
      "total_precipitation:\n",
      "  Category: precipitation_variables\n",
      "  Description: Cumulative precipitation (convective + large-scale). Unit: meters (m) of water equivalent.\n",
      "\n",
      "surface_pressure:\n",
      "  Category: temperature_and_pressure\n",
      "  Description: Atmospheric pressure at the surface of the Earth. Influenced by elevation and weather systems. Unit: Pascal (Pa).\n"
     ]
    }
   ],
   "source": [
    "varunayan.describe_variables(\n",
    "    variable_names=[\"2m_temperature\", \"total_precipitation\", \"surface_pressure\"],\n",
    "    dataset_type=\"single\",\n",
    ")"
   ]
  }
 ],
 "metadata": {
  "kernelspec": {
   "display_name": "Python [conda env:base] *",
   "language": "python",
   "name": "conda-base-py"
  },
  "language_info": {
   "codemirror_mode": {
    "name": "ipython",
    "version": 3
   },
   "file_extension": ".py",
   "mimetype": "text/x-python",
   "name": "python",
   "nbconvert_exporter": "python",
   "pygments_lexer": "ipython3",
   "version": "3.11.12"
  },
  "widgets": {
   "application/vnd.jupyter.widget-state+json": {
    "state": {},
    "version_major": 2,
    "version_minor": 0
   }
  }
 },
 "nbformat": 4,
 "nbformat_minor": 4
}
