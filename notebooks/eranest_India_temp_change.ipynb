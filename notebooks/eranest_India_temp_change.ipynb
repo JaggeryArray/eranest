{
 "cells": [
  {
   "cell_type": "code",
   "execution_count": 1,
   "metadata": {},
   "outputs": [],
   "source": [
    "import varunayan"
   ]
  },
  {
   "cell_type": "code",
   "execution_count": 2,
   "metadata": {},
   "outputs": [
    {
     "name": "stdout",
     "output_type": "stream",
     "text": [
      "\u001b[0m✓ CDS API configuration is already set up and valid.\u001b[0m\n",
      "\u001b[0m\n",
      "============================================================\u001b[0m\n",
      "\u001b[0m\u001b[0;34mSTARTING ERA5 SINGLE LEVEL PROCESSING\u001b[0m\u001b[0m\n",
      "\u001b[0m============================================================\u001b[0m\n",
      "\u001b[0mRequest ID: temp_india_yearly\u001b[0m\n",
      "\u001b[0mVariables: ['2m_temperature']\u001b[0m\n",
      "\u001b[0mDate Range: 1941-01-01 to 2024-12-31\u001b[0m\n",
      "\u001b[0mFrequency: yearly\u001b[0m\n",
      "\u001b[0mResolution: 0.25°\u001b[0m\n",
      "\u001b[0mGeoJSON File: C:\\Users\\ATHARV~1\\AppData\\Local\\Temp\\temp_india_yearly_temp_geojson.json\u001b[0m\n",
      "\u001b[0m\u001b[0;32m✓ All inputs validated successfully\u001b[0m\u001b[0m\n",
      "\u001b[0m\n",
      "--- Bounding Box ---\u001b[0m\n",
      "\u001b[0m\u001b[0;32m✓ Bounding Box calculated:\u001b[0m\u001b[0m\n",
      "\u001b[0m  North: 35.4940°\u001b[0m\n",
      "\u001b[0m  South: 7.9655°\u001b[0m\n",
      "\u001b[0m  East:  97.4026°\u001b[0m\n",
      "\u001b[0m  West:  68.1766°\u001b[0m\n",
      "\u001b[0m  Area:  29.2259° × 27.5285°\u001b[0m\n",
      "\n",
      "\n",
      "--- GeoJSON Mini Map ---\n",
      "\n",
      "\u001b[0;34mMINI MAP (68.18°W to 97.40°E, 7.97°S to 35.49°N):\u001b[0m\n",
      "┌─────────────────────────────────────────┐\n",
      "│\u001b[0;31m·\u001b[0m\u001b[0;31m·\u001b[0m\u001b[0;31m·\u001b[0m\u001b[0;31m·\u001b[0m\u001b[0;31m·\u001b[0m\u001b[0;31m·\u001b[0m\u001b[0;31m·\u001b[0m\u001b[0;31m·\u001b[0m\u001b[0;31m·\u001b[0m\u001b[0;31m·\u001b[0m\u001b[0;31m·\u001b[0m\u001b[0;31m·\u001b[0m\u001b[0;31m·\u001b[0m\u001b[0;31m·\u001b[0m\u001b[0;31m·\u001b[0m\u001b[0;31m·\u001b[0m\u001b[0;31m·\u001b[0m\u001b[0;31m·\u001b[0m\u001b[0;31m·\u001b[0m\u001b[0;31m·\u001b[0m\u001b[0;31m·\u001b[0m\u001b[0;31m·\u001b[0m\u001b[0;31m·\u001b[0m\u001b[0;31m·\u001b[0m\u001b[0;31m·\u001b[0m\u001b[0;31m·\u001b[0m\u001b[0;31m·\u001b[0m\u001b[0;31m·\u001b[0m\u001b[0;31m·\u001b[0m\u001b[0;31m·\u001b[0m\u001b[0;31m·\u001b[0m\u001b[0;31m·\u001b[0m\u001b[0;31m·\u001b[0m\u001b[0;31m·\u001b[0m\u001b[0;31m·\u001b[0m\u001b[0;31m·\u001b[0m\u001b[0;31m·\u001b[0m\u001b[0;31m·\u001b[0m\u001b[0;31m·\u001b[0m\u001b[0;31m·\u001b[0m\u001b[0;31m·\u001b[0m│\n",
      "│\u001b[0;31m·\u001b[0m\u001b[0;31m·\u001b[0m\u001b[0;31m·\u001b[0m\u001b[0;31m·\u001b[0m\u001b[0;31m·\u001b[0m\u001b[0;31m·\u001b[0m\u001b[0;31m·\u001b[0m\u001b[0;31m·\u001b[0m\u001b[0;32m■\u001b[0m\u001b[0;32m■\u001b[0m\u001b[0;32m■\u001b[0m\u001b[0;32m■\u001b[0m\u001b[0;32m■\u001b[0m\u001b[0;32m■\u001b[0m\u001b[0;32m■\u001b[0m\u001b[0;31m·\u001b[0m\u001b[0;31m·\u001b[0m\u001b[0;31m·\u001b[0m\u001b[0;31m·\u001b[0m\u001b[0;31m·\u001b[0m\u001b[0;31m·\u001b[0m\u001b[0;31m·\u001b[0m\u001b[0;31m·\u001b[0m\u001b[0;31m·\u001b[0m\u001b[0;31m·\u001b[0m\u001b[0;31m·\u001b[0m\u001b[0;31m·\u001b[0m\u001b[0;31m·\u001b[0m\u001b[0;31m·\u001b[0m\u001b[0;31m·\u001b[0m\u001b[0;31m·\u001b[0m\u001b[0;31m·\u001b[0m\u001b[0;31m·\u001b[0m\u001b[0;31m·\u001b[0m\u001b[0;31m·\u001b[0m\u001b[0;31m·\u001b[0m\u001b[0;31m·\u001b[0m\u001b[0;31m·\u001b[0m\u001b[0;31m·\u001b[0m\u001b[0;31m·\u001b[0m\u001b[0;31m·\u001b[0m│\n",
      "│\u001b[0;31m·\u001b[0m\u001b[0;31m·\u001b[0m\u001b[0;31m·\u001b[0m\u001b[0;31m·\u001b[0m\u001b[0;31m·\u001b[0m\u001b[0;31m·\u001b[0m\u001b[0;31m·\u001b[0m\u001b[0;31m·\u001b[0m\u001b[0;31m·\u001b[0m\u001b[0;31m·\u001b[0m\u001b[0;32m■\u001b[0m\u001b[0;32m■\u001b[0m\u001b[0;32m■\u001b[0m\u001b[0;32m■\u001b[0m\u001b[0;32m■\u001b[0m\u001b[0;31m·\u001b[0m\u001b[0;31m·\u001b[0m\u001b[0;31m·\u001b[0m\u001b[0;31m·\u001b[0m\u001b[0;31m·\u001b[0m\u001b[0;31m·\u001b[0m\u001b[0;31m·\u001b[0m\u001b[0;31m·\u001b[0m\u001b[0;31m·\u001b[0m\u001b[0;31m·\u001b[0m\u001b[0;31m·\u001b[0m\u001b[0;31m·\u001b[0m\u001b[0;31m·\u001b[0m\u001b[0;31m·\u001b[0m\u001b[0;31m·\u001b[0m\u001b[0;31m·\u001b[0m\u001b[0;31m·\u001b[0m\u001b[0;31m·\u001b[0m\u001b[0;31m·\u001b[0m\u001b[0;31m·\u001b[0m\u001b[0;31m·\u001b[0m\u001b[0;31m·\u001b[0m\u001b[0;31m·\u001b[0m\u001b[0;31m·\u001b[0m\u001b[0;31m·\u001b[0m\u001b[0;31m·\u001b[0m│\n",
      "│\u001b[0;31m·\u001b[0m\u001b[0;31m·\u001b[0m\u001b[0;31m·\u001b[0m\u001b[0;31m·\u001b[0m\u001b[0;31m·\u001b[0m\u001b[0;31m·\u001b[0m\u001b[0;31m·\u001b[0m\u001b[0;31m·\u001b[0m\u001b[0;31m·\u001b[0m\u001b[0;32m■\u001b[0m\u001b[0;32m■\u001b[0m\u001b[0;32m■\u001b[0m\u001b[0;32m■\u001b[0m\u001b[0;32m■\u001b[0m\u001b[0;32m■\u001b[0m\u001b[0;32m■\u001b[0m\u001b[0;31m·\u001b[0m\u001b[0;31m·\u001b[0m\u001b[0;31m·\u001b[0m\u001b[0;31m·\u001b[0m\u001b[0;31m·\u001b[0m\u001b[0;31m·\u001b[0m\u001b[0;31m·\u001b[0m\u001b[0;31m·\u001b[0m\u001b[0;31m·\u001b[0m\u001b[0;31m·\u001b[0m\u001b[0;31m·\u001b[0m\u001b[0;31m·\u001b[0m\u001b[0;31m·\u001b[0m\u001b[0;31m·\u001b[0m\u001b[0;31m·\u001b[0m\u001b[0;31m·\u001b[0m\u001b[0;31m·\u001b[0m\u001b[0;31m·\u001b[0m\u001b[0;31m·\u001b[0m\u001b[0;31m·\u001b[0m\u001b[0;31m·\u001b[0m\u001b[0;31m·\u001b[0m\u001b[0;31m·\u001b[0m\u001b[0;31m·\u001b[0m\u001b[0;31m·\u001b[0m│\n",
      "│\u001b[0;31m·\u001b[0m\u001b[0;31m·\u001b[0m\u001b[0;31m·\u001b[0m\u001b[0;31m·\u001b[0m\u001b[0;31m·\u001b[0m\u001b[0;31m·\u001b[0m\u001b[0;31m·\u001b[0m\u001b[0;32m■\u001b[0m\u001b[0;32m■\u001b[0m\u001b[0;32m■\u001b[0m\u001b[0;32m■\u001b[0m\u001b[0;32m■\u001b[0m\u001b[0;32m■\u001b[0m\u001b[0;32m■\u001b[0m\u001b[0;32m■\u001b[0m\u001b[0;32m■\u001b[0m\u001b[0;32m■\u001b[0m\u001b[0;31m·\u001b[0m\u001b[0;31m·\u001b[0m\u001b[0;31m·\u001b[0m\u001b[0;31m·\u001b[0m\u001b[0;31m·\u001b[0m\u001b[0;31m·\u001b[0m\u001b[0;31m·\u001b[0m\u001b[0;31m·\u001b[0m\u001b[0;31m·\u001b[0m\u001b[0;31m·\u001b[0m\u001b[0;31m·\u001b[0m\u001b[0;31m·\u001b[0m\u001b[0;31m·\u001b[0m\u001b[0;31m·\u001b[0m\u001b[0;31m·\u001b[0m\u001b[0;31m·\u001b[0m\u001b[0;31m·\u001b[0m\u001b[0;31m·\u001b[0m\u001b[0;31m·\u001b[0m\u001b[0;31m·\u001b[0m\u001b[0;31m·\u001b[0m\u001b[0;31m·\u001b[0m\u001b[0;31m·\u001b[0m\u001b[0;31m·\u001b[0m│\n",
      "│\u001b[0;31m·\u001b[0m\u001b[0;31m·\u001b[0m\u001b[0;31m·\u001b[0m\u001b[0;31m·\u001b[0m\u001b[0;32m■\u001b[0m\u001b[0;32m■\u001b[0m\u001b[0;32m■\u001b[0m\u001b[0;32m■\u001b[0m\u001b[0;32m■\u001b[0m\u001b[0;32m■\u001b[0m\u001b[0;32m■\u001b[0m\u001b[0;32m■\u001b[0m\u001b[0;32m■\u001b[0m\u001b[0;32m■\u001b[0m\u001b[0;32m■\u001b[0m\u001b[0;32m■\u001b[0m\u001b[0;32m■\u001b[0m\u001b[0;32m■\u001b[0m\u001b[0;32m■\u001b[0m\u001b[0;32m■\u001b[0m\u001b[0;31m·\u001b[0m\u001b[0;31m·\u001b[0m\u001b[0;31m·\u001b[0m\u001b[0;31m·\u001b[0m\u001b[0;31m·\u001b[0m\u001b[0;31m·\u001b[0m\u001b[0;31m·\u001b[0m\u001b[0;31m·\u001b[0m\u001b[0;32m■\u001b[0m\u001b[0;31m·\u001b[0m\u001b[0;31m·\u001b[0m\u001b[0;31m·\u001b[0m\u001b[0;31m·\u001b[0m\u001b[0;32m■\u001b[0m\u001b[0;32m■\u001b[0m\u001b[0;32m■\u001b[0m\u001b[0;32m■\u001b[0m\u001b[0;32m■\u001b[0m\u001b[0;32m■\u001b[0m\u001b[0;32m■\u001b[0m\u001b[0;31m·\u001b[0m│\n",
      "│\u001b[0;31m·\u001b[0m\u001b[0;31m·\u001b[0m\u001b[0;31m·\u001b[0m\u001b[0;32m■\u001b[0m\u001b[0;32m■\u001b[0m\u001b[0;32m■\u001b[0m\u001b[0;32m■\u001b[0m\u001b[0;32m■\u001b[0m\u001b[0;32m■\u001b[0m\u001b[0;32m■\u001b[0m\u001b[0;32m■\u001b[0m\u001b[0;32m■\u001b[0m\u001b[0;32m■\u001b[0m\u001b[0;32m■\u001b[0m\u001b[0;32m■\u001b[0m\u001b[0;32m■\u001b[0m\u001b[0;32m■\u001b[0m\u001b[0;32m■\u001b[0m\u001b[0;32m■\u001b[0m\u001b[0;32m■\u001b[0m\u001b[0;32m■\u001b[0m\u001b[0;32m■\u001b[0m\u001b[0;32m■\u001b[0m\u001b[0;32m■\u001b[0m\u001b[0;32m■\u001b[0m\u001b[0;32m■\u001b[0m\u001b[0;32m■\u001b[0m\u001b[0;32m■\u001b[0m\u001b[0;31m·\u001b[0m\u001b[0;32m■\u001b[0m\u001b[0;32m■\u001b[0m\u001b[0;32m■\u001b[0m\u001b[0;32m■\u001b[0m\u001b[0;32m■\u001b[0m\u001b[0;32m■\u001b[0m\u001b[0;32m■\u001b[0m\u001b[0;32m■\u001b[0m\u001b[0;31m·\u001b[0m\u001b[0;31m·\u001b[0m\u001b[0;31m·\u001b[0m\u001b[0;31m·\u001b[0m│\n",
      "│\u001b[0;31m·\u001b[0m\u001b[0;31m·\u001b[0m\u001b[0;31m·\u001b[0m\u001b[0;31m·\u001b[0m\u001b[0;32m■\u001b[0m\u001b[0;32m■\u001b[0m\u001b[0;32m■\u001b[0m\u001b[0;32m■\u001b[0m\u001b[0;32m■\u001b[0m\u001b[0;32m■\u001b[0m\u001b[0;32m■\u001b[0m\u001b[0;32m■\u001b[0m\u001b[0;32m■\u001b[0m\u001b[0;32m■\u001b[0m\u001b[0;32m■\u001b[0m\u001b[0;32m■\u001b[0m\u001b[0;32m■\u001b[0m\u001b[0;32m■\u001b[0m\u001b[0;32m■\u001b[0m\u001b[0;32m■\u001b[0m\u001b[0;32m■\u001b[0m\u001b[0;32m■\u001b[0m\u001b[0;32m■\u001b[0m\u001b[0;32m■\u001b[0m\u001b[0;32m■\u001b[0m\u001b[0;32m■\u001b[0m\u001b[0;32m■\u001b[0m\u001b[0;32m■\u001b[0m\u001b[0;31m·\u001b[0m\u001b[0;31m·\u001b[0m\u001b[0;31m·\u001b[0m\u001b[0;31m·\u001b[0m\u001b[0;31m·\u001b[0m\u001b[0;32m■\u001b[0m\u001b[0;32m■\u001b[0m\u001b[0;32m■\u001b[0m\u001b[0;32m■\u001b[0m\u001b[0;31m·\u001b[0m\u001b[0;31m·\u001b[0m\u001b[0;31m·\u001b[0m\u001b[0;31m·\u001b[0m│\n",
      "│\u001b[0;31m·\u001b[0m\u001b[0;32m■\u001b[0m\u001b[0;32m■\u001b[0m\u001b[0;32m■\u001b[0m\u001b[0;32m■\u001b[0m\u001b[0;32m■\u001b[0m\u001b[0;32m■\u001b[0m\u001b[0;32m■\u001b[0m\u001b[0;32m■\u001b[0m\u001b[0;32m■\u001b[0m\u001b[0;32m■\u001b[0m\u001b[0;32m■\u001b[0m\u001b[0;32m■\u001b[0m\u001b[0;32m■\u001b[0m\u001b[0;32m■\u001b[0m\u001b[0;32m■\u001b[0m\u001b[0;32m■\u001b[0m\u001b[0;32m■\u001b[0m\u001b[0;32m■\u001b[0m\u001b[0;32m■\u001b[0m\u001b[0;32m■\u001b[0m\u001b[0;32m■\u001b[0m\u001b[0;32m■\u001b[0m\u001b[0;32m■\u001b[0m\u001b[0;32m■\u001b[0m\u001b[0;32m■\u001b[0m\u001b[0;32m■\u001b[0m\u001b[0;32m■\u001b[0m\u001b[0;32m■\u001b[0m\u001b[0;31m·\u001b[0m\u001b[0;31m·\u001b[0m\u001b[0;31m·\u001b[0m\u001b[0;32m■\u001b[0m\u001b[0;32m■\u001b[0m\u001b[0;32m■\u001b[0m\u001b[0;31m·\u001b[0m\u001b[0;31m·\u001b[0m\u001b[0;31m·\u001b[0m\u001b[0;31m·\u001b[0m\u001b[0;31m·\u001b[0m\u001b[0;31m·\u001b[0m│\n",
      "│\u001b[0;31m·\u001b[0m\u001b[0;31m·\u001b[0m\u001b[0;32m■\u001b[0m\u001b[0;32m■\u001b[0m\u001b[0;32m■\u001b[0m\u001b[0;32m■\u001b[0m\u001b[0;32m■\u001b[0m\u001b[0;32m■\u001b[0m\u001b[0;32m■\u001b[0m\u001b[0;32m■\u001b[0m\u001b[0;32m■\u001b[0m\u001b[0;32m■\u001b[0m\u001b[0;32m■\u001b[0m\u001b[0;32m■\u001b[0m\u001b[0;32m■\u001b[0m\u001b[0;32m■\u001b[0m\u001b[0;32m■\u001b[0m\u001b[0;32m■\u001b[0m\u001b[0;32m■\u001b[0m\u001b[0;32m■\u001b[0m\u001b[0;32m■\u001b[0m\u001b[0;32m■\u001b[0m\u001b[0;32m■\u001b[0m\u001b[0;32m■\u001b[0m\u001b[0;32m■\u001b[0m\u001b[0;32m■\u001b[0m\u001b[0;32m■\u001b[0m\u001b[0;32m■\u001b[0m\u001b[0;32m■\u001b[0m\u001b[0;31m·\u001b[0m\u001b[0;31m·\u001b[0m\u001b[0;31m·\u001b[0m\u001b[0;31m·\u001b[0m\u001b[0;31m·\u001b[0m\u001b[0;31m·\u001b[0m\u001b[0;31m·\u001b[0m\u001b[0;31m·\u001b[0m\u001b[0;31m·\u001b[0m\u001b[0;31m·\u001b[0m\u001b[0;31m·\u001b[0m\u001b[0;31m·\u001b[0m│\n",
      "│\u001b[0;31m·\u001b[0m\u001b[0;31m·\u001b[0m\u001b[0;31m·\u001b[0m\u001b[0;31m·\u001b[0m\u001b[0;31m·\u001b[0m\u001b[0;31m·\u001b[0m\u001b[0;31m·\u001b[0m\u001b[0;32m■\u001b[0m\u001b[0;32m■\u001b[0m\u001b[0;32m■\u001b[0m\u001b[0;32m■\u001b[0m\u001b[0;32m■\u001b[0m\u001b[0;32m■\u001b[0m\u001b[0;32m■\u001b[0m\u001b[0;32m■\u001b[0m\u001b[0;32m■\u001b[0m\u001b[0;32m■\u001b[0m\u001b[0;32m■\u001b[0m\u001b[0;32m■\u001b[0m\u001b[0;32m■\u001b[0m\u001b[0;32m■\u001b[0m\u001b[0;32m■\u001b[0m\u001b[0;32m■\u001b[0m\u001b[0;32m■\u001b[0m\u001b[0;32m■\u001b[0m\u001b[0;32m■\u001b[0m\u001b[0;31m·\u001b[0m\u001b[0;31m·\u001b[0m\u001b[0;31m·\u001b[0m\u001b[0;31m·\u001b[0m\u001b[0;31m·\u001b[0m\u001b[0;31m·\u001b[0m\u001b[0;31m·\u001b[0m\u001b[0;31m·\u001b[0m\u001b[0;31m·\u001b[0m\u001b[0;31m·\u001b[0m\u001b[0;31m·\u001b[0m\u001b[0;31m·\u001b[0m\u001b[0;31m·\u001b[0m\u001b[0;31m·\u001b[0m\u001b[0;31m·\u001b[0m│\n",
      "│\u001b[0;31m·\u001b[0m\u001b[0;31m·\u001b[0m\u001b[0;31m·\u001b[0m\u001b[0;31m·\u001b[0m\u001b[0;31m·\u001b[0m\u001b[0;31m·\u001b[0m\u001b[0;31m·\u001b[0m\u001b[0;32m■\u001b[0m\u001b[0;32m■\u001b[0m\u001b[0;32m■\u001b[0m\u001b[0;32m■\u001b[0m\u001b[0;32m■\u001b[0m\u001b[0;32m■\u001b[0m\u001b[0;32m■\u001b[0m\u001b[0;32m■\u001b[0m\u001b[0;32m■\u001b[0m\u001b[0;32m■\u001b[0m\u001b[0;32m■\u001b[0m\u001b[0;32m■\u001b[0m\u001b[0;32m■\u001b[0m\u001b[0;32m■\u001b[0m\u001b[0;32m■\u001b[0m\u001b[0;32m■\u001b[0m\u001b[0;31m·\u001b[0m\u001b[0;31m·\u001b[0m\u001b[0;31m·\u001b[0m\u001b[0;31m·\u001b[0m\u001b[0;31m·\u001b[0m\u001b[0;31m·\u001b[0m\u001b[0;31m·\u001b[0m\u001b[0;31m·\u001b[0m\u001b[0;31m·\u001b[0m\u001b[0;31m·\u001b[0m\u001b[0;31m·\u001b[0m\u001b[0;31m·\u001b[0m\u001b[0;31m·\u001b[0m\u001b[0;31m·\u001b[0m\u001b[0;31m·\u001b[0m\u001b[0;31m·\u001b[0m\u001b[0;31m·\u001b[0m\u001b[0;31m·\u001b[0m│\n",
      "│\u001b[0;31m·\u001b[0m\u001b[0;31m·\u001b[0m\u001b[0;31m·\u001b[0m\u001b[0;31m·\u001b[0m\u001b[0;31m·\u001b[0m\u001b[0;31m·\u001b[0m\u001b[0;31m·\u001b[0m\u001b[0;32m■\u001b[0m\u001b[0;32m■\u001b[0m\u001b[0;32m■\u001b[0m\u001b[0;32m■\u001b[0m\u001b[0;32m■\u001b[0m\u001b[0;32m■\u001b[0m\u001b[0;32m■\u001b[0m\u001b[0;32m■\u001b[0m\u001b[0;32m■\u001b[0m\u001b[0;32m■\u001b[0m\u001b[0;32m■\u001b[0m\u001b[0;32m■\u001b[0m\u001b[0;32m■\u001b[0m\u001b[0;31m·\u001b[0m\u001b[0;31m·\u001b[0m\u001b[0;31m·\u001b[0m\u001b[0;31m·\u001b[0m\u001b[0;31m·\u001b[0m\u001b[0;31m·\u001b[0m\u001b[0;31m·\u001b[0m\u001b[0;31m·\u001b[0m\u001b[0;31m·\u001b[0m\u001b[0;31m·\u001b[0m\u001b[0;31m·\u001b[0m\u001b[0;31m·\u001b[0m\u001b[0;31m·\u001b[0m\u001b[0;31m·\u001b[0m\u001b[0;31m·\u001b[0m\u001b[0;31m·\u001b[0m\u001b[0;31m·\u001b[0m\u001b[0;31m·\u001b[0m\u001b[0;31m·\u001b[0m\u001b[0;31m·\u001b[0m\u001b[0;31m·\u001b[0m│\n",
      "│\u001b[0;31m·\u001b[0m\u001b[0;31m·\u001b[0m\u001b[0;31m·\u001b[0m\u001b[0;31m·\u001b[0m\u001b[0;31m·\u001b[0m\u001b[0;31m·\u001b[0m\u001b[0;31m·\u001b[0m\u001b[0;31m·\u001b[0m\u001b[0;32m■\u001b[0m\u001b[0;32m■\u001b[0m\u001b[0;32m■\u001b[0m\u001b[0;32m■\u001b[0m\u001b[0;32m■\u001b[0m\u001b[0;32m■\u001b[0m\u001b[0;32m■\u001b[0m\u001b[0;32m■\u001b[0m\u001b[0;32m■\u001b[0m\u001b[0;31m·\u001b[0m\u001b[0;31m·\u001b[0m\u001b[0;31m·\u001b[0m\u001b[0;31m·\u001b[0m\u001b[0;31m·\u001b[0m\u001b[0;31m·\u001b[0m\u001b[0;31m·\u001b[0m\u001b[0;31m·\u001b[0m\u001b[0;31m·\u001b[0m\u001b[0;31m·\u001b[0m\u001b[0;31m·\u001b[0m\u001b[0;31m·\u001b[0m\u001b[0;31m·\u001b[0m\u001b[0;31m·\u001b[0m\u001b[0;31m·\u001b[0m\u001b[0;31m·\u001b[0m\u001b[0;31m·\u001b[0m\u001b[0;31m·\u001b[0m\u001b[0;31m·\u001b[0m\u001b[0;31m·\u001b[0m\u001b[0;31m·\u001b[0m\u001b[0;31m·\u001b[0m\u001b[0;31m·\u001b[0m\u001b[0;31m·\u001b[0m│\n",
      "│\u001b[0;31m·\u001b[0m\u001b[0;31m·\u001b[0m\u001b[0;31m·\u001b[0m\u001b[0;31m·\u001b[0m\u001b[0;31m·\u001b[0m\u001b[0;31m·\u001b[0m\u001b[0;31m·\u001b[0m\u001b[0;31m·\u001b[0m\u001b[0;31m·\u001b[0m\u001b[0;32m■\u001b[0m\u001b[0;32m■\u001b[0m\u001b[0;32m■\u001b[0m\u001b[0;32m■\u001b[0m\u001b[0;32m■\u001b[0m\u001b[0;32m■\u001b[0m\u001b[0;32m■\u001b[0m\u001b[0;32m■\u001b[0m\u001b[0;31m·\u001b[0m\u001b[0;31m·\u001b[0m\u001b[0;31m·\u001b[0m\u001b[0;31m·\u001b[0m\u001b[0;31m·\u001b[0m\u001b[0;31m·\u001b[0m\u001b[0;31m·\u001b[0m\u001b[0;31m·\u001b[0m\u001b[0;31m·\u001b[0m\u001b[0;31m·\u001b[0m\u001b[0;31m·\u001b[0m\u001b[0;31m·\u001b[0m\u001b[0;31m·\u001b[0m\u001b[0;31m·\u001b[0m\u001b[0;31m·\u001b[0m\u001b[0;31m·\u001b[0m\u001b[0;31m·\u001b[0m\u001b[0;31m·\u001b[0m\u001b[0;31m·\u001b[0m\u001b[0;31m·\u001b[0m\u001b[0;31m·\u001b[0m\u001b[0;31m·\u001b[0m\u001b[0;31m·\u001b[0m\u001b[0;31m·\u001b[0m│\n",
      "│\u001b[0;31m·\u001b[0m\u001b[0;31m·\u001b[0m\u001b[0;31m·\u001b[0m\u001b[0;31m·\u001b[0m\u001b[0;31m·\u001b[0m\u001b[0;31m·\u001b[0m\u001b[0;31m·\u001b[0m\u001b[0;31m·\u001b[0m\u001b[0;31m·\u001b[0m\u001b[0;31m·\u001b[0m\u001b[0;32m■\u001b[0m\u001b[0;32m■\u001b[0m\u001b[0;32m■\u001b[0m\u001b[0;32m■\u001b[0m\u001b[0;32m■\u001b[0m\u001b[0;32m■\u001b[0m\u001b[0;32m■\u001b[0m\u001b[0;31m·\u001b[0m\u001b[0;31m·\u001b[0m\u001b[0;31m·\u001b[0m\u001b[0;31m·\u001b[0m\u001b[0;31m·\u001b[0m\u001b[0;31m·\u001b[0m\u001b[0;31m·\u001b[0m\u001b[0;31m·\u001b[0m\u001b[0;31m·\u001b[0m\u001b[0;31m·\u001b[0m\u001b[0;31m·\u001b[0m\u001b[0;31m·\u001b[0m\u001b[0;31m·\u001b[0m\u001b[0;31m·\u001b[0m\u001b[0;31m·\u001b[0m\u001b[0;31m·\u001b[0m\u001b[0;31m·\u001b[0m\u001b[0;31m·\u001b[0m\u001b[0;31m·\u001b[0m\u001b[0;31m·\u001b[0m\u001b[0;31m·\u001b[0m\u001b[0;31m·\u001b[0m\u001b[0;31m·\u001b[0m\u001b[0;31m·\u001b[0m│\n",
      "│\u001b[0;31m·\u001b[0m\u001b[0;31m·\u001b[0m\u001b[0;31m·\u001b[0m\u001b[0;31m·\u001b[0m\u001b[0;31m·\u001b[0m\u001b[0;31m·\u001b[0m\u001b[0;31m·\u001b[0m\u001b[0;31m·\u001b[0m\u001b[0;31m·\u001b[0m\u001b[0;31m·\u001b[0m\u001b[0;31m·\u001b[0m\u001b[0;32m■\u001b[0m\u001b[0;32m■\u001b[0m\u001b[0;32m■\u001b[0m\u001b[0;32m■\u001b[0m\u001b[0;32m■\u001b[0m\u001b[0;31m·\u001b[0m\u001b[0;31m·\u001b[0m\u001b[0;31m·\u001b[0m\u001b[0;31m·\u001b[0m\u001b[0;31m·\u001b[0m\u001b[0;31m·\u001b[0m\u001b[0;31m·\u001b[0m\u001b[0;31m·\u001b[0m\u001b[0;31m·\u001b[0m\u001b[0;31m·\u001b[0m\u001b[0;31m·\u001b[0m\u001b[0;31m·\u001b[0m\u001b[0;31m·\u001b[0m\u001b[0;31m·\u001b[0m\u001b[0;31m·\u001b[0m\u001b[0;31m·\u001b[0m\u001b[0;31m·\u001b[0m\u001b[0;31m·\u001b[0m\u001b[0;31m·\u001b[0m\u001b[0;31m·\u001b[0m\u001b[0;31m·\u001b[0m\u001b[0;31m·\u001b[0m\u001b[0;31m·\u001b[0m\u001b[0;31m·\u001b[0m\u001b[0;31m·\u001b[0m│\n",
      "│\u001b[0;31m·\u001b[0m\u001b[0;31m·\u001b[0m\u001b[0;31m·\u001b[0m\u001b[0;31m·\u001b[0m\u001b[0;31m·\u001b[0m\u001b[0;31m·\u001b[0m\u001b[0;31m·\u001b[0m\u001b[0;31m·\u001b[0m\u001b[0;31m·\u001b[0m\u001b[0;31m·\u001b[0m\u001b[0;31m·\u001b[0m\u001b[0;31m·\u001b[0m\u001b[0;32m■\u001b[0m\u001b[0;32m■\u001b[0m\u001b[0;32m■\u001b[0m\u001b[0;31m·\u001b[0m\u001b[0;31m·\u001b[0m\u001b[0;31m·\u001b[0m\u001b[0;31m·\u001b[0m\u001b[0;31m·\u001b[0m\u001b[0;31m·\u001b[0m\u001b[0;31m·\u001b[0m\u001b[0;31m·\u001b[0m\u001b[0;31m·\u001b[0m\u001b[0;31m·\u001b[0m\u001b[0;31m·\u001b[0m\u001b[0;31m·\u001b[0m\u001b[0;31m·\u001b[0m\u001b[0;31m·\u001b[0m\u001b[0;31m·\u001b[0m\u001b[0;31m·\u001b[0m\u001b[0;31m·\u001b[0m\u001b[0;31m·\u001b[0m\u001b[0;31m·\u001b[0m\u001b[0;31m·\u001b[0m\u001b[0;31m·\u001b[0m\u001b[0;31m·\u001b[0m\u001b[0;31m·\u001b[0m\u001b[0;31m·\u001b[0m\u001b[0;31m·\u001b[0m\u001b[0;31m·\u001b[0m│\n",
      "│\u001b[0;31m·\u001b[0m\u001b[0;31m·\u001b[0m\u001b[0;31m·\u001b[0m\u001b[0;31m·\u001b[0m\u001b[0;31m·\u001b[0m\u001b[0;31m·\u001b[0m\u001b[0;31m·\u001b[0m\u001b[0;31m·\u001b[0m\u001b[0;31m·\u001b[0m\u001b[0;31m·\u001b[0m\u001b[0;31m·\u001b[0m\u001b[0;31m·\u001b[0m\u001b[0;31m·\u001b[0m\u001b[0;31m·\u001b[0m\u001b[0;31m·\u001b[0m\u001b[0;31m·\u001b[0m\u001b[0;31m·\u001b[0m\u001b[0;31m·\u001b[0m\u001b[0;31m·\u001b[0m\u001b[0;31m·\u001b[0m\u001b[0;31m·\u001b[0m\u001b[0;31m·\u001b[0m\u001b[0;31m·\u001b[0m\u001b[0;31m·\u001b[0m\u001b[0;31m·\u001b[0m\u001b[0;31m·\u001b[0m\u001b[0;31m·\u001b[0m\u001b[0;31m·\u001b[0m\u001b[0;31m·\u001b[0m\u001b[0;31m·\u001b[0m\u001b[0;31m·\u001b[0m\u001b[0;31m·\u001b[0m\u001b[0;31m·\u001b[0m\u001b[0;31m·\u001b[0m\u001b[0;31m·\u001b[0m\u001b[0;31m·\u001b[0m\u001b[0;31m·\u001b[0m\u001b[0;31m·\u001b[0m\u001b[0;31m·\u001b[0m\u001b[0;31m·\u001b[0m\u001b[0;31m·\u001b[0m│\n",
      "└─────────────────────────────────────────┘\n",
      " \u001b[0;32m■\u001b[0m = Inside the shape\n",
      " \u001b[0;31m·\u001b[0m = Outside the shape\n",
      "\u001b[0m\n",
      "--- Processing Strategy ---\u001b[0m\n",
      "\u001b[0mUsing monthly dataset: True\u001b[0m\n",
      "\u001b[0mTotal months to process: 1008\u001b[0m\n",
      "\u001b[0mMax months per chunk: 100\u001b[0m\n",
      "\u001b[0mNeeds chunking: True\u001b[0m\n",
      "\u001b[0m\u001b[0;36mPROCESSING CHUNK 1/11\u001b[0m\n",
      "Date Range: 1941-01-01 to 1949-04-30\n",
      "Variables:  2m_temperature\u001b[0m\n",
      "\u001b[0m  → Downloading ERA5 data (attempt 1/6)...\u001b[0m\n"
     ]
    },
    {
     "name": "stderr",
     "output_type": "stream",
     "text": [
      "2025-07-15 14:58:44,807 INFO [2024-09-26T00:00:00] Watch our [Forum](https://forum.ecmwf.int/) for Announcements, news and other discussed topics.\n",
      "INFO:datapi.legacy_api_client:[2024-09-26T00:00:00] Watch our [Forum](https://forum.ecmwf.int/) for Announcements, news and other discussed topics.\n",
      "2025-07-15 14:58:45,625 INFO Request ID is 881d52bd-66ca-40de-8d8c-91d35a5e602a\n",
      "INFO:datapi.legacy_api_client:Request ID is 881d52bd-66ca-40de-8d8c-91d35a5e602a\n",
      "2025-07-15 14:58:45,831 INFO status has been updated to accepted\n",
      "INFO:datapi.legacy_api_client:status has been updated to accepted\n",
      "2025-07-15 14:58:54,944 INFO status has been updated to running\n",
      "INFO:datapi.legacy_api_client:status has been updated to running\n",
      "2025-07-15 14:59:08,054 INFO status has been updated to successful\n",
      "INFO:datapi.legacy_api_client:status has been updated to successful\n",
      "                                                                                          "
     ]
    },
    {
     "name": "stdout",
     "output_type": "stream",
     "text": [
      "\u001b[0m  \u001b[0;32m✓ Download completed: C:\\Users\\ATHARV~1\\AppData\\Local\\Temp\\temp_india_yearly_chunk1.zip\u001b[0m\u001b[0m\n",
      "\u001b[0mExtracting zip file: C:\\Users\\ATHARV~1\\AppData\\Local\\Temp\\temp_india_yearly_chunk1.zip\u001b[0m\n",
      "\u001b[0mExtracted NetCDF files:\u001b[0m\n"
     ]
    },
    {
     "name": "stderr",
     "output_type": "stream",
     "text": [
      "\r"
     ]
    },
    {
     "name": "stdout",
     "output_type": "stream",
     "text": [
      "\u001b[0m  - C:\\Users\\ATHARV~1\\AppData\\Local\\Temp\\temp_india_yearly_chunk1\\data_stream-moda_stepType-avgua.nc\u001b[0m\n",
      "\u001b[0m\n",
      "Processing downloaded data:\u001b[0m\n",
      "\u001b[0m- Found 1 file(s)\u001b[0m\n",
      "\u001b[0m  Processing file 1/1: data_stream-moda_stepType-avgua.nc\u001b[0m\n",
      "\u001b[0m  ✓ Loaded: Dimensions: Frozen({'valid_time': 108, 'latitude': 111, 'longitude': 117})\u001b[0m\n",
      "\u001b[0mStarting optimized filtering process...\u001b[0m\n",
      "\u001b[0m→ Extracting unique lat/lon coordinates from dataset...\u001b[0m\n",
      "\u001b[0m✓ Found 12987 unique lat/lon combinations\u001b[0m\n",
      "\u001b[0m→ Filtering unique coordinates against polygon...\u001b[0m\n",
      "\u001b[0m✓ Coordinate filtering completed in 0.86 seconds\u001b[0m\n",
      "\u001b[0m  - Points inside: 4446\u001b[0m\n",
      "\u001b[0m  - Points outside: 8541\u001b[0m\n",
      "\u001b[0m  - Percentage inside: 34.23%\u001b[0m\n",
      "\u001b[0m→ Filtering original dataset using inside coordinates...\u001b[0m\n",
      "\u001b[0m  Converting dataset to DataFrame...\u001b[0m\n",
      "\u001b[0m  ✓ Converted to DataFrame with 1402596 rows\u001b[0m\n",
      "\u001b[0m  ✓ Created lookup set with 4446 coordinate pairs\u001b[0m\n",
      "\u001b[0m  Filtering DataFrame rows...\u001b[0m\n",
      "\u001b[0m  ✓ Filtered from 1402596 to 480168 rows\u001b[0m\n",
      "\u001b[0m✓ Dataset filtering completed in 1.32 seconds\u001b[0m\n",
      "\u001b[0m\n",
      "--- Final Filtering Results ---\u001b[0m\n",
      "\u001b[0mTotal processing time: 2.21 seconds\u001b[0m\n",
      "\u001b[0mFinal DataFrame shape: (480168, 6)\u001b[0m\n",
      "\u001b[0mRows in final dataset: 480168\u001b[0m\n",
      "\u001b[0m\u001b[0;32m✓ Chunk completed in 30.5 seconds\u001b[0m\u001b[0m\n",
      "\u001b[0m\u001b[0;36mPROCESSING CHUNK 2/11\u001b[0m\n",
      "Date Range: 1949-05-01 to 1957-08-31\n",
      "Variables:  2m_temperature\u001b[0m\n",
      "\u001b[0m  → Downloading ERA5 data (attempt 1/6)...\u001b[0m\n"
     ]
    },
    {
     "name": "stderr",
     "output_type": "stream",
     "text": [
      "2025-07-15 14:59:25,417 INFO [2024-09-26T00:00:00] Watch our [Forum](https://forum.ecmwf.int/) for Announcements, news and other discussed topics.\n",
      "INFO:datapi.legacy_api_client:[2024-09-26T00:00:00] Watch our [Forum](https://forum.ecmwf.int/) for Announcements, news and other discussed topics.\n",
      "2025-07-15 14:59:26,485 INFO Request ID is afd60d9b-f6fc-4aed-acf9-d100ebd3193d\n",
      "INFO:datapi.legacy_api_client:Request ID is afd60d9b-f6fc-4aed-acf9-d100ebd3193d\n",
      "2025-07-15 14:59:26,894 INFO status has been updated to accepted\n",
      "INFO:datapi.legacy_api_client:status has been updated to accepted\n",
      "2025-07-15 14:59:36,078 INFO status has been updated to running\n",
      "INFO:datapi.legacy_api_client:status has been updated to running\n",
      "2025-07-15 15:00:00,916 INFO status has been updated to successful\n",
      "INFO:datapi.legacy_api_client:status has been updated to successful\n",
      "                                                                                         "
     ]
    },
    {
     "name": "stdout",
     "output_type": "stream",
     "text": [
      "\u001b[0m  \u001b[0;32m✓ Download completed: C:\\Users\\ATHARV~1\\AppData\\Local\\Temp\\temp_india_yearly_chunk2.zip\u001b[0m\u001b[0m\n",
      "\u001b[0mExtracting zip file: C:\\Users\\ATHARV~1\\AppData\\Local\\Temp\\temp_india_yearly_chunk2.zip\u001b[0m\n",
      "\u001b[0mExtracted NetCDF files:\u001b[0m\n",
      "\u001b[0m  - C:\\Users\\ATHARV~1\\AppData\\Local\\Temp\\temp_india_yearly_chunk2\\data_stream-moda_stepType-avgua.nc\u001b[0m\n",
      "\u001b[0m\n",
      "Processing downloaded data:\u001b[0m\n",
      "\u001b[0m- Found 1 file(s)\u001b[0m\n",
      "\u001b[0m  Processing file 1/1: data_stream-moda_stepType-avgua.nc\u001b[0m\n",
      "\u001b[0m  ✓ Loaded: Dimensions: Frozen({'valid_time': 108, 'latitude': 111, 'longitude': 117})\u001b[0m\n",
      "\u001b[0mStarting optimized filtering process...\u001b[0m\n",
      "\u001b[0m→ Extracting unique lat/lon coordinates from dataset...\u001b[0m\n",
      "\u001b[0m✓ Found 12987 unique lat/lon combinations\u001b[0m\n",
      "\u001b[0m→ Filtering unique coordinates against polygon...\u001b[0m\n"
     ]
    },
    {
     "name": "stderr",
     "output_type": "stream",
     "text": [
      "\r"
     ]
    },
    {
     "name": "stdout",
     "output_type": "stream",
     "text": [
      "\u001b[0m✓ Coordinate filtering completed in 1.18 seconds\u001b[0m\n",
      "\u001b[0m  - Points inside: 4446\u001b[0m\n",
      "\u001b[0m  - Points outside: 8541\u001b[0m\n",
      "\u001b[0m  - Percentage inside: 34.23%\u001b[0m\n",
      "\u001b[0m→ Filtering original dataset using inside coordinates...\u001b[0m\n",
      "\u001b[0m  Converting dataset to DataFrame...\u001b[0m\n",
      "\u001b[0m  ✓ Converted to DataFrame with 1402596 rows\u001b[0m\n",
      "\u001b[0m  ✓ Created lookup set with 4446 coordinate pairs\u001b[0m\n",
      "\u001b[0m  Filtering DataFrame rows...\u001b[0m\n",
      "\u001b[0m  ✓ Filtered from 1402596 to 480168 rows\u001b[0m\n",
      "\u001b[0m✓ Dataset filtering completed in 1.52 seconds\u001b[0m\n",
      "\u001b[0m\n",
      "--- Final Filtering Results ---\u001b[0m\n",
      "\u001b[0mTotal processing time: 2.72 seconds\u001b[0m\n",
      "\u001b[0mFinal DataFrame shape: (480168, 6)\u001b[0m\n",
      "\u001b[0mRows in final dataset: 480168\u001b[0m\n",
      "\u001b[0m\u001b[0;32m✓ Chunk completed in 48.3 seconds\u001b[0m\u001b[0m\n",
      "\u001b[0m\u001b[0;36mPROCESSING CHUNK 3/11\u001b[0m\n",
      "Date Range: 1957-09-01 to 1965-12-31\n",
      "Variables:  2m_temperature\u001b[0m\n",
      "\u001b[0m  → Downloading ERA5 data (attempt 1/6)...\u001b[0m\n"
     ]
    },
    {
     "name": "stderr",
     "output_type": "stream",
     "text": [
      "2025-07-15 15:00:26,799 INFO [2024-09-26T00:00:00] Watch our [Forum](https://forum.ecmwf.int/) for Announcements, news and other discussed topics.\n",
      "INFO:datapi.legacy_api_client:[2024-09-26T00:00:00] Watch our [Forum](https://forum.ecmwf.int/) for Announcements, news and other discussed topics.\n",
      "2025-07-15 15:00:27,523 INFO Request ID is fd0039c0-d411-4a9c-a206-edd24e0ab967\n",
      "INFO:datapi.legacy_api_client:Request ID is fd0039c0-d411-4a9c-a206-edd24e0ab967\n",
      "2025-07-15 15:00:27,903 INFO status has been updated to accepted\n",
      "INFO:datapi.legacy_api_client:status has been updated to accepted\n",
      "2025-07-15 15:00:33,730 INFO status has been updated to running\n",
      "INFO:datapi.legacy_api_client:status has been updated to running\n",
      "2025-07-15 15:00:50,379 INFO status has been updated to successful\n",
      "INFO:datapi.legacy_api_client:status has been updated to successful\n",
      "                                                                                         "
     ]
    },
    {
     "name": "stdout",
     "output_type": "stream",
     "text": [
      "\u001b[0m  \u001b[0;32m✓ Download completed: C:\\Users\\ATHARV~1\\AppData\\Local\\Temp\\temp_india_yearly_chunk3.zip\u001b[0m\u001b[0m\n",
      "\u001b[0mExtracting zip file: C:\\Users\\ATHARV~1\\AppData\\Local\\Temp\\temp_india_yearly_chunk3.zip\u001b[0m\n",
      "\u001b[0mExtracted NetCDF files:\u001b[0m\n",
      "\u001b[0m  - C:\\Users\\ATHARV~1\\AppData\\Local\\Temp\\temp_india_yearly_chunk3\\data_stream-moda_stepType-avgua.nc\u001b[0m\n",
      "\u001b[0m\n",
      "Processing downloaded data:\u001b[0m\n",
      "\u001b[0m- Found 1 file(s)\u001b[0m\n",
      "\u001b[0m  Processing file 1/1: data_stream-moda_stepType-avgua.nc\u001b[0m\n",
      "\u001b[0m  ✓ Loaded: Dimensions: Frozen({'valid_time': 108, 'latitude': 111, 'longitude': 117})\u001b[0m\n",
      "\u001b[0mStarting optimized filtering process...\u001b[0m\n",
      "\u001b[0m→ Extracting unique lat/lon coordinates from dataset...\u001b[0m\n",
      "\u001b[0m✓ Found 12987 unique lat/lon combinations\u001b[0m\n",
      "\u001b[0m→ Filtering unique coordinates against polygon...\u001b[0m\n"
     ]
    },
    {
     "name": "stderr",
     "output_type": "stream",
     "text": [
      "\r"
     ]
    },
    {
     "name": "stdout",
     "output_type": "stream",
     "text": [
      "\u001b[0m✓ Coordinate filtering completed in 0.78 seconds\u001b[0m\n",
      "\u001b[0m  - Points inside: 4446\u001b[0m\n",
      "\u001b[0m  - Points outside: 8541\u001b[0m\n",
      "\u001b[0m  - Percentage inside: 34.23%\u001b[0m\n",
      "\u001b[0m→ Filtering original dataset using inside coordinates...\u001b[0m\n",
      "\u001b[0m  Converting dataset to DataFrame...\u001b[0m\n",
      "\u001b[0m  ✓ Converted to DataFrame with 1402596 rows\u001b[0m\n",
      "\u001b[0m  ✓ Created lookup set with 4446 coordinate pairs\u001b[0m\n",
      "\u001b[0m  Filtering DataFrame rows...\u001b[0m\n",
      "\u001b[0m  ✓ Filtered from 1402596 to 480168 rows\u001b[0m\n",
      "\u001b[0m✓ Dataset filtering completed in 1.06 seconds\u001b[0m\n",
      "\u001b[0m\n",
      "--- Final Filtering Results ---\u001b[0m\n",
      "\u001b[0mTotal processing time: 1.86 seconds\u001b[0m\n",
      "\u001b[0mFinal DataFrame shape: (480168, 6)\u001b[0m\n",
      "\u001b[0mRows in final dataset: 480168\u001b[0m\n",
      "\u001b[0m\u001b[0;32m✓ Chunk completed in 44.0 seconds\u001b[0m\u001b[0m\n",
      "\u001b[0m\u001b[0;36mPROCESSING CHUNK 4/11\u001b[0m\n",
      "Date Range: 1966-01-01 to 1974-04-30\n",
      "Variables:  2m_temperature\u001b[0m\n",
      "\u001b[0m  → Downloading ERA5 data (attempt 1/6)...\u001b[0m\n"
     ]
    },
    {
     "name": "stderr",
     "output_type": "stream",
     "text": [
      "2025-07-15 15:01:17,966 INFO [2024-09-26T00:00:00] Watch our [Forum](https://forum.ecmwf.int/) for Announcements, news and other discussed topics.\n",
      "INFO:datapi.legacy_api_client:[2024-09-26T00:00:00] Watch our [Forum](https://forum.ecmwf.int/) for Announcements, news and other discussed topics.\n",
      "2025-07-15 15:01:18,482 INFO Request ID is 0b1bcf05-207b-45da-8b76-5c7d4e418841\n",
      "INFO:datapi.legacy_api_client:Request ID is 0b1bcf05-207b-45da-8b76-5c7d4e418841\n",
      "2025-07-15 15:01:18,716 INFO status has been updated to accepted\n",
      "INFO:datapi.legacy_api_client:status has been updated to accepted\n",
      "2025-07-15 15:01:28,136 INFO status has been updated to running\n",
      "INFO:datapi.legacy_api_client:status has been updated to running\n",
      "2025-07-15 15:01:41,359 INFO status has been updated to successful\n",
      "INFO:datapi.legacy_api_client:status has been updated to successful\n",
      "                                                                                          "
     ]
    },
    {
     "name": "stdout",
     "output_type": "stream",
     "text": [
      "\u001b[0m  \u001b[0;32m✓ Download completed: C:\\Users\\ATHARV~1\\AppData\\Local\\Temp\\temp_india_yearly_chunk4.zip\u001b[0m\u001b[0m\n",
      "\u001b[0mExtracting zip file: C:\\Users\\ATHARV~1\\AppData\\Local\\Temp\\temp_india_yearly_chunk4.zip\u001b[0m\n",
      "\u001b[0mExtracted NetCDF files:\u001b[0m\n",
      "\u001b[0m  - C:\\Users\\ATHARV~1\\AppData\\Local\\Temp\\temp_india_yearly_chunk4\\data_stream-moda_stepType-avgua.nc\u001b[0m\n",
      "\u001b[0m\n",
      "Processing downloaded data:\u001b[0m\n",
      "\u001b[0m- Found 1 file(s)\u001b[0m\n",
      "\u001b[0m  Processing file 1/1: data_stream-moda_stepType-avgua.nc\u001b[0m\n",
      "\u001b[0m  ✓ Loaded: Dimensions: Frozen({'valid_time': 108, 'latitude': 111, 'longitude': 117})\u001b[0m\n",
      "\u001b[0mStarting optimized filtering process...\u001b[0m\n",
      "\u001b[0m→ Extracting unique lat/lon coordinates from dataset...\u001b[0m\n",
      "\u001b[0m✓ Found 12987 unique lat/lon combinations\u001b[0m\n",
      "\u001b[0m→ Filtering unique coordinates against polygon...\u001b[0m\n"
     ]
    },
    {
     "name": "stderr",
     "output_type": "stream",
     "text": [
      "\r"
     ]
    },
    {
     "name": "stdout",
     "output_type": "stream",
     "text": [
      "\u001b[0m✓ Coordinate filtering completed in 0.84 seconds\u001b[0m\n",
      "\u001b[0m  - Points inside: 4446\u001b[0m\n",
      "\u001b[0m  - Points outside: 8541\u001b[0m\n",
      "\u001b[0m  - Percentage inside: 34.23%\u001b[0m\n",
      "\u001b[0m→ Filtering original dataset using inside coordinates...\u001b[0m\n",
      "\u001b[0m  Converting dataset to DataFrame...\u001b[0m\n",
      "\u001b[0m  ✓ Converted to DataFrame with 1402596 rows\u001b[0m\n",
      "\u001b[0m  ✓ Created lookup set with 4446 coordinate pairs\u001b[0m\n",
      "\u001b[0m  Filtering DataFrame rows...\u001b[0m\n",
      "\u001b[0m  ✓ Filtered from 1402596 to 480168 rows\u001b[0m\n",
      "\u001b[0m✓ Dataset filtering completed in 1.16 seconds\u001b[0m\n",
      "\u001b[0m\n",
      "--- Final Filtering Results ---\u001b[0m\n",
      "\u001b[0mTotal processing time: 2.02 seconds\u001b[0m\n",
      "\u001b[0mFinal DataFrame shape: (480168, 6)\u001b[0m\n",
      "\u001b[0mRows in final dataset: 480168\u001b[0m\n",
      "\u001b[0m\u001b[0;32m✓ Chunk completed in 53.5 seconds\u001b[0m\u001b[0m\n",
      "\u001b[0m\u001b[0;36mPROCESSING CHUNK 5/11\u001b[0m\n",
      "Date Range: 1974-05-01 to 1982-08-31\n",
      "Variables:  2m_temperature\u001b[0m\n",
      "\u001b[0m  → Downloading ERA5 data (attempt 1/6)...\u001b[0m\n"
     ]
    },
    {
     "name": "stderr",
     "output_type": "stream",
     "text": [
      "2025-07-15 15:02:21,385 INFO [2024-09-26T00:00:00] Watch our [Forum](https://forum.ecmwf.int/) for Announcements, news and other discussed topics.\n",
      "INFO:datapi.legacy_api_client:[2024-09-26T00:00:00] Watch our [Forum](https://forum.ecmwf.int/) for Announcements, news and other discussed topics.\n",
      "2025-07-15 15:02:22,652 INFO Request ID is ad206152-393e-41e7-a03c-93a7b2acae95\n",
      "INFO:datapi.legacy_api_client:Request ID is ad206152-393e-41e7-a03c-93a7b2acae95\n",
      "2025-07-15 15:02:22,819 INFO status has been updated to accepted\n",
      "INFO:datapi.legacy_api_client:status has been updated to accepted\n",
      "2025-07-15 15:02:31,831 INFO status has been updated to running\n",
      "INFO:datapi.legacy_api_client:status has been updated to running\n",
      "2025-07-15 15:02:45,143 INFO status has been updated to successful\n",
      "INFO:datapi.legacy_api_client:status has been updated to successful\n",
      "                                                                                         "
     ]
    },
    {
     "name": "stdout",
     "output_type": "stream",
     "text": [
      "\u001b[0m  \u001b[0;32m✓ Download completed: C:\\Users\\ATHARV~1\\AppData\\Local\\Temp\\temp_india_yearly_chunk5.zip\u001b[0m\u001b[0m\n",
      "\u001b[0mExtracting zip file: C:\\Users\\ATHARV~1\\AppData\\Local\\Temp\\temp_india_yearly_chunk5.zip\u001b[0m\n",
      "\u001b[0mExtracted NetCDF files:\u001b[0m\n",
      "\u001b[0m  - C:\\Users\\ATHARV~1\\AppData\\Local\\Temp\\temp_india_yearly_chunk5\\data_stream-moda_stepType-avgua.nc\u001b[0m\n",
      "\u001b[0m\n",
      "Processing downloaded data:\u001b[0m\n",
      "\u001b[0m- Found 1 file(s)\u001b[0m\n",
      "\u001b[0m  Processing file 1/1: data_stream-moda_stepType-avgua.nc\u001b[0m\n",
      "\u001b[0m  ✓ Loaded: Dimensions: Frozen({'valid_time': 108, 'latitude': 111, 'longitude': 117})\u001b[0m\n",
      "\u001b[0mStarting optimized filtering process...\u001b[0m\n",
      "\u001b[0m→ Extracting unique lat/lon coordinates from dataset...\u001b[0m\n",
      "\u001b[0m✓ Found 12987 unique lat/lon combinations\u001b[0m\n",
      "\u001b[0m→ Filtering unique coordinates against polygon...\u001b[0m\n"
     ]
    },
    {
     "name": "stderr",
     "output_type": "stream",
     "text": [
      "\r"
     ]
    },
    {
     "name": "stdout",
     "output_type": "stream",
     "text": [
      "\u001b[0m✓ Coordinate filtering completed in 0.68 seconds\u001b[0m\n",
      "\u001b[0m  - Points inside: 4446\u001b[0m\n",
      "\u001b[0m  - Points outside: 8541\u001b[0m\n",
      "\u001b[0m  - Percentage inside: 34.23%\u001b[0m\n",
      "\u001b[0m→ Filtering original dataset using inside coordinates...\u001b[0m\n",
      "\u001b[0m  Converting dataset to DataFrame...\u001b[0m\n",
      "\u001b[0m  ✓ Converted to DataFrame with 1402596 rows\u001b[0m\n",
      "\u001b[0m  ✓ Created lookup set with 4446 coordinate pairs\u001b[0m\n",
      "\u001b[0m  Filtering DataFrame rows...\u001b[0m\n",
      "\u001b[0m  ✓ Filtered from 1402596 to 480168 rows\u001b[0m\n",
      "\u001b[0m✓ Dataset filtering completed in 1.12 seconds\u001b[0m\n",
      "\u001b[0m\n",
      "--- Final Filtering Results ---\u001b[0m\n",
      "\u001b[0mTotal processing time: 1.81 seconds\u001b[0m\n",
      "\u001b[0mFinal DataFrame shape: (480168, 6)\u001b[0m\n",
      "\u001b[0mRows in final dataset: 480168\u001b[0m\n",
      "\u001b[0m\u001b[0;32m✓ Chunk completed in 46.1 seconds\u001b[0m\u001b[0m\n",
      "\u001b[0m\u001b[0;36mPROCESSING CHUNK 6/11\u001b[0m\n",
      "Date Range: 1982-09-01 to 1990-12-31\n",
      "Variables:  2m_temperature\u001b[0m\n",
      "\u001b[0m  → Downloading ERA5 data (attempt 1/6)...\u001b[0m\n"
     ]
    },
    {
     "name": "stderr",
     "output_type": "stream",
     "text": [
      "2025-07-15 15:03:17,298 INFO [2024-09-26T00:00:00] Watch our [Forum](https://forum.ecmwf.int/) for Announcements, news and other discussed topics.\n",
      "INFO:datapi.legacy_api_client:[2024-09-26T00:00:00] Watch our [Forum](https://forum.ecmwf.int/) for Announcements, news and other discussed topics.\n",
      "2025-07-15 15:03:18,320 INFO Request ID is 1bf3e205-539b-41eb-848e-99ebe56aa890\n",
      "INFO:datapi.legacy_api_client:Request ID is 1bf3e205-539b-41eb-848e-99ebe56aa890\n",
      "2025-07-15 15:03:18,526 INFO status has been updated to accepted\n",
      "INFO:datapi.legacy_api_client:status has been updated to accepted\n",
      "2025-07-15 15:03:33,048 INFO status has been updated to running\n",
      "INFO:datapi.legacy_api_client:status has been updated to running\n",
      "2025-07-15 15:03:53,342 INFO status has been updated to successful\n",
      "INFO:datapi.legacy_api_client:status has been updated to successful\n",
      "                                                                                         "
     ]
    },
    {
     "name": "stdout",
     "output_type": "stream",
     "text": [
      "\u001b[0m  \u001b[0;32m✓ Download completed: C:\\Users\\ATHARV~1\\AppData\\Local\\Temp\\temp_india_yearly_chunk6.zip\u001b[0m\u001b[0m\n",
      "\u001b[0mExtracting zip file: C:\\Users\\ATHARV~1\\AppData\\Local\\Temp\\temp_india_yearly_chunk6.zip\u001b[0m\n",
      "\u001b[0mExtracted NetCDF files:\u001b[0m\n"
     ]
    },
    {
     "name": "stderr",
     "output_type": "stream",
     "text": [
      "\r"
     ]
    },
    {
     "name": "stdout",
     "output_type": "stream",
     "text": [
      "\u001b[0m  - C:\\Users\\ATHARV~1\\AppData\\Local\\Temp\\temp_india_yearly_chunk6\\data_stream-moda_stepType-avgua.nc\u001b[0m\n",
      "\u001b[0m\n",
      "Processing downloaded data:\u001b[0m\n",
      "\u001b[0m- Found 1 file(s)\u001b[0m\n",
      "\u001b[0m  Processing file 1/1: data_stream-moda_stepType-avgua.nc\u001b[0m\n",
      "\u001b[0m  ✓ Loaded: Dimensions: Frozen({'valid_time': 108, 'latitude': 111, 'longitude': 117})\u001b[0m\n",
      "\u001b[0mStarting optimized filtering process...\u001b[0m\n",
      "\u001b[0m→ Extracting unique lat/lon coordinates from dataset...\u001b[0m\n",
      "\u001b[0m✓ Found 12987 unique lat/lon combinations\u001b[0m\n",
      "\u001b[0m→ Filtering unique coordinates against polygon...\u001b[0m\n",
      "\u001b[0m✓ Coordinate filtering completed in 1.05 seconds\u001b[0m\n",
      "\u001b[0m  - Points inside: 4446\u001b[0m\n",
      "\u001b[0m  - Points outside: 8541\u001b[0m\n",
      "\u001b[0m  - Percentage inside: 34.23%\u001b[0m\n",
      "\u001b[0m→ Filtering original dataset using inside coordinates...\u001b[0m\n",
      "\u001b[0m  Converting dataset to DataFrame...\u001b[0m\n",
      "\u001b[0m  ✓ Converted to DataFrame with 1402596 rows\u001b[0m\n",
      "\u001b[0m  ✓ Created lookup set with 4446 coordinate pairs\u001b[0m\n",
      "\u001b[0m  Filtering DataFrame rows...\u001b[0m\n",
      "\u001b[0m  ✓ Filtered from 1402596 to 480168 rows\u001b[0m\n",
      "\u001b[0m✓ Dataset filtering completed in 1.25 seconds\u001b[0m\n",
      "\u001b[0m\n",
      "--- Final Filtering Results ---\u001b[0m\n",
      "\u001b[0mTotal processing time: 2.33 seconds\u001b[0m\n",
      "\u001b[0mFinal DataFrame shape: (480168, 6)\u001b[0m\n",
      "\u001b[0mRows in final dataset: 480168\u001b[0m\n",
      "\u001b[0m\u001b[0;32m✓ Chunk completed in 45.3 seconds\u001b[0m\u001b[0m\n",
      "\u001b[0m\u001b[0;36mPROCESSING CHUNK 7/11\u001b[0m\n",
      "Date Range: 1991-01-01 to 1999-04-30\n",
      "Variables:  2m_temperature\u001b[0m\n",
      "\u001b[0m  → Downloading ERA5 data (attempt 1/6)...\u001b[0m\n"
     ]
    },
    {
     "name": "stderr",
     "output_type": "stream",
     "text": [
      "2025-07-15 15:04:12,698 INFO [2024-09-26T00:00:00] Watch our [Forum](https://forum.ecmwf.int/) for Announcements, news and other discussed topics.\n",
      "INFO:datapi.legacy_api_client:[2024-09-26T00:00:00] Watch our [Forum](https://forum.ecmwf.int/) for Announcements, news and other discussed topics.\n",
      "2025-07-15 15:04:13,313 INFO Request ID is 68980586-deec-4dfd-85e4-0eed0095a4a9\n",
      "INFO:datapi.legacy_api_client:Request ID is 68980586-deec-4dfd-85e4-0eed0095a4a9\n",
      "2025-07-15 15:04:13,515 INFO status has been updated to accepted\n",
      "INFO:datapi.legacy_api_client:status has been updated to accepted\n",
      "2025-07-15 15:04:24,439 INFO status has been updated to running\n",
      "INFO:datapi.legacy_api_client:status has been updated to running\n",
      "2025-07-15 15:04:29,806 INFO status has been updated to accepted\n",
      "INFO:datapi.legacy_api_client:status has been updated to accepted\n",
      "2025-07-15 15:04:37,580 INFO status has been updated to running\n",
      "INFO:datapi.legacy_api_client:status has been updated to running\n",
      "2025-07-15 15:04:50,073 INFO status has been updated to successful\n",
      "INFO:datapi.legacy_api_client:status has been updated to successful\n",
      "                                                                                         "
     ]
    },
    {
     "name": "stdout",
     "output_type": "stream",
     "text": [
      "\u001b[0m  \u001b[0;32m✓ Download completed: C:\\Users\\ATHARV~1\\AppData\\Local\\Temp\\temp_india_yearly_chunk7.zip\u001b[0m\u001b[0m\n",
      "\u001b[0mExtracting zip file: C:\\Users\\ATHARV~1\\AppData\\Local\\Temp\\temp_india_yearly_chunk7.zip\u001b[0m\n",
      "\u001b[0mExtracted NetCDF files:\u001b[0m\n",
      "\u001b[0m  - C:\\Users\\ATHARV~1\\AppData\\Local\\Temp\\temp_india_yearly_chunk7\\data_stream-moda_stepType-avgua.nc\u001b[0m\n",
      "\u001b[0m\n",
      "Processing downloaded data:\u001b[0m\n",
      "\u001b[0m- Found 1 file(s)\u001b[0m\n",
      "\u001b[0m  Processing file 1/1: data_stream-moda_stepType-avgua.nc\u001b[0m\n",
      "\u001b[0m  ✓ Loaded: Dimensions: Frozen({'valid_time': 108, 'latitude': 111, 'longitude': 117})\u001b[0m\n",
      "\u001b[0mStarting optimized filtering process...\u001b[0m\n",
      "\u001b[0m→ Extracting unique lat/lon coordinates from dataset...\u001b[0m\n",
      "\u001b[0m✓ Found 12987 unique lat/lon combinations\u001b[0m\n",
      "\u001b[0m→ Filtering unique coordinates against polygon...\u001b[0m\n"
     ]
    },
    {
     "name": "stderr",
     "output_type": "stream",
     "text": [
      "\r"
     ]
    },
    {
     "name": "stdout",
     "output_type": "stream",
     "text": [
      "\u001b[0m✓ Coordinate filtering completed in 0.93 seconds\u001b[0m\n",
      "\u001b[0m  - Points inside: 4446\u001b[0m\n",
      "\u001b[0m  - Points outside: 8541\u001b[0m\n",
      "\u001b[0m  - Percentage inside: 34.23%\u001b[0m\n",
      "\u001b[0m→ Filtering original dataset using inside coordinates...\u001b[0m\n",
      "\u001b[0m  Converting dataset to DataFrame...\u001b[0m\n",
      "\u001b[0m  ✓ Converted to DataFrame with 1402596 rows\u001b[0m\n",
      "\u001b[0m  ✓ Created lookup set with 4446 coordinate pairs\u001b[0m\n",
      "\u001b[0m  Filtering DataFrame rows...\u001b[0m\n",
      "\u001b[0m  ✓ Filtered from 1402596 to 480168 rows\u001b[0m\n",
      "\u001b[0m✓ Dataset filtering completed in 1.25 seconds\u001b[0m\n",
      "\u001b[0m\n",
      "--- Final Filtering Results ---\u001b[0m\n",
      "\u001b[0mTotal processing time: 2.20 seconds\u001b[0m\n",
      "\u001b[0mFinal DataFrame shape: (480168, 6)\u001b[0m\n",
      "\u001b[0mRows in final dataset: 480168\u001b[0m\n",
      "\u001b[0m\u001b[0;32m✓ Chunk completed in 48.4 seconds\u001b[0m\u001b[0m\n",
      "\u001b[0m\u001b[0;36mPROCESSING CHUNK 8/11\u001b[0m\n",
      "Date Range: 1999-05-01 to 2007-08-31\n",
      "Variables:  2m_temperature\u001b[0m\n",
      "\u001b[0m  → Downloading ERA5 data (attempt 1/6)...\u001b[0m\n"
     ]
    },
    {
     "name": "stderr",
     "output_type": "stream",
     "text": [
      "2025-07-15 15:05:11,066 INFO [2024-09-26T00:00:00] Watch our [Forum](https://forum.ecmwf.int/) for Announcements, news and other discussed topics.\n",
      "INFO:datapi.legacy_api_client:[2024-09-26T00:00:00] Watch our [Forum](https://forum.ecmwf.int/) for Announcements, news and other discussed topics.\n",
      "2025-07-15 15:05:11,783 INFO Request ID is 22bbc3cf-60da-4062-836a-7ff6e8686579\n",
      "INFO:datapi.legacy_api_client:Request ID is 22bbc3cf-60da-4062-836a-7ff6e8686579\n",
      "2025-07-15 15:05:11,987 INFO status has been updated to accepted\n",
      "INFO:datapi.legacy_api_client:status has been updated to accepted\n",
      "2025-07-15 15:05:21,202 INFO status has been updated to running\n",
      "INFO:datapi.legacy_api_client:status has been updated to running\n",
      "2025-07-15 15:05:35,540 INFO status has been updated to successful\n",
      "INFO:datapi.legacy_api_client:status has been updated to successful\n",
      "                                                                                         "
     ]
    },
    {
     "name": "stdout",
     "output_type": "stream",
     "text": [
      "\u001b[0m  \u001b[0;32m✓ Download completed: C:\\Users\\ATHARV~1\\AppData\\Local\\Temp\\temp_india_yearly_chunk8.zip\u001b[0m\u001b[0m\n",
      "\u001b[0mExtracting zip file: C:\\Users\\ATHARV~1\\AppData\\Local\\Temp\\temp_india_yearly_chunk8.zip\u001b[0m\n",
      "\u001b[0mExtracted NetCDF files:\u001b[0m\n"
     ]
    },
    {
     "name": "stderr",
     "output_type": "stream",
     "text": [
      "\r"
     ]
    },
    {
     "name": "stdout",
     "output_type": "stream",
     "text": [
      "\u001b[0m  - C:\\Users\\ATHARV~1\\AppData\\Local\\Temp\\temp_india_yearly_chunk8\\data_stream-moda_stepType-avgua.nc\u001b[0m\n",
      "\u001b[0m\n",
      "Processing downloaded data:\u001b[0m\n",
      "\u001b[0m- Found 1 file(s)\u001b[0m\n",
      "\u001b[0m  Processing file 1/1: data_stream-moda_stepType-avgua.nc\u001b[0m\n",
      "\u001b[0m  ✓ Loaded: Dimensions: Frozen({'valid_time': 108, 'latitude': 111, 'longitude': 117})\u001b[0m\n",
      "\u001b[0mStarting optimized filtering process...\u001b[0m\n",
      "\u001b[0m→ Extracting unique lat/lon coordinates from dataset...\u001b[0m\n",
      "\u001b[0m✓ Found 12987 unique lat/lon combinations\u001b[0m\n",
      "\u001b[0m→ Filtering unique coordinates against polygon...\u001b[0m\n",
      "\u001b[0m✓ Coordinate filtering completed in 0.91 seconds\u001b[0m\n",
      "\u001b[0m  - Points inside: 4446\u001b[0m\n",
      "\u001b[0m  - Points outside: 8541\u001b[0m\n",
      "\u001b[0m  - Percentage inside: 34.23%\u001b[0m\n",
      "\u001b[0m→ Filtering original dataset using inside coordinates...\u001b[0m\n",
      "\u001b[0m  Converting dataset to DataFrame...\u001b[0m\n",
      "\u001b[0m  ✓ Converted to DataFrame with 1402596 rows\u001b[0m\n",
      "\u001b[0m  ✓ Created lookup set with 4446 coordinate pairs\u001b[0m\n",
      "\u001b[0m  Filtering DataFrame rows...\u001b[0m\n",
      "\u001b[0m  ✓ Filtered from 1402596 to 480168 rows\u001b[0m\n",
      "\u001b[0m✓ Dataset filtering completed in 1.19 seconds\u001b[0m\n",
      "\u001b[0m\n",
      "--- Final Filtering Results ---\u001b[0m\n",
      "\u001b[0mTotal processing time: 2.11 seconds\u001b[0m\n",
      "\u001b[0mFinal DataFrame shape: (480168, 6)\u001b[0m\n",
      "\u001b[0mRows in final dataset: 480168\u001b[0m\n",
      "\u001b[0m\u001b[0;32m✓ Chunk completed in 33.6 seconds\u001b[0m\u001b[0m\n",
      "\u001b[0m\u001b[0;36mPROCESSING CHUNK 9/11\u001b[0m\n",
      "Date Range: 2007-09-01 to 2015-12-31\n",
      "Variables:  2m_temperature\u001b[0m\n",
      "\u001b[0m  → Downloading ERA5 data (attempt 1/6)...\u001b[0m\n"
     ]
    },
    {
     "name": "stderr",
     "output_type": "stream",
     "text": [
      "2025-07-15 15:05:55,508 INFO [2024-09-26T00:00:00] Watch our [Forum](https://forum.ecmwf.int/) for Announcements, news and other discussed topics.\n",
      "INFO:datapi.legacy_api_client:[2024-09-26T00:00:00] Watch our [Forum](https://forum.ecmwf.int/) for Announcements, news and other discussed topics.\n",
      "2025-07-15 15:05:56,224 INFO Request ID is 00aeff33-7f26-455a-9bd2-c352330e160e\n",
      "INFO:datapi.legacy_api_client:Request ID is 00aeff33-7f26-455a-9bd2-c352330e160e\n",
      "2025-07-15 15:05:56,428 INFO status has been updated to accepted\n",
      "INFO:datapi.legacy_api_client:status has been updated to accepted\n",
      "2025-07-15 15:06:05,338 INFO status has been updated to running\n",
      "INFO:datapi.legacy_api_client:status has been updated to running\n",
      "2025-07-15 15:06:30,834 INFO status has been updated to successful\n",
      "INFO:datapi.legacy_api_client:status has been updated to successful\n",
      "                                                                                         "
     ]
    },
    {
     "name": "stdout",
     "output_type": "stream",
     "text": [
      "\u001b[0m  \u001b[0;32m✓ Download completed: C:\\Users\\ATHARV~1\\AppData\\Local\\Temp\\temp_india_yearly_chunk9.zip\u001b[0m\u001b[0m\n",
      "\u001b[0mExtracting zip file: C:\\Users\\ATHARV~1\\AppData\\Local\\Temp\\temp_india_yearly_chunk9.zip\u001b[0m\n",
      "\u001b[0mExtracted NetCDF files:\u001b[0m\n",
      "\u001b[0m  - C:\\Users\\ATHARV~1\\AppData\\Local\\Temp\\temp_india_yearly_chunk9\\data_stream-moda_stepType-avgua.nc\u001b[0m\n",
      "\u001b[0m\n",
      "Processing downloaded data:\u001b[0m\n",
      "\u001b[0m- Found 1 file(s)\u001b[0m\n",
      "\u001b[0m  Processing file 1/1: data_stream-moda_stepType-avgua.nc\u001b[0m\n",
      "\u001b[0m  ✓ Loaded: Dimensions: Frozen({'valid_time': 108, 'latitude': 111, 'longitude': 117})\u001b[0m\n",
      "\u001b[0mStarting optimized filtering process...\u001b[0m\n",
      "\u001b[0m→ Extracting unique lat/lon coordinates from dataset...\u001b[0m\n",
      "\u001b[0m✓ Found 12987 unique lat/lon combinations\u001b[0m\n",
      "\u001b[0m→ Filtering unique coordinates against polygon...\u001b[0m\n"
     ]
    },
    {
     "name": "stderr",
     "output_type": "stream",
     "text": [
      "\r"
     ]
    },
    {
     "name": "stdout",
     "output_type": "stream",
     "text": [
      "\u001b[0m✓ Coordinate filtering completed in 1.05 seconds\u001b[0m\n",
      "\u001b[0m  - Points inside: 4446\u001b[0m\n",
      "\u001b[0m  - Points outside: 8541\u001b[0m\n",
      "\u001b[0m  - Percentage inside: 34.23%\u001b[0m\n",
      "\u001b[0m→ Filtering original dataset using inside coordinates...\u001b[0m\n",
      "\u001b[0m  Converting dataset to DataFrame...\u001b[0m\n",
      "\u001b[0m  ✓ Converted to DataFrame with 1402596 rows\u001b[0m\n",
      "\u001b[0m  ✓ Created lookup set with 4446 coordinate pairs\u001b[0m\n",
      "\u001b[0m  Filtering DataFrame rows...\u001b[0m\n",
      "\u001b[0m  ✓ Filtered from 1402596 to 480168 rows\u001b[0m\n",
      "\u001b[0m✓ Dataset filtering completed in 1.48 seconds\u001b[0m\n",
      "\u001b[0m\n",
      "--- Final Filtering Results ---\u001b[0m\n",
      "\u001b[0mTotal processing time: 2.55 seconds\u001b[0m\n",
      "\u001b[0mFinal DataFrame shape: (480168, 6)\u001b[0m\n",
      "\u001b[0mRows in final dataset: 480168\u001b[0m\n",
      "\u001b[0m\u001b[0;32m✓ Chunk completed in 49.3 seconds\u001b[0m\u001b[0m\n",
      "\u001b[0m\u001b[0;36mPROCESSING CHUNK 10/11\u001b[0m\n",
      "Date Range: 2016-01-01 to 2024-04-30\n",
      "Variables:  2m_temperature\u001b[0m\n",
      "\u001b[0m  → Downloading ERA5 data (attempt 1/6)...\u001b[0m\n"
     ]
    },
    {
     "name": "stderr",
     "output_type": "stream",
     "text": [
      "2025-07-15 15:06:54,285 INFO [2024-09-26T00:00:00] Watch our [Forum](https://forum.ecmwf.int/) for Announcements, news and other discussed topics.\n",
      "INFO:datapi.legacy_api_client:[2024-09-26T00:00:00] Watch our [Forum](https://forum.ecmwf.int/) for Announcements, news and other discussed topics.\n",
      "2025-07-15 15:06:54,902 INFO Request ID is 8a6c0591-0e77-4372-abd5-67db320f68d1\n",
      "INFO:datapi.legacy_api_client:Request ID is 8a6c0591-0e77-4372-abd5-67db320f68d1\n",
      "2025-07-15 15:06:55,105 INFO status has been updated to accepted\n",
      "INFO:datapi.legacy_api_client:status has been updated to accepted\n",
      "2025-07-15 15:07:04,325 INFO status has been updated to running\n",
      "INFO:datapi.legacy_api_client:status has been updated to running\n",
      "2025-07-15 15:07:17,331 INFO status has been updated to successful\n",
      "INFO:datapi.legacy_api_client:status has been updated to successful\n",
      "                                                                                         "
     ]
    },
    {
     "name": "stdout",
     "output_type": "stream",
     "text": [
      "\u001b[0m  \u001b[0;32m✓ Download completed: C:\\Users\\ATHARV~1\\AppData\\Local\\Temp\\temp_india_yearly_chunk10.zip\u001b[0m\u001b[0m\n",
      "\u001b[0mExtracting zip file: C:\\Users\\ATHARV~1\\AppData\\Local\\Temp\\temp_india_yearly_chunk10.zip\u001b[0m\n",
      "\u001b[0mExtracted NetCDF files:\u001b[0m\n",
      "\u001b[0m  - C:\\Users\\ATHARV~1\\AppData\\Local\\Temp\\temp_india_yearly_chunk10\\data_stream-moda_stepType-avgua.nc\u001b[0m\n",
      "\u001b[0m\n",
      "Processing downloaded data:\u001b[0m\n",
      "\u001b[0m- Found 1 file(s)\u001b[0m\n",
      "\u001b[0m  Processing file 1/1: data_stream-moda_stepType-avgua.nc\u001b[0m\n",
      "\u001b[0m  ✓ Loaded: Dimensions: Frozen({'valid_time': 108, 'latitude': 111, 'longitude': 117})\u001b[0m\n",
      "\u001b[0mStarting optimized filtering process...\u001b[0m\n",
      "\u001b[0m→ Extracting unique lat/lon coordinates from dataset...\u001b[0m\n",
      "\u001b[0m✓ Found 12987 unique lat/lon combinations\u001b[0m\n",
      "\u001b[0m→ Filtering unique coordinates against polygon...\u001b[0m\n"
     ]
    },
    {
     "name": "stderr",
     "output_type": "stream",
     "text": [
      "\r"
     ]
    },
    {
     "name": "stdout",
     "output_type": "stream",
     "text": [
      "\u001b[0m✓ Coordinate filtering completed in 1.03 seconds\u001b[0m\n",
      "\u001b[0m  - Points inside: 4446\u001b[0m\n",
      "\u001b[0m  - Points outside: 8541\u001b[0m\n",
      "\u001b[0m  - Percentage inside: 34.23%\u001b[0m\n",
      "\u001b[0m→ Filtering original dataset using inside coordinates...\u001b[0m\n",
      "\u001b[0m  Converting dataset to DataFrame...\u001b[0m\n",
      "\u001b[0m  ✓ Converted to DataFrame with 1402596 rows\u001b[0m\n",
      "\u001b[0m  ✓ Created lookup set with 4446 coordinate pairs\u001b[0m\n",
      "\u001b[0m  Filtering DataFrame rows...\u001b[0m\n",
      "\u001b[0m  ✓ Filtered from 1402596 to 480168 rows\u001b[0m\n",
      "\u001b[0m✓ Dataset filtering completed in 1.39 seconds\u001b[0m\n",
      "\u001b[0m\n",
      "--- Final Filtering Results ---\u001b[0m\n",
      "\u001b[0mTotal processing time: 2.43 seconds\u001b[0m\n",
      "\u001b[0mFinal DataFrame shape: (480168, 6)\u001b[0m\n",
      "\u001b[0mRows in final dataset: 480168\u001b[0m\n",
      "\u001b[0m\u001b[0;32m✓ Chunk completed in 36.4 seconds\u001b[0m\u001b[0m\n",
      "\u001b[0m\u001b[0;36mPROCESSING CHUNK 11/11\u001b[0m\n",
      "Date Range: 2024-05-01 to 2024-12-31\n",
      "Variables:  2m_temperature\u001b[0m\n",
      "\u001b[0m  → Downloading ERA5 data (attempt 1/6)...\u001b[0m\n"
     ]
    },
    {
     "name": "stderr",
     "output_type": "stream",
     "text": [
      "2025-07-15 15:07:40,366 INFO [2024-09-26T00:00:00] Watch our [Forum](https://forum.ecmwf.int/) for Announcements, news and other discussed topics.\n",
      "INFO:datapi.legacy_api_client:[2024-09-26T00:00:00] Watch our [Forum](https://forum.ecmwf.int/) for Announcements, news and other discussed topics.\n",
      "2025-07-15 15:07:41,204 INFO Request ID is fcf37c79-7b5b-4162-b4db-0b04fa2c16ca\n",
      "INFO:datapi.legacy_api_client:Request ID is fcf37c79-7b5b-4162-b4db-0b04fa2c16ca\n",
      "2025-07-15 15:07:41,391 INFO status has been updated to accepted\n",
      "INFO:datapi.legacy_api_client:status has been updated to accepted\n",
      "2025-07-15 15:07:56,341 INFO status has been updated to running\n",
      "INFO:datapi.legacy_api_client:status has been updated to running\n",
      "2025-07-15 15:08:04,125 INFO status has been updated to successful\n",
      "INFO:datapi.legacy_api_client:status has been updated to successful\n",
      "                                                                                        "
     ]
    },
    {
     "name": "stdout",
     "output_type": "stream",
     "text": [
      "\u001b[0m  \u001b[0;32m✓ Download completed: C:\\Users\\ATHARV~1\\AppData\\Local\\Temp\\temp_india_yearly_chunk11.zip\u001b[0m\u001b[0m\n",
      "\u001b[0mExtracting zip file: C:\\Users\\ATHARV~1\\AppData\\Local\\Temp\\temp_india_yearly_chunk11.zip\u001b[0m\n",
      "\u001b[0mExtracted NetCDF files:\u001b[0m\n",
      "\u001b[0m  - C:\\Users\\ATHARV~1\\AppData\\Local\\Temp\\temp_india_yearly_chunk11\\data_stream-moda_stepType-avgua.nc\u001b[0m\n",
      "\u001b[0m\n",
      "Processing downloaded data:\u001b[0m\n",
      "\u001b[0m- Found 1 file(s)\u001b[0m\n",
      "\u001b[0m  Processing file 1/1: data_stream-moda_stepType-avgua.nc\u001b[0m\n",
      "\u001b[0m  ✓ Loaded: Dimensions: Frozen({'valid_time': 8, 'latitude': 111, 'longitude': 117})\u001b[0m\n",
      "\u001b[0mStarting optimized filtering process...\u001b[0m\n",
      "\u001b[0m→ Extracting unique lat/lon coordinates from dataset...\u001b[0m\n",
      "\u001b[0m✓ Found 12987 unique lat/lon combinations\u001b[0m\n",
      "\u001b[0m→ Filtering unique coordinates against polygon...\u001b[0m\n"
     ]
    },
    {
     "name": "stderr",
     "output_type": "stream",
     "text": [
      "\r"
     ]
    },
    {
     "name": "stdout",
     "output_type": "stream",
     "text": [
      "\u001b[0m✓ Coordinate filtering completed in 1.01 seconds\u001b[0m\n",
      "\u001b[0m  - Points inside: 4446\u001b[0m\n",
      "\u001b[0m  - Points outside: 8541\u001b[0m\n",
      "\u001b[0m  - Percentage inside: 34.23%\u001b[0m\n",
      "\u001b[0m→ Filtering original dataset using inside coordinates...\u001b[0m\n",
      "\u001b[0m  Converting dataset to DataFrame...\u001b[0m\n",
      "\u001b[0m  ✓ Converted to DataFrame with 103896 rows\u001b[0m\n",
      "\u001b[0m  ✓ Created lookup set with 4446 coordinate pairs\u001b[0m\n",
      "\u001b[0m  Filtering DataFrame rows...\u001b[0m\n",
      "\u001b[0m  ✓ Filtered from 103896 to 35568 rows\u001b[0m\n",
      "\u001b[0m✓ Dataset filtering completed in 0.11 seconds\u001b[0m\n",
      "\u001b[0m\n",
      "--- Final Filtering Results ---\u001b[0m\n",
      "\u001b[0mTotal processing time: 1.14 seconds\u001b[0m\n",
      "\u001b[0mFinal DataFrame shape: (35568, 6)\u001b[0m\n",
      "\u001b[0mRows in final dataset: 35568\u001b[0m\n",
      "\u001b[0m\u001b[0;32m✓ Chunk completed in 31.0 seconds\u001b[0m\u001b[0m\n",
      "\u001b[0m\u001b[0;34mAGGREGATING DATA (YEARLY)\u001b[0m\u001b[0m\n",
      "\u001b[0mAggregating data to yearly frequency...\u001b[0m\n",
      "\u001b[0mSum columns: []\u001b[0m\n",
      "\u001b[0mMax columns: []\u001b[0m\n",
      "\u001b[0mMin columns: []\u001b[0m\n",
      "\u001b[0mRate columns: []\u001b[0m\n",
      "\u001b[0mAverage columns: ['t2m']\u001b[0m\n",
      "\u001b[0mAggregation completed in:   1.66 seconds\u001b[0m\n",
      "\u001b[0m\n",
      "Saving files to output directory: temp_india_yearly_output\u001b[0m\n",
      "\u001b[0m  Saved final data to: temp_india_yearly_output\\temp_india_yearly_yearly_data.csv\u001b[0m\n",
      "\u001b[0m  Saved unique coordinates to: temp_india_yearly_output\\temp_india_yearly_unique_latlongs.csv\u001b[0m\n"
     ]
    },
    {
     "name": "stderr",
     "output_type": "stream",
     "text": [
      "D:\\varunayan\\varunayan\\processing\\data_aggregator.py:195: FutureWarning: 'AS' is deprecated and will be removed in a future version, please use 'YS' instead.\n",
      "  result[col] = spatial_agg[col].resample(freq_map[frequency]).mean()\n"
     ]
    },
    {
     "name": "stdout",
     "output_type": "stream",
     "text": [
      "\u001b[0m  Saved raw data to: temp_india_yearly_output\\temp_india_yearly_raw_data.csv\u001b[0m\n",
      "\u001b[0m\n",
      "============================================================\u001b[0m\n",
      "\u001b[0m\u001b[0;32mPROCESSING COMPLETE\u001b[0m\u001b[0m\n",
      "\u001b[0m============================================================\u001b[0m\n",
      "\u001b[0m\n",
      "\u001b[0;36mRESULTS SUMMARY:\u001b[0m\u001b[0m\n",
      "\u001b[0m----------------------------------------\u001b[0m\n",
      "\u001b[0mVariables processed: 1\u001b[0m\n",
      "\u001b[0mTime period:         1941-01-01 to 2024-12-31\u001b[0m\n",
      "\u001b[0mFinal output shape:  (84, 2)\u001b[0m\n",
      "\u001b[0mTotal complete processing time: 602.30 seconds\u001b[0m\n",
      "\u001b[0m\n",
      "First 5 rows of aggregated data:\u001b[0m\n",
      "\u001b[0m          t2m  year\n",
      "0  296.386200  1941\n",
      "1  296.234344  1942\n",
      "2  295.743408  1943\n",
      "3  296.361176  1944\n",
      "4  296.111603  1945\u001b[0m\n",
      "\u001b[0m\n",
      "============================================================\u001b[0m\n",
      "\u001b[0m\u001b[0;34mERA5 SINGLE LEVEL PROCESSING COMPLETED SUCCESSFULLY\u001b[0m\u001b[0m\n",
      "\u001b[0m============================================================\u001b[0m\n"
     ]
    }
   ],
   "source": [
    "df = varunayan.era5ify_geojson(request_id=\"temp_india_yearly\", \n",
    "                             variables=[\"2m_temperature\"],\n",
    "                             start_date=\"1941-1-1\",\n",
    "                             end_date=\"2024-12-31\",\n",
    "                             json_file=\"../data/india.json\",\n",
    "                             frequency=\"yearly\")"
   ]
  },
  {
   "cell_type": "code",
   "execution_count": 3,
   "metadata": {},
   "outputs": [
    {
     "data": {
      "text/html": [
       "<div>\n",
       "<style scoped>\n",
       "    .dataframe tbody tr th:only-of-type {\n",
       "        vertical-align: middle;\n",
       "    }\n",
       "\n",
       "    .dataframe tbody tr th {\n",
       "        vertical-align: top;\n",
       "    }\n",
       "\n",
       "    .dataframe thead th {\n",
       "        text-align: right;\n",
       "    }\n",
       "</style>\n",
       "<table border=\"1\" class=\"dataframe\">\n",
       "  <thead>\n",
       "    <tr style=\"text-align: right;\">\n",
       "      <th></th>\n",
       "      <th>t2m</th>\n",
       "      <th>year</th>\n",
       "      <th>dev</th>\n",
       "    </tr>\n",
       "  </thead>\n",
       "  <tbody>\n",
       "    <tr>\n",
       "      <th>0</th>\n",
       "      <td>296.386200</td>\n",
       "      <td>1941</td>\n",
       "      <td>-0.202301</td>\n",
       "    </tr>\n",
       "    <tr>\n",
       "      <th>1</th>\n",
       "      <td>296.234344</td>\n",
       "      <td>1942</td>\n",
       "      <td>-0.354156</td>\n",
       "    </tr>\n",
       "    <tr>\n",
       "      <th>2</th>\n",
       "      <td>295.743408</td>\n",
       "      <td>1943</td>\n",
       "      <td>-0.845093</td>\n",
       "    </tr>\n",
       "    <tr>\n",
       "      <th>3</th>\n",
       "      <td>296.361176</td>\n",
       "      <td>1944</td>\n",
       "      <td>-0.227325</td>\n",
       "    </tr>\n",
       "    <tr>\n",
       "      <th>4</th>\n",
       "      <td>296.111603</td>\n",
       "      <td>1945</td>\n",
       "      <td>-0.476898</td>\n",
       "    </tr>\n",
       "  </tbody>\n",
       "</table>\n",
       "</div>"
      ],
      "text/plain": [
       "          t2m  year       dev\n",
       "0  296.386200  1941 -0.202301\n",
       "1  296.234344  1942 -0.354156\n",
       "2  295.743408  1943 -0.845093\n",
       "3  296.361176  1944 -0.227325\n",
       "4  296.111603  1945 -0.476898"
      ]
     },
     "execution_count": 3,
     "metadata": {},
     "output_type": "execute_result"
    }
   ],
   "source": [
    "mean_t2m = df['t2m'].mean()\n",
    "\n",
    "df['dev'] = df['t2m'] - mean_t2m\n",
    "\n",
    "df.head()"
   ]
  },
  {
   "cell_type": "code",
   "execution_count": 4,
   "metadata": {},
   "outputs": [],
   "source": [
    "import matplotlib.pyplot as plt\n",
    "import matplotlib.cm as cm\n",
    "import matplotlib.colors as mcolors"
   ]
  },
  {
   "cell_type": "code",
   "execution_count": 5,
   "metadata": {},
   "outputs": [],
   "source": [
    "norm = mcolors.Normalize(vmin=df['dev'].min(), vmax=df['dev'].max())"
   ]
  },
  {
   "cell_type": "code",
   "execution_count": 6,
   "metadata": {},
   "outputs": [],
   "source": [
    "cmap = plt.colormaps['coolwarm']"
   ]
  },
  {
   "cell_type": "code",
   "execution_count": 7,
   "metadata": {},
   "outputs": [],
   "source": [
    "colors = cmap(norm(df['dev']))"
   ]
  },
  {
   "cell_type": "code",
   "execution_count": 8,
   "metadata": {},
   "outputs": [
    {
     "data": {
      "image/png": "[encoded data removed]",
      "text/plain": [
       "<Figure size 1400x600 with 2 Axes>"
      ]
     },
     "metadata": {},
     "output_type": "display_data"
    }
   ],
   "source": [
    "fig, ax = plt.subplots(figsize=(14, 6))\n",
    "bars = ax.bar(df['year'], df['dev'], color=colors)\n",
    "\n",
    "sm = cm.ScalarMappable(cmap=cmap, norm=norm)\n",
    "sm.set_array(df['dev'].values)\n",
    "\n",
    "cbar = fig.colorbar(sm, ax=ax)\n",
    "cbar.set_label('Deviation')\n",
    "\n",
    "ax.set_xlabel('Year')\n",
    "ax.set_ylabel('Deviation')\n",
    "ax.set_title('Temperature change in India')\n",
    "\n",
    "plt.tight_layout()\n",
    "plt.show()"
   ]
  }
 ],
 "metadata": {
  "kernelspec": {
   "display_name": "Python 3",
   "language": "python",
   "name": "python3"
  },
  "language_info": {
   "codemirror_mode": {
    "name": "ipython",
    "version": 3
   },
   "file_extension": ".py",
   "mimetype": "text/x-python",
   "name": "python",
   "nbconvert_exporter": "python",
   "pygments_lexer": "ipython3",
   "version": "3.12.2"
  },
  "widgets": {
   "application/vnd.jupyter.widget-state+json": {
    "state": {},
    "version_major": 2,
    "version_minor": 0
   }
  }
 },
 "nbformat": 4,
 "nbformat_minor": 4
}
